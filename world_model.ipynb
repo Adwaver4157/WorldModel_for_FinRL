{
 "cells": [
  {
   "cell_type": "markdown",
   "metadata": {
    "colab_type": "text",
    "id": "view-in-github"
   },
   "source": [
    "<a href=\"https://colab.research.google.com/github/AI4Finance-LLC/FinRL-Library/blob/master/FinRL_single_stock_trading.ipynb\" target=\"_parent\"><img src=\"https://colab.research.google.com/assets/colab-badge.svg\" alt=\"Open In Colab\"/></a>"
   ]
  },
  {
   "cell_type": "markdown",
   "metadata": {
    "id": "Idd1jem0TnST"
   },
   "source": [
    "# Deep Reinforcement Learning for Stock Trading from Scratch: Single Stock Trading\n",
    "\n",
    "Tutorials to use OpenAI DRL to trade single stock in one Jupyter Notebook | Presented at NeurIPS 2020: Deep RL Workshop\n",
    "\n",
    "* This blog is based on our paper: FinRL: A Deep Reinforcement Learning Library for Automated Stock Trading in Quantitative Finance, presented at NeurIPS 2020: Deep RL Workshop.\n",
    "* Check out medium blog for detailed explanations: https://towardsdatascience.com/finrl-for-quantitative-finance-tutorial-for-single-stock-trading-37d6d7c30aac\n",
    "* Please report any issues to our Github: https://github.com/AI4Finance-LLC/FinRL-Library/issues\n",
    "* **Pytorch Version** \n",
    "\n",
    "\n"
   ]
  },
  {
   "cell_type": "markdown",
   "metadata": {
    "id": "5vglc_9N5-KZ"
   },
   "source": [
    "## Content"
   ]
  },
  {
   "cell_type": "markdown",
   "metadata": {
    "id": "ex2ord116AbP"
   },
   "source": [
    "* [1. Problem Definition](#0)\n",
    "* [2. Getting Started - Load Python packages](#1)\n",
    "    * [2.1. Install Packages](#1.1)    \n",
    "    * [2.2. Check Additional Packages](#1.2)\n",
    "    * [2.3. Import Packages](#1.3)\n",
    "    * [2.4. Create Folders](#1.4)\n",
    "* [3. Download Data](#2)\n",
    "* [4. Preprocess Data](#3)        \n",
    "    * [4.1. Technical Indicators](#3.1)\n",
    "    * [4.2. Perform Feature Engineering](#3.2)\n",
    "* [5.Build Environment](#4)  \n",
    "    * [5.1. Training & Trade Data Split](#4.1)\n",
    "    * [5.2. User-defined Environment](#4.2)   \n",
    "    * [5.3. Initialize Environment](#4.3)    \n",
    "* [6.Implement DRL Algorithms](#5)  \n",
    "* [7.Backtesting Performance](#6)  \n",
    "    * [7.1. BackTestStats](#6.1)\n",
    "    * [7.2. BackTestPlot](#6.2)   \n",
    "    * [7.3. Baseline Stats](#6.3)   \n",
    "    * [7.3. Compare to Stock Market Index](#6.4)             "
   ]
  },
  {
   "cell_type": "markdown",
   "metadata": {
    "id": "M1eLhMW36cLi"
   },
   "source": [
    "<a id='0'></a>\n",
    "# Part 1. Problem Definition"
   ]
  },
  {
   "cell_type": "markdown",
   "metadata": {
    "id": "3eimeRv06YoK"
   },
   "source": [
    "This problem is to design an automated trading solution for single stock trading. We model the stock trading process as a Markov Decision Process (MDP). We then formulate our trading goal as a maximization problem.\n",
    "\n",
    "The components of the reinforcement learning environment are:\n",
    "\n",
    "\n",
    "* Action: The action space describes the allowed actions that the agent interacts with the\n",
    "environment. Normally, a ∈ A includes three actions: a ∈ {−1, 0, 1}, where −1, 0, 1 represent\n",
    "selling, holding, and buying one stock. Also, an action can be carried upon multiple shares. We use\n",
    "an action space {−k, ..., −1, 0, 1, ..., k}, where k denotes the number of shares. For example, \"Buy\n",
    "10 shares of AAPL\" or \"Sell 10 shares of AAPL\" are 10 or −10, respectively\n",
    "\n",
    "* Reward function: r(s, a, s′) is the incentive mechanism for an agent to learn a better action. The change of the portfolio value when action a is taken at state s and arriving at new state s',  i.e., r(s, a, s′) = v′ − v, where v′ and v represent the portfolio\n",
    "values at state s′ and s, respectively\n",
    "\n",
    "* State: The state space describes the observations that the agent receives from the environment. Just as a human trader needs to analyze various information before executing a trade, so\n",
    "our trading agent observes many different features to better learn in an interactive environment.\n",
    "\n",
    "* Environment: single stock trading for AAPL\n",
    "\n",
    "\n",
    "The data of the single stock that we will be using for this case study is obtained from Yahoo Finance API. The data contains Open-High-Low-Close price and volume.\n",
    "\n",
    "We use Apple Inc. stock: AAPL as an example throughout this article, because it is one of the most popular and profitable stocks."
   ]
  },
  {
   "cell_type": "markdown",
   "metadata": {
    "id": "xD3f90UnTnSU"
   },
   "source": [
    "<a id='1'></a>\n",
    "# Part 2. Getting Started- Load Python Packages"
   ]
  },
  {
   "cell_type": "markdown",
   "metadata": {
    "id": "UBUcBKap-oII"
   },
   "source": [
    "<a id='1.1'></a>\n",
    "## 2.1. Install all the packages through FinRL library\n"
   ]
  },
  {
   "cell_type": "code",
   "execution_count": 1,
   "metadata": {
    "colab": {
     "base_uri": "https://localhost:8080/"
    },
    "id": "40axJBAP5mer",
    "outputId": "0e61993b-e962-4b70-a178-fe86404dd1ca"
   },
   "outputs": [
    {
     "name": "stdout",
     "output_type": "stream",
     "text": [
      "Collecting git+https://github.com/AI4Finance-LLC/FinRL-Library.git\n",
      "  Cloning https://github.com/AI4Finance-LLC/FinRL-Library.git to /tmp/pip-req-build-2vsqa18p\n",
      "  Running command git clone -q https://github.com/AI4Finance-LLC/FinRL-Library.git /tmp/pip-req-build-2vsqa18p\n",
      "Collecting pyfolio@ git+https://github.com/quantopian/pyfolio.git#egg=pyfolio-0.9.2\n",
      "  Cloning https://github.com/quantopian/pyfolio.git to /tmp/pip-install-5q31gly7/pyfolio_2b058563b25e402d814ebdded007db5b\n",
      "  Running command git clone -q https://github.com/quantopian/pyfolio.git /tmp/pip-install-5q31gly7/pyfolio_2b058563b25e402d814ebdded007db5b\n",
      "Requirement already satisfied: numpy in /home/adwaver/.local/share/virtualenvs/rltrader-eJaSlovB/lib/python3.8/site-packages (from finrl==0.3.0) (1.19.5)\n",
      "Requirement already satisfied: pandas>=1.1.5 in /home/adwaver/.local/share/virtualenvs/rltrader-eJaSlovB/lib/python3.8/site-packages (from finrl==0.3.0) (1.2.3)\n",
      "Requirement already satisfied: stockstats in /home/adwaver/.local/share/virtualenvs/rltrader-eJaSlovB/lib/python3.8/site-packages (from finrl==0.3.0) (0.3.2)\n",
      "Requirement already satisfied: yfinance in /home/adwaver/.local/share/virtualenvs/rltrader-eJaSlovB/lib/python3.8/site-packages (from finrl==0.3.0) (0.1.59)\n",
      "Requirement already satisfied: matplotlib in /home/adwaver/.local/share/virtualenvs/rltrader-eJaSlovB/lib/python3.8/site-packages (from finrl==0.3.0) (3.4.0)\n",
      "Requirement already satisfied: scikit-learn>=0.21.0 in /home/adwaver/.local/share/virtualenvs/rltrader-eJaSlovB/lib/python3.8/site-packages (from finrl==0.3.0) (0.24.1)\n",
      "Requirement already satisfied: gym>=0.17 in /home/adwaver/.local/share/virtualenvs/rltrader-eJaSlovB/lib/python3.8/site-packages (from finrl==0.3.0) (0.18.0)\n",
      "Requirement already satisfied: stable-baselines3[extra] in /home/adwaver/.local/share/virtualenvs/rltrader-eJaSlovB/lib/python3.8/site-packages (from finrl==0.3.0) (1.0)\n",
      "Collecting pytest\n",
      "  Using cached pytest-6.2.2-py3-none-any.whl (280 kB)\n",
      "Requirement already satisfied: setuptools>=41.4.0 in /home/adwaver/.local/share/virtualenvs/rltrader-eJaSlovB/lib/python3.8/site-packages (from finrl==0.3.0) (54.1.2)\n",
      "Requirement already satisfied: wheel>=0.33.6 in /home/adwaver/.local/share/virtualenvs/rltrader-eJaSlovB/lib/python3.8/site-packages (from finrl==0.3.0) (0.36.2)\n",
      "Requirement already satisfied: ipython>=3.2.3 in /home/adwaver/.local/share/virtualenvs/rltrader-eJaSlovB/lib/python3.8/site-packages (from pyfolio@ git+https://github.com/quantopian/pyfolio.git#egg=pyfolio-0.9.2->finrl==0.3.0) (7.22.0)\n",
      "Requirement already satisfied: pytz>=2014.10 in /home/adwaver/.local/share/virtualenvs/rltrader-eJaSlovB/lib/python3.8/site-packages (from pyfolio@ git+https://github.com/quantopian/pyfolio.git#egg=pyfolio-0.9.2->finrl==0.3.0) (2021.1)\n",
      "Requirement already satisfied: scipy>=0.14.0 in /home/adwaver/.local/share/virtualenvs/rltrader-eJaSlovB/lib/python3.8/site-packages (from pyfolio@ git+https://github.com/quantopian/pyfolio.git#egg=pyfolio-0.9.2->finrl==0.3.0) (1.6.2)\n",
      "Requirement already satisfied: seaborn>=0.7.1 in /home/adwaver/.local/share/virtualenvs/rltrader-eJaSlovB/lib/python3.8/site-packages (from pyfolio@ git+https://github.com/quantopian/pyfolio.git#egg=pyfolio-0.9.2->finrl==0.3.0) (0.11.1)\n",
      "Requirement already satisfied: empyrical>=0.5.0 in /home/adwaver/.local/share/virtualenvs/rltrader-eJaSlovB/lib/python3.8/site-packages (from pyfolio@ git+https://github.com/quantopian/pyfolio.git#egg=pyfolio-0.9.2->finrl==0.3.0) (0.5.5)\n",
      "Requirement already satisfied: pandas-datareader>=0.2 in /home/adwaver/.local/share/virtualenvs/rltrader-eJaSlovB/lib/python3.8/site-packages (from empyrical>=0.5.0->pyfolio@ git+https://github.com/quantopian/pyfolio.git#egg=pyfolio-0.9.2->finrl==0.3.0) (0.9.0)\n",
      "Requirement already satisfied: Pillow<=7.2.0 in /home/adwaver/.local/share/virtualenvs/rltrader-eJaSlovB/lib/python3.8/site-packages (from gym>=0.17->finrl==0.3.0) (7.2.0)\n",
      "Requirement already satisfied: cloudpickle<1.7.0,>=1.2.0 in /home/adwaver/.local/share/virtualenvs/rltrader-eJaSlovB/lib/python3.8/site-packages (from gym>=0.17->finrl==0.3.0) (1.6.0)\n",
      "Requirement already satisfied: pyglet<=1.5.0,>=1.4.0 in /home/adwaver/.local/share/virtualenvs/rltrader-eJaSlovB/lib/python3.8/site-packages (from gym>=0.17->finrl==0.3.0) (1.5.0)\n",
      "Requirement already satisfied: pickleshare in /home/adwaver/.local/share/virtualenvs/rltrader-eJaSlovB/lib/python3.8/site-packages (from ipython>=3.2.3->pyfolio@ git+https://github.com/quantopian/pyfolio.git#egg=pyfolio-0.9.2->finrl==0.3.0) (0.7.5)\n",
      "Requirement already satisfied: jedi>=0.16 in /home/adwaver/.local/share/virtualenvs/rltrader-eJaSlovB/lib/python3.8/site-packages (from ipython>=3.2.3->pyfolio@ git+https://github.com/quantopian/pyfolio.git#egg=pyfolio-0.9.2->finrl==0.3.0) (0.18.0)\n",
      "Requirement already satisfied: pexpect>4.3 in /home/adwaver/.local/share/virtualenvs/rltrader-eJaSlovB/lib/python3.8/site-packages (from ipython>=3.2.3->pyfolio@ git+https://github.com/quantopian/pyfolio.git#egg=pyfolio-0.9.2->finrl==0.3.0) (4.8.0)\n",
      "Requirement already satisfied: decorator in /home/adwaver/.local/share/virtualenvs/rltrader-eJaSlovB/lib/python3.8/site-packages (from ipython>=3.2.3->pyfolio@ git+https://github.com/quantopian/pyfolio.git#egg=pyfolio-0.9.2->finrl==0.3.0) (4.4.2)\n",
      "Requirement already satisfied: prompt-toolkit!=3.0.0,!=3.0.1,<3.1.0,>=2.0.0 in /home/adwaver/.local/share/virtualenvs/rltrader-eJaSlovB/lib/python3.8/site-packages (from ipython>=3.2.3->pyfolio@ git+https://github.com/quantopian/pyfolio.git#egg=pyfolio-0.9.2->finrl==0.3.0) (3.0.18)\n",
      "Requirement already satisfied: backcall in /home/adwaver/.local/share/virtualenvs/rltrader-eJaSlovB/lib/python3.8/site-packages (from ipython>=3.2.3->pyfolio@ git+https://github.com/quantopian/pyfolio.git#egg=pyfolio-0.9.2->finrl==0.3.0) (0.2.0)\n",
      "Requirement already satisfied: pygments in /home/adwaver/.local/share/virtualenvs/rltrader-eJaSlovB/lib/python3.8/site-packages (from ipython>=3.2.3->pyfolio@ git+https://github.com/quantopian/pyfolio.git#egg=pyfolio-0.9.2->finrl==0.3.0) (2.8.1)\n",
      "Requirement already satisfied: traitlets>=4.2 in /home/adwaver/.local/share/virtualenvs/rltrader-eJaSlovB/lib/python3.8/site-packages (from ipython>=3.2.3->pyfolio@ git+https://github.com/quantopian/pyfolio.git#egg=pyfolio-0.9.2->finrl==0.3.0) (5.0.5)\n",
      "Requirement already satisfied: parso<0.9.0,>=0.8.0 in /home/adwaver/.local/share/virtualenvs/rltrader-eJaSlovB/lib/python3.8/site-packages (from jedi>=0.16->ipython>=3.2.3->pyfolio@ git+https://github.com/quantopian/pyfolio.git#egg=pyfolio-0.9.2->finrl==0.3.0) (0.8.1)\n",
      "Requirement already satisfied: kiwisolver>=1.0.1 in /home/adwaver/.local/share/virtualenvs/rltrader-eJaSlovB/lib/python3.8/site-packages (from matplotlib->finrl==0.3.0) (1.3.1)\n",
      "Requirement already satisfied: pyparsing>=2.2.1 in /home/adwaver/.local/share/virtualenvs/rltrader-eJaSlovB/lib/python3.8/site-packages (from matplotlib->finrl==0.3.0) (2.4.7)\n",
      "Requirement already satisfied: cycler>=0.10 in /home/adwaver/.local/share/virtualenvs/rltrader-eJaSlovB/lib/python3.8/site-packages (from matplotlib->finrl==0.3.0) (0.10.0)\n",
      "Requirement already satisfied: python-dateutil>=2.7 in /home/adwaver/.local/share/virtualenvs/rltrader-eJaSlovB/lib/python3.8/site-packages (from matplotlib->finrl==0.3.0) (2.8.1)\n",
      "Requirement already satisfied: six in /home/adwaver/.local/share/virtualenvs/rltrader-eJaSlovB/lib/python3.8/site-packages (from cycler>=0.10->matplotlib->finrl==0.3.0) (1.15.0)\n",
      "Requirement already satisfied: requests>=2.19.0 in /home/adwaver/.local/share/virtualenvs/rltrader-eJaSlovB/lib/python3.8/site-packages (from pandas-datareader>=0.2->empyrical>=0.5.0->pyfolio@ git+https://github.com/quantopian/pyfolio.git#egg=pyfolio-0.9.2->finrl==0.3.0) (2.25.1)\n",
      "Requirement already satisfied: lxml in /home/adwaver/.local/share/virtualenvs/rltrader-eJaSlovB/lib/python3.8/site-packages (from pandas-datareader>=0.2->empyrical>=0.5.0->pyfolio@ git+https://github.com/quantopian/pyfolio.git#egg=pyfolio-0.9.2->finrl==0.3.0) (4.6.3)\n",
      "Requirement already satisfied: ptyprocess>=0.5 in /home/adwaver/.local/share/virtualenvs/rltrader-eJaSlovB/lib/python3.8/site-packages (from pexpect>4.3->ipython>=3.2.3->pyfolio@ git+https://github.com/quantopian/pyfolio.git#egg=pyfolio-0.9.2->finrl==0.3.0) (0.7.0)\n",
      "Requirement already satisfied: wcwidth in /home/adwaver/.local/share/virtualenvs/rltrader-eJaSlovB/lib/python3.8/site-packages (from prompt-toolkit!=3.0.0,!=3.0.1,<3.1.0,>=2.0.0->ipython>=3.2.3->pyfolio@ git+https://github.com/quantopian/pyfolio.git#egg=pyfolio-0.9.2->finrl==0.3.0) (0.2.5)\n"
     ]
    },
    {
     "name": "stdout",
     "output_type": "stream",
     "text": [
      "Requirement already satisfied: future in /home/adwaver/.local/share/virtualenvs/rltrader-eJaSlovB/lib/python3.8/site-packages (from pyglet<=1.5.0,>=1.4.0->gym>=0.17->finrl==0.3.0) (0.18.2)\n",
      "Requirement already satisfied: chardet<5,>=3.0.2 in /home/adwaver/.local/share/virtualenvs/rltrader-eJaSlovB/lib/python3.8/site-packages (from requests>=2.19.0->pandas-datareader>=0.2->empyrical>=0.5.0->pyfolio@ git+https://github.com/quantopian/pyfolio.git#egg=pyfolio-0.9.2->finrl==0.3.0) (4.0.0)\n",
      "Requirement already satisfied: idna<3,>=2.5 in /home/adwaver/.local/share/virtualenvs/rltrader-eJaSlovB/lib/python3.8/site-packages (from requests>=2.19.0->pandas-datareader>=0.2->empyrical>=0.5.0->pyfolio@ git+https://github.com/quantopian/pyfolio.git#egg=pyfolio-0.9.2->finrl==0.3.0) (2.10)\n",
      "Requirement already satisfied: certifi>=2017.4.17 in /home/adwaver/.local/share/virtualenvs/rltrader-eJaSlovB/lib/python3.8/site-packages (from requests>=2.19.0->pandas-datareader>=0.2->empyrical>=0.5.0->pyfolio@ git+https://github.com/quantopian/pyfolio.git#egg=pyfolio-0.9.2->finrl==0.3.0) (2020.12.5)\n",
      "Requirement already satisfied: urllib3<1.27,>=1.21.1 in /home/adwaver/.local/share/virtualenvs/rltrader-eJaSlovB/lib/python3.8/site-packages (from requests>=2.19.0->pandas-datareader>=0.2->empyrical>=0.5.0->pyfolio@ git+https://github.com/quantopian/pyfolio.git#egg=pyfolio-0.9.2->finrl==0.3.0) (1.26.4)\n",
      "Requirement already satisfied: joblib>=0.11 in /home/adwaver/.local/share/virtualenvs/rltrader-eJaSlovB/lib/python3.8/site-packages (from scikit-learn>=0.21.0->finrl==0.3.0) (1.0.1)\n",
      "Requirement already satisfied: threadpoolctl>=2.0.0 in /home/adwaver/.local/share/virtualenvs/rltrader-eJaSlovB/lib/python3.8/site-packages (from scikit-learn>=0.21.0->finrl==0.3.0) (2.1.0)\n",
      "Requirement already satisfied: ipython-genutils in /home/adwaver/.local/share/virtualenvs/rltrader-eJaSlovB/lib/python3.8/site-packages (from traitlets>=4.2->ipython>=3.2.3->pyfolio@ git+https://github.com/quantopian/pyfolio.git#egg=pyfolio-0.9.2->finrl==0.3.0) (0.2.0)\n",
      "Requirement already satisfied: iniconfig in /home/adwaver/.local/share/virtualenvs/rltrader-eJaSlovB/lib/python3.8/site-packages (from pytest->finrl==0.3.0) (1.1.1)\n",
      "Requirement already satisfied: attrs>=19.2.0 in /home/adwaver/.local/share/virtualenvs/rltrader-eJaSlovB/lib/python3.8/site-packages (from pytest->finrl==0.3.0) (20.3.0)\n",
      "Requirement already satisfied: toml in /home/adwaver/.local/share/virtualenvs/rltrader-eJaSlovB/lib/python3.8/site-packages (from pytest->finrl==0.3.0) (0.10.2)\n",
      "Requirement already satisfied: pluggy<1.0.0a1,>=0.12 in /home/adwaver/.local/share/virtualenvs/rltrader-eJaSlovB/lib/python3.8/site-packages (from pytest->finrl==0.3.0) (0.13.1)\n",
      "Requirement already satisfied: py>=1.8.2 in /home/adwaver/.local/share/virtualenvs/rltrader-eJaSlovB/lib/python3.8/site-packages (from pytest->finrl==0.3.0) (1.10.0)\n",
      "Requirement already satisfied: packaging in /home/adwaver/.local/share/virtualenvs/rltrader-eJaSlovB/lib/python3.8/site-packages (from pytest->finrl==0.3.0) (20.9)\n",
      "Requirement already satisfied: torch>=1.4.0 in /home/adwaver/.local/share/virtualenvs/rltrader-eJaSlovB/lib/python3.8/site-packages (from stable-baselines3[extra]->finrl==0.3.0) (1.8.1)\n",
      "Requirement already satisfied: psutil in /home/adwaver/.local/share/virtualenvs/rltrader-eJaSlovB/lib/python3.8/site-packages (from stable-baselines3[extra]->finrl==0.3.0) (5.8.0)\n",
      "Requirement already satisfied: opencv-python in /home/adwaver/.local/share/virtualenvs/rltrader-eJaSlovB/lib/python3.8/site-packages (from stable-baselines3[extra]->finrl==0.3.0) (4.5.1.48)\n",
      "Collecting atari-py~=0.2.0\n",
      "  Using cached atari-py-0.2.6.tar.gz (790 kB)\n",
      "Requirement already satisfied: tensorboard>=2.2.0 in /home/adwaver/.local/share/virtualenvs/rltrader-eJaSlovB/lib/python3.8/site-packages (from stable-baselines3[extra]->finrl==0.3.0) (2.4.1)\n",
      "Requirement already satisfied: werkzeug>=0.11.15 in /home/adwaver/.local/share/virtualenvs/rltrader-eJaSlovB/lib/python3.8/site-packages (from tensorboard>=2.2.0->stable-baselines3[extra]->finrl==0.3.0) (1.0.1)\n",
      "Requirement already satisfied: protobuf>=3.6.0 in /home/adwaver/.local/share/virtualenvs/rltrader-eJaSlovB/lib/python3.8/site-packages (from tensorboard>=2.2.0->stable-baselines3[extra]->finrl==0.3.0) (3.15.6)\n",
      "Requirement already satisfied: tensorboard-plugin-wit>=1.6.0 in /home/adwaver/.local/share/virtualenvs/rltrader-eJaSlovB/lib/python3.8/site-packages (from tensorboard>=2.2.0->stable-baselines3[extra]->finrl==0.3.0) (1.8.0)\n",
      "Requirement already satisfied: grpcio>=1.24.3 in /home/adwaver/.local/share/virtualenvs/rltrader-eJaSlovB/lib/python3.8/site-packages (from tensorboard>=2.2.0->stable-baselines3[extra]->finrl==0.3.0) (1.32.0)\n",
      "Requirement already satisfied: markdown>=2.6.8 in /home/adwaver/.local/share/virtualenvs/rltrader-eJaSlovB/lib/python3.8/site-packages (from tensorboard>=2.2.0->stable-baselines3[extra]->finrl==0.3.0) (3.3.4)\n",
      "Requirement already satisfied: absl-py>=0.4 in /home/adwaver/.local/share/virtualenvs/rltrader-eJaSlovB/lib/python3.8/site-packages (from tensorboard>=2.2.0->stable-baselines3[extra]->finrl==0.3.0) (0.12.0)\n",
      "Requirement already satisfied: google-auth-oauthlib<0.5,>=0.4.1 in /home/adwaver/.local/share/virtualenvs/rltrader-eJaSlovB/lib/python3.8/site-packages (from tensorboard>=2.2.0->stable-baselines3[extra]->finrl==0.3.0) (0.4.3)\n",
      "Requirement already satisfied: google-auth<2,>=1.6.3 in /home/adwaver/.local/share/virtualenvs/rltrader-eJaSlovB/lib/python3.8/site-packages (from tensorboard>=2.2.0->stable-baselines3[extra]->finrl==0.3.0) (1.28.0)\n",
      "Requirement already satisfied: rsa<5,>=3.1.4 in /home/adwaver/.local/share/virtualenvs/rltrader-eJaSlovB/lib/python3.8/site-packages (from google-auth<2,>=1.6.3->tensorboard>=2.2.0->stable-baselines3[extra]->finrl==0.3.0) (4.7.2)\n",
      "Requirement already satisfied: cachetools<5.0,>=2.0.0 in /home/adwaver/.local/share/virtualenvs/rltrader-eJaSlovB/lib/python3.8/site-packages (from google-auth<2,>=1.6.3->tensorboard>=2.2.0->stable-baselines3[extra]->finrl==0.3.0) (4.2.1)\n",
      "Requirement already satisfied: pyasn1-modules>=0.2.1 in /home/adwaver/.local/share/virtualenvs/rltrader-eJaSlovB/lib/python3.8/site-packages (from google-auth<2,>=1.6.3->tensorboard>=2.2.0->stable-baselines3[extra]->finrl==0.3.0) (0.2.8)\n",
      "Requirement already satisfied: requests-oauthlib>=0.7.0 in /home/adwaver/.local/share/virtualenvs/rltrader-eJaSlovB/lib/python3.8/site-packages (from google-auth-oauthlib<0.5,>=0.4.1->tensorboard>=2.2.0->stable-baselines3[extra]->finrl==0.3.0) (1.3.0)\n",
      "Requirement already satisfied: pyasn1<0.5.0,>=0.4.6 in /home/adwaver/.local/share/virtualenvs/rltrader-eJaSlovB/lib/python3.8/site-packages (from pyasn1-modules>=0.2.1->google-auth<2,>=1.6.3->tensorboard>=2.2.0->stable-baselines3[extra]->finrl==0.3.0) (0.4.8)\n",
      "Requirement already satisfied: oauthlib>=3.0.0 in /home/adwaver/.local/share/virtualenvs/rltrader-eJaSlovB/lib/python3.8/site-packages (from requests-oauthlib>=0.7.0->google-auth-oauthlib<0.5,>=0.4.1->tensorboard>=2.2.0->stable-baselines3[extra]->finrl==0.3.0) (3.1.0)\n",
      "Requirement already satisfied: typing-extensions in /home/adwaver/.local/share/virtualenvs/rltrader-eJaSlovB/lib/python3.8/site-packages (from torch>=1.4.0->stable-baselines3[extra]->finrl==0.3.0) (3.7.4.3)\n",
      "Requirement already satisfied: int-date>=0.1.7 in /home/adwaver/.local/share/virtualenvs/rltrader-eJaSlovB/lib/python3.8/site-packages (from stockstats->finrl==0.3.0) (0.1.8)\n",
      "Requirement already satisfied: multitasking>=0.0.7 in /home/adwaver/.local/share/virtualenvs/rltrader-eJaSlovB/lib/python3.8/site-packages (from yfinance->finrl==0.3.0) (0.0.9)\n",
      "Building wheels for collected packages: finrl, pyfolio, atari-py\n",
      "  Building wheel for finrl (setup.py) ... \u001b[?25ldone\n",
      "\u001b[?25h  Created wheel for finrl: filename=finrl-0.3.0-py3-none-any.whl size=38394 sha256=e89ebc20663da9380a1d6313e87fee81495b0a210a2f8de3172d28a4ee118c79\n",
      "  Stored in directory: /tmp/pip-ephem-wheel-cache-nlig4f83/wheels/e8/19/74/11261997d6bdca44ba73e8eeedb94a3e3d340259516a0887eb\n",
      "  Building wheel for pyfolio (setup.py) ... \u001b[?25ldone\n",
      "\u001b[?25h  Created wheel for pyfolio: filename=pyfolio-0.9.2+75.g4b901f6-py3-none-any.whl size=75762 sha256=7fd5b2b65f73e1f31945cc48fc940b25b12950e762f201b6b39c0ac766ee1416\n",
      "  Stored in directory: /tmp/pip-ephem-wheel-cache-nlig4f83/wheels/7b/59/8b/3c276a18b58c04a1fd0e1351e979fb5396f93fbde5b5438df1\n"
     ]
    },
    {
     "name": "stdout",
     "output_type": "stream",
     "text": [
      "  Building wheel for atari-py (setup.py) ... \u001b[?25lerror\n",
      "\u001b[31m  ERROR: Command errored out with exit status 1:\n",
      "   command: /home/adwaver/.local/share/virtualenvs/rltrader-eJaSlovB/bin/python -u -c 'import sys, setuptools, tokenize; sys.argv[0] = '\"'\"'/tmp/pip-install-5q31gly7/atari-py_f83eedeca54548d0a022fc0dd72ca748/setup.py'\"'\"'; __file__='\"'\"'/tmp/pip-install-5q31gly7/atari-py_f83eedeca54548d0a022fc0dd72ca748/setup.py'\"'\"';f=getattr(tokenize, '\"'\"'open'\"'\"', open)(__file__);code=f.read().replace('\"'\"'\\r\\n'\"'\"', '\"'\"'\\n'\"'\"');f.close();exec(compile(code, __file__, '\"'\"'exec'\"'\"'))' bdist_wheel -d /tmp/pip-wheel-jl3dur6h\n",
      "       cwd: /tmp/pip-install-5q31gly7/atari-py_f83eedeca54548d0a022fc0dd72ca748/\n",
      "  Complete output (504 lines):\n",
      "  running bdist_wheel\n",
      "  running build\n",
      "  running build_py\n",
      "  creating build\n",
      "  creating build/lib.linux-x86_64-3.8\n",
      "  creating build/lib.linux-x86_64-3.8/atari_py\n",
      "  copying atari_py/ale_python_interface.py -> build/lib.linux-x86_64-3.8/atari_py\n",
      "  copying atari_py/__init__.py -> build/lib.linux-x86_64-3.8/atari_py\n",
      "  copying atari_py/ale_c_wrapper.cpp -> build/lib.linux-x86_64-3.8/atari_py\n",
      "  copying atari_py/ale_c_wrapper.h -> build/lib.linux-x86_64-3.8/atari_py\n",
      "  creating build/lib.linux-x86_64-3.8/atari_py/ale_interface\n",
      "  copying atari_py/ale_interface/CMakeLists.txt -> build/lib.linux-x86_64-3.8/atari_py/ale_interface\n",
      "  creating build/lib.linux-x86_64-3.8/atari_py/ale_interface/src\n",
      "  copying atari_py/ale_interface/src/ale_interface.cpp -> build/lib.linux-x86_64-3.8/atari_py/ale_interface/src\n",
      "  copying atari_py/ale_interface/src/ale_interface.hpp -> build/lib.linux-x86_64-3.8/atari_py/ale_interface/src\n",
      "  creating build/lib.linux-x86_64-3.8/atari_py/ale_interface/src/common\n",
      "  copying atari_py/ale_interface/src/common/Array.hxx -> build/lib.linux-x86_64-3.8/atari_py/ale_interface/src/common\n",
      "  copying atari_py/ale_interface/src/common/ColourPalette.cpp -> build/lib.linux-x86_64-3.8/atari_py/ale_interface/src/common\n",
      "  copying atari_py/ale_interface/src/common/ColourPalette.hpp -> build/lib.linux-x86_64-3.8/atari_py/ale_interface/src/common\n",
      "  copying atari_py/ale_interface/src/common/Constants.cpp -> build/lib.linux-x86_64-3.8/atari_py/ale_interface/src/common\n",
      "  copying atari_py/ale_interface/src/common/Constants.h -> build/lib.linux-x86_64-3.8/atari_py/ale_interface/src/common\n",
      "  copying atari_py/ale_interface/src/common/Log.cpp -> build/lib.linux-x86_64-3.8/atari_py/ale_interface/src/common\n",
      "  copying atari_py/ale_interface/src/common/Log.hpp -> build/lib.linux-x86_64-3.8/atari_py/ale_interface/src/common\n",
      "  copying atari_py/ale_interface/src/common/Palettes.hpp -> build/lib.linux-x86_64-3.8/atari_py/ale_interface/src/common\n",
      "  copying atari_py/ale_interface/src/common/ScreenExporter.cpp -> build/lib.linux-x86_64-3.8/atari_py/ale_interface/src/common\n",
      "  copying atari_py/ale_interface/src/common/ScreenExporter.hpp -> build/lib.linux-x86_64-3.8/atari_py/ale_interface/src/common\n",
      "  copying atari_py/ale_interface/src/common/SoundExporter.cpp -> build/lib.linux-x86_64-3.8/atari_py/ale_interface/src/common\n",
      "  copying atari_py/ale_interface/src/common/SoundExporter.hpp -> build/lib.linux-x86_64-3.8/atari_py/ale_interface/src/common\n",
      "  copying atari_py/ale_interface/src/common/SoundNull.cxx -> build/lib.linux-x86_64-3.8/atari_py/ale_interface/src/common\n",
      "  copying atari_py/ale_interface/src/common/SoundNull.hxx -> build/lib.linux-x86_64-3.8/atari_py/ale_interface/src/common\n",
      "  copying atari_py/ale_interface/src/common/SoundSDL.cxx -> build/lib.linux-x86_64-3.8/atari_py/ale_interface/src/common\n",
      "  copying atari_py/ale_interface/src/common/SoundSDL.hxx -> build/lib.linux-x86_64-3.8/atari_py/ale_interface/src/common\n",
      "  copying atari_py/ale_interface/src/common/Version.hxx -> build/lib.linux-x86_64-3.8/atari_py/ale_interface/src/common\n",
      "  copying atari_py/ale_interface/src/common/VideoModeList.hxx -> build/lib.linux-x86_64-3.8/atari_py/ale_interface/src/common\n",
      "  copying atari_py/ale_interface/src/common/display_screen.cpp -> build/lib.linux-x86_64-3.8/atari_py/ale_interface/src/common\n",
      "  copying atari_py/ale_interface/src/common/display_screen.h -> build/lib.linux-x86_64-3.8/atari_py/ale_interface/src/common\n",
      "  copying atari_py/ale_interface/src/common/misc_tools.h -> build/lib.linux-x86_64-3.8/atari_py/ale_interface/src/common\n",
      "  copying atari_py/ale_interface/src/common/module.mk -> build/lib.linux-x86_64-3.8/atari_py/ale_interface/src/common\n",
      "  copying atari_py/ale_interface/src/common/stella.png -> build/lib.linux-x86_64-3.8/atari_py/ale_interface/src/common\n",
      "  copying atari_py/ale_interface/src/common/stella.xpm -> build/lib.linux-x86_64-3.8/atari_py/ale_interface/src/common\n",
      "  creating build/lib.linux-x86_64-3.8/atari_py/ale_interface/src/controllers\n",
      "  copying atari_py/ale_interface/src/controllers/ale_controller.cpp -> build/lib.linux-x86_64-3.8/atari_py/ale_interface/src/controllers\n",
      "  copying atari_py/ale_interface/src/controllers/ale_controller.hpp -> build/lib.linux-x86_64-3.8/atari_py/ale_interface/src/controllers\n",
      "  copying atari_py/ale_interface/src/controllers/fifo_controller.cpp -> build/lib.linux-x86_64-3.8/atari_py/ale_interface/src/controllers\n",
      "  copying atari_py/ale_interface/src/controllers/fifo_controller.hpp -> build/lib.linux-x86_64-3.8/atari_py/ale_interface/src/controllers\n",
      "  copying atari_py/ale_interface/src/controllers/module.mk -> build/lib.linux-x86_64-3.8/atari_py/ale_interface/src/controllers\n",
      "  copying atari_py/ale_interface/src/controllers/rlglue_controller.cpp -> build/lib.linux-x86_64-3.8/atari_py/ale_interface/src/controllers\n",
      "  copying atari_py/ale_interface/src/controllers/rlglue_controller.hpp -> build/lib.linux-x86_64-3.8/atari_py/ale_interface/src/controllers\n",
      "  creating build/lib.linux-x86_64-3.8/atari_py/ale_interface/src/emucore\n",
      "  copying atari_py/ale_interface/src/emucore/AtariVox.cxx -> build/lib.linux-x86_64-3.8/atari_py/ale_interface/src/emucore\n",
      "  copying atari_py/ale_interface/src/emucore/AtariVox.hxx -> build/lib.linux-x86_64-3.8/atari_py/ale_interface/src/emucore\n",
      "  copying atari_py/ale_interface/src/emucore/Booster.cxx -> build/lib.linux-x86_64-3.8/atari_py/ale_interface/src/emucore\n",
      "  copying atari_py/ale_interface/src/emucore/Booster.hxx -> build/lib.linux-x86_64-3.8/atari_py/ale_interface/src/emucore\n",
      "  copying atari_py/ale_interface/src/emucore/Cart.cxx -> build/lib.linux-x86_64-3.8/atari_py/ale_interface/src/emucore\n",
      "  copying atari_py/ale_interface/src/emucore/Cart.hxx -> build/lib.linux-x86_64-3.8/atari_py/ale_interface/src/emucore\n",
      "  copying atari_py/ale_interface/src/emucore/Cart0840.cxx -> build/lib.linux-x86_64-3.8/atari_py/ale_interface/src/emucore\n",
      "  copying atari_py/ale_interface/src/emucore/Cart0840.hxx -> build/lib.linux-x86_64-3.8/atari_py/ale_interface/src/emucore\n",
      "  copying atari_py/ale_interface/src/emucore/Cart2K.cxx -> build/lib.linux-x86_64-3.8/atari_py/ale_interface/src/emucore\n",
      "  copying atari_py/ale_interface/src/emucore/Cart2K.hxx -> build/lib.linux-x86_64-3.8/atari_py/ale_interface/src/emucore\n",
      "  copying atari_py/ale_interface/src/emucore/Cart3E.cxx -> build/lib.linux-x86_64-3.8/atari_py/ale_interface/src/emucore\n",
      "  copying atari_py/ale_interface/src/emucore/Cart3E.hxx -> build/lib.linux-x86_64-3.8/atari_py/ale_interface/src/emucore\n",
      "  copying atari_py/ale_interface/src/emucore/Cart3F.cxx -> build/lib.linux-x86_64-3.8/atari_py/ale_interface/src/emucore\n",
      "  copying atari_py/ale_interface/src/emucore/Cart3F.hxx -> build/lib.linux-x86_64-3.8/atari_py/ale_interface/src/emucore\n",
      "  copying atari_py/ale_interface/src/emucore/Cart4A50.cxx -> build/lib.linux-x86_64-3.8/atari_py/ale_interface/src/emucore\n",
      "  copying atari_py/ale_interface/src/emucore/Cart4A50.hxx -> build/lib.linux-x86_64-3.8/atari_py/ale_interface/src/emucore\n",
      "  copying atari_py/ale_interface/src/emucore/Cart4K.cxx -> build/lib.linux-x86_64-3.8/atari_py/ale_interface/src/emucore\n",
      "  copying atari_py/ale_interface/src/emucore/Cart4K.hxx -> build/lib.linux-x86_64-3.8/atari_py/ale_interface/src/emucore\n",
      "  copying atari_py/ale_interface/src/emucore/CartAR.cxx -> build/lib.linux-x86_64-3.8/atari_py/ale_interface/src/emucore\n",
      "  copying atari_py/ale_interface/src/emucore/CartAR.hxx -> build/lib.linux-x86_64-3.8/atari_py/ale_interface/src/emucore\n",
      "  copying atari_py/ale_interface/src/emucore/CartCV.cxx -> build/lib.linux-x86_64-3.8/atari_py/ale_interface/src/emucore\n",
      "  copying atari_py/ale_interface/src/emucore/CartCV.hxx -> build/lib.linux-x86_64-3.8/atari_py/ale_interface/src/emucore\n",
      "  copying atari_py/ale_interface/src/emucore/CartDPC.cxx -> build/lib.linux-x86_64-3.8/atari_py/ale_interface/src/emucore\n",
      "  copying atari_py/ale_interface/src/emucore/CartDPC.hxx -> build/lib.linux-x86_64-3.8/atari_py/ale_interface/src/emucore\n",
      "  copying atari_py/ale_interface/src/emucore/CartE0.cxx -> build/lib.linux-x86_64-3.8/atari_py/ale_interface/src/emucore\n",
      "  copying atari_py/ale_interface/src/emucore/CartE0.hxx -> build/lib.linux-x86_64-3.8/atari_py/ale_interface/src/emucore\n",
      "  copying atari_py/ale_interface/src/emucore/CartE7.cxx -> build/lib.linux-x86_64-3.8/atari_py/ale_interface/src/emucore\n",
      "  copying atari_py/ale_interface/src/emucore/CartE7.hxx -> build/lib.linux-x86_64-3.8/atari_py/ale_interface/src/emucore\n",
      "  copying atari_py/ale_interface/src/emucore/CartF4.cxx -> build/lib.linux-x86_64-3.8/atari_py/ale_interface/src/emucore\n",
      "  copying atari_py/ale_interface/src/emucore/CartF4.hxx -> build/lib.linux-x86_64-3.8/atari_py/ale_interface/src/emucore\n",
      "  copying atari_py/ale_interface/src/emucore/CartF4SC.cxx -> build/lib.linux-x86_64-3.8/atari_py/ale_interface/src/emucore\n",
      "  copying atari_py/ale_interface/src/emucore/CartF4SC.hxx -> build/lib.linux-x86_64-3.8/atari_py/ale_interface/src/emucore\n",
      "  copying atari_py/ale_interface/src/emucore/CartF6.cxx -> build/lib.linux-x86_64-3.8/atari_py/ale_interface/src/emucore\n",
      "  copying atari_py/ale_interface/src/emucore/CartF6.hxx -> build/lib.linux-x86_64-3.8/atari_py/ale_interface/src/emucore\n",
      "  copying atari_py/ale_interface/src/emucore/CartF6SC.cxx -> build/lib.linux-x86_64-3.8/atari_py/ale_interface/src/emucore\n",
      "  copying atari_py/ale_interface/src/emucore/CartF6SC.hxx -> build/lib.linux-x86_64-3.8/atari_py/ale_interface/src/emucore\n",
      "  copying atari_py/ale_interface/src/emucore/CartF8.cxx -> build/lib.linux-x86_64-3.8/atari_py/ale_interface/src/emucore\n",
      "  copying atari_py/ale_interface/src/emucore/CartF8.hxx -> build/lib.linux-x86_64-3.8/atari_py/ale_interface/src/emucore\n",
      "  copying atari_py/ale_interface/src/emucore/CartF8SC.cxx -> build/lib.linux-x86_64-3.8/atari_py/ale_interface/src/emucore\n",
      "  copying atari_py/ale_interface/src/emucore/CartF8SC.hxx -> build/lib.linux-x86_64-3.8/atari_py/ale_interface/src/emucore\n",
      "  copying atari_py/ale_interface/src/emucore/CartFASC.cxx -> build/lib.linux-x86_64-3.8/atari_py/ale_interface/src/emucore\n",
      "  copying atari_py/ale_interface/src/emucore/CartFASC.hxx -> build/lib.linux-x86_64-3.8/atari_py/ale_interface/src/emucore\n",
      "  copying atari_py/ale_interface/src/emucore/CartFE.cxx -> build/lib.linux-x86_64-3.8/atari_py/ale_interface/src/emucore\n",
      "  copying atari_py/ale_interface/src/emucore/CartFE.hxx -> build/lib.linux-x86_64-3.8/atari_py/ale_interface/src/emucore\n",
      "  copying atari_py/ale_interface/src/emucore/CartMB.cxx -> build/lib.linux-x86_64-3.8/atari_py/ale_interface/src/emucore\n",
      "  copying atari_py/ale_interface/src/emucore/CartMB.hxx -> build/lib.linux-x86_64-3.8/atari_py/ale_interface/src/emucore\n",
      "  copying atari_py/ale_interface/src/emucore/CartMC.cxx -> build/lib.linux-x86_64-3.8/atari_py/ale_interface/src/emucore\n",
      "  copying atari_py/ale_interface/src/emucore/CartMC.hxx -> build/lib.linux-x86_64-3.8/atari_py/ale_interface/src/emucore\n",
      "  copying atari_py/ale_interface/src/emucore/CartUA.cxx -> build/lib.linux-x86_64-3.8/atari_py/ale_interface/src/emucore\n",
      "  copying atari_py/ale_interface/src/emucore/CartUA.hxx -> build/lib.linux-x86_64-3.8/atari_py/ale_interface/src/emucore\n",
      "  copying atari_py/ale_interface/src/emucore/Console.cxx -> build/lib.linux-x86_64-3.8/atari_py/ale_interface/src/emucore\n",
      "  copying atari_py/ale_interface/src/emucore/Console.hxx -> build/lib.linux-x86_64-3.8/atari_py/ale_interface/src/emucore\n",
      "  copying atari_py/ale_interface/src/emucore/Control.cxx -> build/lib.linux-x86_64-3.8/atari_py/ale_interface/src/emucore\n",
      "  copying atari_py/ale_interface/src/emucore/Control.hxx -> build/lib.linux-x86_64-3.8/atari_py/ale_interface/src/emucore\n",
      "  copying atari_py/ale_interface/src/emucore/DefProps.hxx -> build/lib.linux-x86_64-3.8/atari_py/ale_interface/src/emucore\n",
      "  copying atari_py/ale_interface/src/emucore/Deserializer.cxx -> build/lib.linux-x86_64-3.8/atari_py/ale_interface/src/emucore\n",
      "  copying atari_py/ale_interface/src/emucore/Deserializer.hxx -> build/lib.linux-x86_64-3.8/atari_py/ale_interface/src/emucore\n",
      "  copying atari_py/ale_interface/src/emucore/Driving.cxx -> build/lib.linux-x86_64-3.8/atari_py/ale_interface/src/emucore\n",
      "  copying atari_py/ale_interface/src/emucore/Driving.hxx -> build/lib.linux-x86_64-3.8/atari_py/ale_interface/src/emucore\n",
      "  copying atari_py/ale_interface/src/emucore/Event.cxx -> build/lib.linux-x86_64-3.8/atari_py/ale_interface/src/emucore\n",
      "  copying atari_py/ale_interface/src/emucore/Event.hxx -> build/lib.linux-x86_64-3.8/atari_py/ale_interface/src/emucore\n",
      "  copying atari_py/ale_interface/src/emucore/FSNode.cxx -> build/lib.linux-x86_64-3.8/atari_py/ale_interface/src/emucore\n",
      "  copying atari_py/ale_interface/src/emucore/FSNode.hxx -> build/lib.linux-x86_64-3.8/atari_py/ale_interface/src/emucore\n",
      "  copying atari_py/ale_interface/src/emucore/Joystick.cxx -> build/lib.linux-x86_64-3.8/atari_py/ale_interface/src/emucore\n",
      "  copying atari_py/ale_interface/src/emucore/Joystick.hxx -> build/lib.linux-x86_64-3.8/atari_py/ale_interface/src/emucore\n",
      "  copying atari_py/ale_interface/src/emucore/Keyboard.cxx -> build/lib.linux-x86_64-3.8/atari_py/ale_interface/src/emucore\n",
      "  copying atari_py/ale_interface/src/emucore/Keyboard.hxx -> build/lib.linux-x86_64-3.8/atari_py/ale_interface/src/emucore\n",
      "  copying atari_py/ale_interface/src/emucore/M6532.cxx -> build/lib.linux-x86_64-3.8/atari_py/ale_interface/src/emucore\n",
      "  copying atari_py/ale_interface/src/emucore/M6532.hxx -> build/lib.linux-x86_64-3.8/atari_py/ale_interface/src/emucore\n",
      "  copying atari_py/ale_interface/src/emucore/MD5.cxx -> build/lib.linux-x86_64-3.8/atari_py/ale_interface/src/emucore\n",
      "  copying atari_py/ale_interface/src/emucore/MD5.hxx -> build/lib.linux-x86_64-3.8/atari_py/ale_interface/src/emucore\n",
      "  copying atari_py/ale_interface/src/emucore/MediaSrc.cxx -> build/lib.linux-x86_64-3.8/atari_py/ale_interface/src/emucore\n",
      "  copying atari_py/ale_interface/src/emucore/MediaSrc.hxx -> build/lib.linux-x86_64-3.8/atari_py/ale_interface/src/emucore\n",
      "  copying atari_py/ale_interface/src/emucore/OSystem.cxx -> build/lib.linux-x86_64-3.8/atari_py/ale_interface/src/emucore\n",
      "  copying atari_py/ale_interface/src/emucore/OSystem.hxx -> build/lib.linux-x86_64-3.8/atari_py/ale_interface/src/emucore\n",
      "  copying atari_py/ale_interface/src/emucore/Paddles.cxx -> build/lib.linux-x86_64-3.8/atari_py/ale_interface/src/emucore\n",
      "  copying atari_py/ale_interface/src/emucore/Paddles.hxx -> build/lib.linux-x86_64-3.8/atari_py/ale_interface/src/emucore\n",
      "  copying atari_py/ale_interface/src/emucore/Props.cxx -> build/lib.linux-x86_64-3.8/atari_py/ale_interface/src/emucore\n",
      "  copying atari_py/ale_interface/src/emucore/Props.hxx -> build/lib.linux-x86_64-3.8/atari_py/ale_interface/src/emucore\n",
      "  copying atari_py/ale_interface/src/emucore/PropsSet.cxx -> build/lib.linux-x86_64-3.8/atari_py/ale_interface/src/emucore\n",
      "  copying atari_py/ale_interface/src/emucore/PropsSet.hxx -> build/lib.linux-x86_64-3.8/atari_py/ale_interface/src/emucore\n",
      "  copying atari_py/ale_interface/src/emucore/Random.cxx -> build/lib.linux-x86_64-3.8/atari_py/ale_interface/src/emucore\n",
      "  copying atari_py/ale_interface/src/emucore/Random.hxx -> build/lib.linux-x86_64-3.8/atari_py/ale_interface/src/emucore\n",
      "  copying atari_py/ale_interface/src/emucore/Serializer.cxx -> build/lib.linux-x86_64-3.8/atari_py/ale_interface/src/emucore\n",
      "  copying atari_py/ale_interface/src/emucore/Serializer.hxx -> build/lib.linux-x86_64-3.8/atari_py/ale_interface/src/emucore\n",
      "  copying atari_py/ale_interface/src/emucore/Settings.cxx -> build/lib.linux-x86_64-3.8/atari_py/ale_interface/src/emucore\n",
      "  copying atari_py/ale_interface/src/emucore/Settings.hxx -> build/lib.linux-x86_64-3.8/atari_py/ale_interface/src/emucore\n",
      "  copying atari_py/ale_interface/src/emucore/Sound.hxx -> build/lib.linux-x86_64-3.8/atari_py/ale_interface/src/emucore\n",
      "  copying atari_py/ale_interface/src/emucore/SpeakJet.cxx -> build/lib.linux-x86_64-3.8/atari_py/ale_interface/src/emucore\n",
      "  copying atari_py/ale_interface/src/emucore/SpeakJet.hxx -> build/lib.linux-x86_64-3.8/atari_py/ale_interface/src/emucore\n",
      "  copying atari_py/ale_interface/src/emucore/Switches.cxx -> build/lib.linux-x86_64-3.8/atari_py/ale_interface/src/emucore\n",
      "  copying atari_py/ale_interface/src/emucore/Switches.hxx -> build/lib.linux-x86_64-3.8/atari_py/ale_interface/src/emucore\n",
      "  copying atari_py/ale_interface/src/emucore/TIA.cxx -> build/lib.linux-x86_64-3.8/atari_py/ale_interface/src/emucore\n",
      "  copying atari_py/ale_interface/src/emucore/TIA.hxx -> build/lib.linux-x86_64-3.8/atari_py/ale_interface/src/emucore\n",
      "  copying atari_py/ale_interface/src/emucore/TIASnd.cxx -> build/lib.linux-x86_64-3.8/atari_py/ale_interface/src/emucore\n",
      "  copying atari_py/ale_interface/src/emucore/TIASnd.hxx -> build/lib.linux-x86_64-3.8/atari_py/ale_interface/src/emucore\n",
      "  creating build/lib.linux-x86_64-3.8/atari_py/ale_interface/src/emucore/m6502\n",
      "  copying atari_py/ale_interface/src/emucore/m6502/Copyright.txt -> build/lib.linux-x86_64-3.8/atari_py/ale_interface/src/emucore/m6502\n",
      "  copying atari_py/ale_interface/src/emucore/m6502/License.txt -> build/lib.linux-x86_64-3.8/atari_py/ale_interface/src/emucore/m6502\n",
      "  copying atari_py/ale_interface/src/emucore/m6502/module.mk -> build/lib.linux-x86_64-3.8/atari_py/ale_interface/src/emucore/m6502\n",
      "  creating build/lib.linux-x86_64-3.8/atari_py/ale_interface/src/emucore/m6502/src\n",
      "  copying atari_py/ale_interface/src/emucore/m6502/src/Device.cxx -> build/lib.linux-x86_64-3.8/atari_py/ale_interface/src/emucore/m6502/src\n",
      "  copying atari_py/ale_interface/src/emucore/m6502/src/Device.hxx -> build/lib.linux-x86_64-3.8/atari_py/ale_interface/src/emucore/m6502/src\n",
      "  copying atari_py/ale_interface/src/emucore/m6502/src/M6502.cxx -> build/lib.linux-x86_64-3.8/atari_py/ale_interface/src/emucore/m6502/src\n",
      "  copying atari_py/ale_interface/src/emucore/m6502/src/M6502.hxx -> build/lib.linux-x86_64-3.8/atari_py/ale_interface/src/emucore/m6502/src\n",
      "  copying atari_py/ale_interface/src/emucore/m6502/src/M6502.m4 -> build/lib.linux-x86_64-3.8/atari_py/ale_interface/src/emucore/m6502/src\n",
      "  copying atari_py/ale_interface/src/emucore/m6502/src/M6502Hi.cxx -> build/lib.linux-x86_64-3.8/atari_py/ale_interface/src/emucore/m6502/src\n",
      "  copying atari_py/ale_interface/src/emucore/m6502/src/M6502Hi.hxx -> build/lib.linux-x86_64-3.8/atari_py/ale_interface/src/emucore/m6502/src\n",
      "  copying atari_py/ale_interface/src/emucore/m6502/src/M6502Hi.ins -> build/lib.linux-x86_64-3.8/atari_py/ale_interface/src/emucore/m6502/src\n",
      "  copying atari_py/ale_interface/src/emucore/m6502/src/M6502Hi.m4 -> build/lib.linux-x86_64-3.8/atari_py/ale_interface/src/emucore/m6502/src\n",
      "  copying atari_py/ale_interface/src/emucore/m6502/src/M6502Low.cxx -> build/lib.linux-x86_64-3.8/atari_py/ale_interface/src/emucore/m6502/src\n",
      "  copying atari_py/ale_interface/src/emucore/m6502/src/M6502Low.hxx -> build/lib.linux-x86_64-3.8/atari_py/ale_interface/src/emucore/m6502/src\n",
      "  copying atari_py/ale_interface/src/emucore/m6502/src/M6502Low.ins -> build/lib.linux-x86_64-3.8/atari_py/ale_interface/src/emucore/m6502/src\n",
      "  copying atari_py/ale_interface/src/emucore/m6502/src/M6502Low.m4 -> build/lib.linux-x86_64-3.8/atari_py/ale_interface/src/emucore/m6502/src\n",
      "  copying atari_py/ale_interface/src/emucore/m6502/src/NullDev.cxx -> build/lib.linux-x86_64-3.8/atari_py/ale_interface/src/emucore/m6502/src\n",
      "  copying atari_py/ale_interface/src/emucore/m6502/src/NullDev.hxx -> build/lib.linux-x86_64-3.8/atari_py/ale_interface/src/emucore/m6502/src\n",
      "  copying atari_py/ale_interface/src/emucore/m6502/src/System.cxx -> build/lib.linux-x86_64-3.8/atari_py/ale_interface/src/emucore/m6502/src\n",
      "  copying atari_py/ale_interface/src/emucore/m6502/src/System.hxx -> build/lib.linux-x86_64-3.8/atari_py/ale_interface/src/emucore/m6502/src\n",
      "  creating build/lib.linux-x86_64-3.8/atari_py/ale_interface/src/emucore/m6502/src/bspf\n",
      "  copying atari_py/ale_interface/src/emucore/m6502/src/bspf/Copyright.txt -> build/lib.linux-x86_64-3.8/atari_py/ale_interface/src/emucore/m6502/src/bspf\n",
      "  copying atari_py/ale_interface/src/emucore/m6502/src/bspf/License.txt -> build/lib.linux-x86_64-3.8/atari_py/ale_interface/src/emucore/m6502/src/bspf\n",
      "  creating build/lib.linux-x86_64-3.8/atari_py/ale_interface/src/emucore/m6502/src/bspf/src\n",
      "  copying atari_py/ale_interface/src/emucore/m6502/src/bspf/src/bspf.hxx -> build/lib.linux-x86_64-3.8/atari_py/ale_interface/src/emucore/m6502/src/bspf/src\n",
      "  copying atari_py/ale_interface/src/emucore/module.mk -> build/lib.linux-x86_64-3.8/atari_py/ale_interface/src/emucore\n",
      "  creating build/lib.linux-x86_64-3.8/atari_py/ale_interface/src/emucore/rsynth\n",
      "  copying atari_py/ale_interface/src/emucore/rsynth/COPYING -> build/lib.linux-x86_64-3.8/atari_py/ale_interface/src/emucore/rsynth\n",
      "  copying atari_py/ale_interface/src/emucore/rsynth/Elements.def -> build/lib.linux-x86_64-3.8/atari_py/ale_interface/src/emucore/rsynth\n",
      "  copying atari_py/ale_interface/src/emucore/rsynth/PORTING -> build/lib.linux-x86_64-3.8/atari_py/ale_interface/src/emucore/rsynth\n",
      "  copying atari_py/ale_interface/src/emucore/rsynth/config.h -> build/lib.linux-x86_64-3.8/atari_py/ale_interface/src/emucore/rsynth\n",
      "  copying atari_py/ale_interface/src/emucore/rsynth/darray.c -> build/lib.linux-x86_64-3.8/atari_py/ale_interface/src/emucore/rsynth\n",
      "  copying atari_py/ale_interface/src/emucore/rsynth/darray.h -> build/lib.linux-x86_64-3.8/atari_py/ale_interface/src/emucore/rsynth\n",
      "  copying atari_py/ale_interface/src/emucore/rsynth/elements.c -> build/lib.linux-x86_64-3.8/atari_py/ale_interface/src/emucore/rsynth\n",
      "  copying atari_py/ale_interface/src/emucore/rsynth/holmes.c -> build/lib.linux-x86_64-3.8/atari_py/ale_interface/src/emucore/rsynth\n",
      "  copying atari_py/ale_interface/src/emucore/rsynth/kmap -> build/lib.linux-x86_64-3.8/atari_py/ale_interface/src/emucore/rsynth\n",
      "  copying atari_py/ale_interface/src/emucore/rsynth/module.mk -> build/lib.linux-x86_64-3.8/atari_py/ale_interface/src/emucore/rsynth\n",
      "  copying atari_py/ale_interface/src/emucore/rsynth/opsynth.c -> build/lib.linux-x86_64-3.8/atari_py/ale_interface/src/emucore/rsynth\n",
      "  copying atari_py/ale_interface/src/emucore/rsynth/phfeat.h -> build/lib.linux-x86_64-3.8/atari_py/ale_interface/src/emucore/rsynth\n",
      "  copying atari_py/ale_interface/src/emucore/rsynth/phones.c -> build/lib.linux-x86_64-3.8/atari_py/ale_interface/src/emucore/rsynth\n",
      "  copying atari_py/ale_interface/src/emucore/rsynth/phones.def -> build/lib.linux-x86_64-3.8/atari_py/ale_interface/src/emucore/rsynth\n",
      "  copying atari_py/ale_interface/src/emucore/rsynth/phones.h -> build/lib.linux-x86_64-3.8/atari_py/ale_interface/src/emucore/rsynth\n",
      "  copying atari_py/ale_interface/src/emucore/rsynth/phtoelm.c -> build/lib.linux-x86_64-3.8/atari_py/ale_interface/src/emucore/rsynth\n",
      "  copying atari_py/ale_interface/src/emucore/rsynth/phtoelm.def -> build/lib.linux-x86_64-3.8/atari_py/ale_interface/src/emucore/rsynth\n",
      "  copying atari_py/ale_interface/src/emucore/rsynth/phtoelm.h -> build/lib.linux-x86_64-3.8/atari_py/ale_interface/src/emucore/rsynth\n",
      "  copying atari_py/ale_interface/src/emucore/rsynth/rsynth.h -> build/lib.linux-x86_64-3.8/atari_py/ale_interface/src/emucore/rsynth\n",
      "  copying atari_py/ale_interface/src/emucore/rsynth/trie.c -> build/lib.linux-x86_64-3.8/atari_py/ale_interface/src/emucore/rsynth\n",
      "  copying atari_py/ale_interface/src/emucore/rsynth/trie.h -> build/lib.linux-x86_64-3.8/atari_py/ale_interface/src/emucore/rsynth\n",
      "  copying atari_py/ale_interface/src/emucore/rsynth/useconfig.h -> build/lib.linux-x86_64-3.8/atari_py/ale_interface/src/emucore/rsynth\n",
      "  copying atari_py/ale_interface/src/emucore/stella.pro -> build/lib.linux-x86_64-3.8/atari_py/ale_interface/src/emucore\n",
      "  creating build/lib.linux-x86_64-3.8/atari_py/ale_interface/src/environment\n",
      "  copying atari_py/ale_interface/src/environment/ale_ram.hpp -> build/lib.linux-x86_64-3.8/atari_py/ale_interface/src/environment\n",
      "  copying atari_py/ale_interface/src/environment/ale_screen.hpp -> build/lib.linux-x86_64-3.8/atari_py/ale_interface/src/environment\n",
      "  copying atari_py/ale_interface/src/environment/ale_state.cpp -> build/lib.linux-x86_64-3.8/atari_py/ale_interface/src/environment\n",
      "  copying atari_py/ale_interface/src/environment/ale_state.hpp -> build/lib.linux-x86_64-3.8/atari_py/ale_interface/src/environment\n",
      "  copying atari_py/ale_interface/src/environment/module.mk -> build/lib.linux-x86_64-3.8/atari_py/ale_interface/src/environment\n",
      "  copying atari_py/ale_interface/src/environment/phosphor_blend.cpp -> build/lib.linux-x86_64-3.8/atari_py/ale_interface/src/environment\n",
      "  copying atari_py/ale_interface/src/environment/phosphor_blend.hpp -> build/lib.linux-x86_64-3.8/atari_py/ale_interface/src/environment\n",
      "  copying atari_py/ale_interface/src/environment/stella_environment.cpp -> build/lib.linux-x86_64-3.8/atari_py/ale_interface/src/environment\n",
      "  copying atari_py/ale_interface/src/environment/stella_environment.hpp -> build/lib.linux-x86_64-3.8/atari_py/ale_interface/src/environment\n",
      "  copying atari_py/ale_interface/src/environment/stella_environment_wrapper.cpp -> build/lib.linux-x86_64-3.8/atari_py/ale_interface/src/environment\n",
      "  copying atari_py/ale_interface/src/environment/stella_environment_wrapper.hpp -> build/lib.linux-x86_64-3.8/atari_py/ale_interface/src/environment\n",
      "  creating build/lib.linux-x86_64-3.8/atari_py/ale_interface/src/external\n",
      "  creating build/lib.linux-x86_64-3.8/atari_py/ale_interface/src/external/TinyMT\n",
      "  copying atari_py/ale_interface/src/external/TinyMT/LICENSE.txt -> build/lib.linux-x86_64-3.8/atari_py/ale_interface/src/external/TinyMT\n",
      "  copying atari_py/ale_interface/src/external/TinyMT/tinymt32.c -> build/lib.linux-x86_64-3.8/atari_py/ale_interface/src/external/TinyMT\n",
      "  copying atari_py/ale_interface/src/external/TinyMT/tinymt32.h -> build/lib.linux-x86_64-3.8/atari_py/ale_interface/src/external/TinyMT\n",
      "  copying atari_py/ale_interface/src/external/module.mk -> build/lib.linux-x86_64-3.8/atari_py/ale_interface/src/external\n",
      "  creating build/lib.linux-x86_64-3.8/atari_py/ale_interface/src/games\n",
      "  copying atari_py/ale_interface/src/games/RomSettings.cpp -> build/lib.linux-x86_64-3.8/atari_py/ale_interface/src/games\n",
      "  copying atari_py/ale_interface/src/games/RomSettings.hpp -> build/lib.linux-x86_64-3.8/atari_py/ale_interface/src/games\n",
      "  copying atari_py/ale_interface/src/games/RomUtils.cpp -> build/lib.linux-x86_64-3.8/atari_py/ale_interface/src/games\n",
      "  copying atari_py/ale_interface/src/games/RomUtils.hpp -> build/lib.linux-x86_64-3.8/atari_py/ale_interface/src/games\n",
      "  copying atari_py/ale_interface/src/games/Roms.cpp -> build/lib.linux-x86_64-3.8/atari_py/ale_interface/src/games\n",
      "  copying atari_py/ale_interface/src/games/Roms.hpp -> build/lib.linux-x86_64-3.8/atari_py/ale_interface/src/games\n",
      "  copying atari_py/ale_interface/src/games/module.mk -> build/lib.linux-x86_64-3.8/atari_py/ale_interface/src/games\n",
      "  creating build/lib.linux-x86_64-3.8/atari_py/ale_interface/src/games/supported\n",
      "  copying atari_py/ale_interface/src/games/supported/Adventure.cpp -> build/lib.linux-x86_64-3.8/atari_py/ale_interface/src/games/supported\n",
      "  copying atari_py/ale_interface/src/games/supported/Adventure.hpp -> build/lib.linux-x86_64-3.8/atari_py/ale_interface/src/games/supported\n",
      "  copying atari_py/ale_interface/src/games/supported/AirRaid.cpp -> build/lib.linux-x86_64-3.8/atari_py/ale_interface/src/games/supported\n",
      "  copying atari_py/ale_interface/src/games/supported/AirRaid.hpp -> build/lib.linux-x86_64-3.8/atari_py/ale_interface/src/games/supported\n",
      "  copying atari_py/ale_interface/src/games/supported/Alien.cpp -> build/lib.linux-x86_64-3.8/atari_py/ale_interface/src/games/supported\n",
      "  copying atari_py/ale_interface/src/games/supported/Alien.hpp -> build/lib.linux-x86_64-3.8/atari_py/ale_interface/src/games/supported\n",
      "  copying atari_py/ale_interface/src/games/supported/Amidar.cpp -> build/lib.linux-x86_64-3.8/atari_py/ale_interface/src/games/supported\n",
      "  copying atari_py/ale_interface/src/games/supported/Amidar.hpp -> build/lib.linux-x86_64-3.8/atari_py/ale_interface/src/games/supported\n",
      "  copying atari_py/ale_interface/src/games/supported/Assault.cpp -> build/lib.linux-x86_64-3.8/atari_py/ale_interface/src/games/supported\n",
      "  copying atari_py/ale_interface/src/games/supported/Assault.hpp -> build/lib.linux-x86_64-3.8/atari_py/ale_interface/src/games/supported\n",
      "  copying atari_py/ale_interface/src/games/supported/Asterix.cpp -> build/lib.linux-x86_64-3.8/atari_py/ale_interface/src/games/supported\n",
      "  copying atari_py/ale_interface/src/games/supported/Asterix.hpp -> build/lib.linux-x86_64-3.8/atari_py/ale_interface/src/games/supported\n",
      "  copying atari_py/ale_interface/src/games/supported/Asteroids.cpp -> build/lib.linux-x86_64-3.8/atari_py/ale_interface/src/games/supported\n",
      "  copying atari_py/ale_interface/src/games/supported/Asteroids.hpp -> build/lib.linux-x86_64-3.8/atari_py/ale_interface/src/games/supported\n",
      "  copying atari_py/ale_interface/src/games/supported/Atlantis.cpp -> build/lib.linux-x86_64-3.8/atari_py/ale_interface/src/games/supported\n",
      "  copying atari_py/ale_interface/src/games/supported/Atlantis.hpp -> build/lib.linux-x86_64-3.8/atari_py/ale_interface/src/games/supported\n",
      "  copying atari_py/ale_interface/src/games/supported/BankHeist.cpp -> build/lib.linux-x86_64-3.8/atari_py/ale_interface/src/games/supported\n",
      "  copying atari_py/ale_interface/src/games/supported/BankHeist.hpp -> build/lib.linux-x86_64-3.8/atari_py/ale_interface/src/games/supported\n",
      "  copying atari_py/ale_interface/src/games/supported/BattleZone.cpp -> build/lib.linux-x86_64-3.8/atari_py/ale_interface/src/games/supported\n",
      "  copying atari_py/ale_interface/src/games/supported/BattleZone.hpp -> build/lib.linux-x86_64-3.8/atari_py/ale_interface/src/games/supported\n",
      "  copying atari_py/ale_interface/src/games/supported/BeamRider.cpp -> build/lib.linux-x86_64-3.8/atari_py/ale_interface/src/games/supported\n",
      "  copying atari_py/ale_interface/src/games/supported/BeamRider.hpp -> build/lib.linux-x86_64-3.8/atari_py/ale_interface/src/games/supported\n",
      "  copying atari_py/ale_interface/src/games/supported/Berzerk.cpp -> build/lib.linux-x86_64-3.8/atari_py/ale_interface/src/games/supported\n",
      "  copying atari_py/ale_interface/src/games/supported/Berzerk.hpp -> build/lib.linux-x86_64-3.8/atari_py/ale_interface/src/games/supported\n",
      "  copying atari_py/ale_interface/src/games/supported/Bowling.cpp -> build/lib.linux-x86_64-3.8/atari_py/ale_interface/src/games/supported\n",
      "  copying atari_py/ale_interface/src/games/supported/Bowling.hpp -> build/lib.linux-x86_64-3.8/atari_py/ale_interface/src/games/supported\n",
      "  copying atari_py/ale_interface/src/games/supported/Boxing.cpp -> build/lib.linux-x86_64-3.8/atari_py/ale_interface/src/games/supported\n",
      "  copying atari_py/ale_interface/src/games/supported/Boxing.hpp -> build/lib.linux-x86_64-3.8/atari_py/ale_interface/src/games/supported\n",
      "  copying atari_py/ale_interface/src/games/supported/Breakout.cpp -> build/lib.linux-x86_64-3.8/atari_py/ale_interface/src/games/supported\n",
      "  copying atari_py/ale_interface/src/games/supported/Breakout.hpp -> build/lib.linux-x86_64-3.8/atari_py/ale_interface/src/games/supported\n",
      "  copying atari_py/ale_interface/src/games/supported/Carnival.cpp -> build/lib.linux-x86_64-3.8/atari_py/ale_interface/src/games/supported\n",
      "  copying atari_py/ale_interface/src/games/supported/Carnival.hpp -> build/lib.linux-x86_64-3.8/atari_py/ale_interface/src/games/supported\n",
      "  copying atari_py/ale_interface/src/games/supported/Centipede.cpp -> build/lib.linux-x86_64-3.8/atari_py/ale_interface/src/games/supported\n",
      "  copying atari_py/ale_interface/src/games/supported/Centipede.hpp -> build/lib.linux-x86_64-3.8/atari_py/ale_interface/src/games/supported\n",
      "  copying atari_py/ale_interface/src/games/supported/ChopperCommand.cpp -> build/lib.linux-x86_64-3.8/atari_py/ale_interface/src/games/supported\n",
      "  copying atari_py/ale_interface/src/games/supported/ChopperCommand.hpp -> build/lib.linux-x86_64-3.8/atari_py/ale_interface/src/games/supported\n",
      "  copying atari_py/ale_interface/src/games/supported/CrazyClimber.cpp -> build/lib.linux-x86_64-3.8/atari_py/ale_interface/src/games/supported\n",
      "  copying atari_py/ale_interface/src/games/supported/CrazyClimber.hpp -> build/lib.linux-x86_64-3.8/atari_py/ale_interface/src/games/supported\n",
      "  copying atari_py/ale_interface/src/games/supported/Defender.cpp -> build/lib.linux-x86_64-3.8/atari_py/ale_interface/src/games/supported\n",
      "  copying atari_py/ale_interface/src/games/supported/Defender.hpp -> build/lib.linux-x86_64-3.8/atari_py/ale_interface/src/games/supported\n",
      "  copying atari_py/ale_interface/src/games/supported/DemonAttack.cpp -> build/lib.linux-x86_64-3.8/atari_py/ale_interface/src/games/supported\n",
      "  copying atari_py/ale_interface/src/games/supported/DemonAttack.hpp -> build/lib.linux-x86_64-3.8/atari_py/ale_interface/src/games/supported\n",
      "  copying atari_py/ale_interface/src/games/supported/DonkeyKong.cpp -> build/lib.linux-x86_64-3.8/atari_py/ale_interface/src/games/supported\n",
      "  copying atari_py/ale_interface/src/games/supported/DonkeyKong.hpp -> build/lib.linux-x86_64-3.8/atari_py/ale_interface/src/games/supported\n",
      "  copying atari_py/ale_interface/src/games/supported/DoubleDunk.cpp -> build/lib.linux-x86_64-3.8/atari_py/ale_interface/src/games/supported\n",
      "  copying atari_py/ale_interface/src/games/supported/DoubleDunk.hpp -> build/lib.linux-x86_64-3.8/atari_py/ale_interface/src/games/supported\n",
      "  copying atari_py/ale_interface/src/games/supported/ElevatorAction.cpp -> build/lib.linux-x86_64-3.8/atari_py/ale_interface/src/games/supported\n",
      "  copying atari_py/ale_interface/src/games/supported/ElevatorAction.hpp -> build/lib.linux-x86_64-3.8/atari_py/ale_interface/src/games/supported\n",
      "  copying atari_py/ale_interface/src/games/supported/Enduro.cpp -> build/lib.linux-x86_64-3.8/atari_py/ale_interface/src/games/supported\n",
      "  copying atari_py/ale_interface/src/games/supported/Enduro.hpp -> build/lib.linux-x86_64-3.8/atari_py/ale_interface/src/games/supported\n",
      "  copying atari_py/ale_interface/src/games/supported/FishingDerby.cpp -> build/lib.linux-x86_64-3.8/atari_py/ale_interface/src/games/supported\n",
      "  copying atari_py/ale_interface/src/games/supported/FishingDerby.hpp -> build/lib.linux-x86_64-3.8/atari_py/ale_interface/src/games/supported\n",
      "  copying atari_py/ale_interface/src/games/supported/Freeway.cpp -> build/lib.linux-x86_64-3.8/atari_py/ale_interface/src/games/supported\n",
      "  copying atari_py/ale_interface/src/games/supported/Freeway.hpp -> build/lib.linux-x86_64-3.8/atari_py/ale_interface/src/games/supported\n",
      "  copying atari_py/ale_interface/src/games/supported/Frogger.cpp -> build/lib.linux-x86_64-3.8/atari_py/ale_interface/src/games/supported\n",
      "  copying atari_py/ale_interface/src/games/supported/Frogger.hpp -> build/lib.linux-x86_64-3.8/atari_py/ale_interface/src/games/supported\n",
      "  copying atari_py/ale_interface/src/games/supported/Frostbite.cpp -> build/lib.linux-x86_64-3.8/atari_py/ale_interface/src/games/supported\n",
      "  copying atari_py/ale_interface/src/games/supported/Frostbite.hpp -> build/lib.linux-x86_64-3.8/atari_py/ale_interface/src/games/supported\n",
      "  copying atari_py/ale_interface/src/games/supported/Galaxian.cpp -> build/lib.linux-x86_64-3.8/atari_py/ale_interface/src/games/supported\n",
      "  copying atari_py/ale_interface/src/games/supported/Galaxian.hpp -> build/lib.linux-x86_64-3.8/atari_py/ale_interface/src/games/supported\n",
      "  copying atari_py/ale_interface/src/games/supported/Gopher.cpp -> build/lib.linux-x86_64-3.8/atari_py/ale_interface/src/games/supported\n",
      "  copying atari_py/ale_interface/src/games/supported/Gopher.hpp -> build/lib.linux-x86_64-3.8/atari_py/ale_interface/src/games/supported\n",
      "  copying atari_py/ale_interface/src/games/supported/Gravitar.cpp -> build/lib.linux-x86_64-3.8/atari_py/ale_interface/src/games/supported\n",
      "  copying atari_py/ale_interface/src/games/supported/Gravitar.hpp -> build/lib.linux-x86_64-3.8/atari_py/ale_interface/src/games/supported\n",
      "  copying atari_py/ale_interface/src/games/supported/Hero.cpp -> build/lib.linux-x86_64-3.8/atari_py/ale_interface/src/games/supported\n",
      "  copying atari_py/ale_interface/src/games/supported/Hero.hpp -> build/lib.linux-x86_64-3.8/atari_py/ale_interface/src/games/supported\n",
      "  copying atari_py/ale_interface/src/games/supported/IceHockey.cpp -> build/lib.linux-x86_64-3.8/atari_py/ale_interface/src/games/supported\n",
      "  copying atari_py/ale_interface/src/games/supported/IceHockey.hpp -> build/lib.linux-x86_64-3.8/atari_py/ale_interface/src/games/supported\n",
      "  copying atari_py/ale_interface/src/games/supported/JamesBond.cpp -> build/lib.linux-x86_64-3.8/atari_py/ale_interface/src/games/supported\n",
      "  copying atari_py/ale_interface/src/games/supported/JamesBond.hpp -> build/lib.linux-x86_64-3.8/atari_py/ale_interface/src/games/supported\n",
      "  copying atari_py/ale_interface/src/games/supported/JourneyEscape.cpp -> build/lib.linux-x86_64-3.8/atari_py/ale_interface/src/games/supported\n",
      "  copying atari_py/ale_interface/src/games/supported/JourneyEscape.hpp -> build/lib.linux-x86_64-3.8/atari_py/ale_interface/src/games/supported\n",
      "  copying atari_py/ale_interface/src/games/supported/Kaboom.cpp -> build/lib.linux-x86_64-3.8/atari_py/ale_interface/src/games/supported\n",
      "  copying atari_py/ale_interface/src/games/supported/Kaboom.hpp -> build/lib.linux-x86_64-3.8/atari_py/ale_interface/src/games/supported\n",
      "  copying atari_py/ale_interface/src/games/supported/Kangaroo.cpp -> build/lib.linux-x86_64-3.8/atari_py/ale_interface/src/games/supported\n",
      "  copying atari_py/ale_interface/src/games/supported/Kangaroo.hpp -> build/lib.linux-x86_64-3.8/atari_py/ale_interface/src/games/supported\n",
      "  copying atari_py/ale_interface/src/games/supported/KeystoneKapers.cpp -> build/lib.linux-x86_64-3.8/atari_py/ale_interface/src/games/supported\n",
      "  copying atari_py/ale_interface/src/games/supported/KeystoneKapers.hpp -> build/lib.linux-x86_64-3.8/atari_py/ale_interface/src/games/supported\n",
      "  copying atari_py/ale_interface/src/games/supported/Kingkong.cpp -> build/lib.linux-x86_64-3.8/atari_py/ale_interface/src/games/supported\n",
      "  copying atari_py/ale_interface/src/games/supported/Kingkong.hpp -> build/lib.linux-x86_64-3.8/atari_py/ale_interface/src/games/supported\n",
      "  copying atari_py/ale_interface/src/games/supported/Koolaid.cpp -> build/lib.linux-x86_64-3.8/atari_py/ale_interface/src/games/supported\n",
      "  copying atari_py/ale_interface/src/games/supported/Koolaid.hpp -> build/lib.linux-x86_64-3.8/atari_py/ale_interface/src/games/supported\n",
      "  copying atari_py/ale_interface/src/games/supported/Krull.cpp -> build/lib.linux-x86_64-3.8/atari_py/ale_interface/src/games/supported\n",
      "  copying atari_py/ale_interface/src/games/supported/Krull.hpp -> build/lib.linux-x86_64-3.8/atari_py/ale_interface/src/games/supported\n",
      "  copying atari_py/ale_interface/src/games/supported/KungFuMaster.cpp -> build/lib.linux-x86_64-3.8/atari_py/ale_interface/src/games/supported\n",
      "  copying atari_py/ale_interface/src/games/supported/KungFuMaster.hpp -> build/lib.linux-x86_64-3.8/atari_py/ale_interface/src/games/supported\n",
      "  copying atari_py/ale_interface/src/games/supported/LaserGates.cpp -> build/lib.linux-x86_64-3.8/atari_py/ale_interface/src/games/supported\n",
      "  copying atari_py/ale_interface/src/games/supported/LaserGates.hpp -> build/lib.linux-x86_64-3.8/atari_py/ale_interface/src/games/supported\n",
      "  copying atari_py/ale_interface/src/games/supported/LostLuggage.cpp -> build/lib.linux-x86_64-3.8/atari_py/ale_interface/src/games/supported\n",
      "  copying atari_py/ale_interface/src/games/supported/LostLuggage.hpp -> build/lib.linux-x86_64-3.8/atari_py/ale_interface/src/games/supported\n",
      "  copying atari_py/ale_interface/src/games/supported/MontezumaRevenge.cpp -> build/lib.linux-x86_64-3.8/atari_py/ale_interface/src/games/supported\n",
      "  copying atari_py/ale_interface/src/games/supported/MontezumaRevenge.hpp -> build/lib.linux-x86_64-3.8/atari_py/ale_interface/src/games/supported\n",
      "  copying atari_py/ale_interface/src/games/supported/MrDo.cpp -> build/lib.linux-x86_64-3.8/atari_py/ale_interface/src/games/supported\n",
      "  copying atari_py/ale_interface/src/games/supported/MrDo.hpp -> build/lib.linux-x86_64-3.8/atari_py/ale_interface/src/games/supported\n",
      "  copying atari_py/ale_interface/src/games/supported/MsPacman.cpp -> build/lib.linux-x86_64-3.8/atari_py/ale_interface/src/games/supported\n",
      "  copying atari_py/ale_interface/src/games/supported/MsPacman.hpp -> build/lib.linux-x86_64-3.8/atari_py/ale_interface/src/games/supported\n",
      "  copying atari_py/ale_interface/src/games/supported/NameThisGame.cpp -> build/lib.linux-x86_64-3.8/atari_py/ale_interface/src/games/supported\n",
      "  copying atari_py/ale_interface/src/games/supported/NameThisGame.hpp -> build/lib.linux-x86_64-3.8/atari_py/ale_interface/src/games/supported\n",
      "  copying atari_py/ale_interface/src/games/supported/Phoenix.cpp -> build/lib.linux-x86_64-3.8/atari_py/ale_interface/src/games/supported\n",
      "  copying atari_py/ale_interface/src/games/supported/Phoenix.hpp -> build/lib.linux-x86_64-3.8/atari_py/ale_interface/src/games/supported\n",
      "  copying atari_py/ale_interface/src/games/supported/Pitfall.cpp -> build/lib.linux-x86_64-3.8/atari_py/ale_interface/src/games/supported\n",
      "  copying atari_py/ale_interface/src/games/supported/Pitfall.hpp -> build/lib.linux-x86_64-3.8/atari_py/ale_interface/src/games/supported\n",
      "  copying atari_py/ale_interface/src/games/supported/Pong.cpp -> build/lib.linux-x86_64-3.8/atari_py/ale_interface/src/games/supported\n",
      "  copying atari_py/ale_interface/src/games/supported/Pong.hpp -> build/lib.linux-x86_64-3.8/atari_py/ale_interface/src/games/supported\n",
      "  copying atari_py/ale_interface/src/games/supported/Pooyan.cpp -> build/lib.linux-x86_64-3.8/atari_py/ale_interface/src/games/supported\n",
      "  copying atari_py/ale_interface/src/games/supported/Pooyan.hpp -> build/lib.linux-x86_64-3.8/atari_py/ale_interface/src/games/supported\n",
      "  copying atari_py/ale_interface/src/games/supported/PrivateEye.cpp -> build/lib.linux-x86_64-3.8/atari_py/ale_interface/src/games/supported\n",
      "  copying atari_py/ale_interface/src/games/supported/PrivateEye.hpp -> build/lib.linux-x86_64-3.8/atari_py/ale_interface/src/games/supported\n",
      "  copying atari_py/ale_interface/src/games/supported/QBert.cpp -> build/lib.linux-x86_64-3.8/atari_py/ale_interface/src/games/supported\n",
      "  copying atari_py/ale_interface/src/games/supported/QBert.hpp -> build/lib.linux-x86_64-3.8/atari_py/ale_interface/src/games/supported\n",
      "  copying atari_py/ale_interface/src/games/supported/RiverRaid.cpp -> build/lib.linux-x86_64-3.8/atari_py/ale_interface/src/games/supported\n",
      "  copying atari_py/ale_interface/src/games/supported/RiverRaid.hpp -> build/lib.linux-x86_64-3.8/atari_py/ale_interface/src/games/supported\n",
      "  copying atari_py/ale_interface/src/games/supported/RoadRunner.cpp -> build/lib.linux-x86_64-3.8/atari_py/ale_interface/src/games/supported\n",
      "  copying atari_py/ale_interface/src/games/supported/RoadRunner.hpp -> build/lib.linux-x86_64-3.8/atari_py/ale_interface/src/games/supported\n",
      "  copying atari_py/ale_interface/src/games/supported/RoboTank.cpp -> build/lib.linux-x86_64-3.8/atari_py/ale_interface/src/games/supported\n",
      "  copying atari_py/ale_interface/src/games/supported/RoboTank.hpp -> build/lib.linux-x86_64-3.8/atari_py/ale_interface/src/games/supported\n",
      "  copying atari_py/ale_interface/src/games/supported/Seaquest.cpp -> build/lib.linux-x86_64-3.8/atari_py/ale_interface/src/games/supported\n",
      "  copying atari_py/ale_interface/src/games/supported/Seaquest.hpp -> build/lib.linux-x86_64-3.8/atari_py/ale_interface/src/games/supported\n",
      "  copying atari_py/ale_interface/src/games/supported/SirLancelot.cpp -> build/lib.linux-x86_64-3.8/atari_py/ale_interface/src/games/supported\n",
      "  copying atari_py/ale_interface/src/games/supported/SirLancelot.hpp -> build/lib.linux-x86_64-3.8/atari_py/ale_interface/src/games/supported\n",
      "  copying atari_py/ale_interface/src/games/supported/Skiing.cpp -> build/lib.linux-x86_64-3.8/atari_py/ale_interface/src/games/supported\n",
      "  copying atari_py/ale_interface/src/games/supported/Skiing.hpp -> build/lib.linux-x86_64-3.8/atari_py/ale_interface/src/games/supported\n",
      "  copying atari_py/ale_interface/src/games/supported/Solaris.cpp -> build/lib.linux-x86_64-3.8/atari_py/ale_interface/src/games/supported\n",
      "  copying atari_py/ale_interface/src/games/supported/Solaris.hpp -> build/lib.linux-x86_64-3.8/atari_py/ale_interface/src/games/supported\n",
      "  copying atari_py/ale_interface/src/games/supported/SpaceInvaders.cpp -> build/lib.linux-x86_64-3.8/atari_py/ale_interface/src/games/supported\n",
      "  copying atari_py/ale_interface/src/games/supported/SpaceInvaders.hpp -> build/lib.linux-x86_64-3.8/atari_py/ale_interface/src/games/supported\n",
      "  copying atari_py/ale_interface/src/games/supported/StarGunner.cpp -> build/lib.linux-x86_64-3.8/atari_py/ale_interface/src/games/supported\n",
      "  copying atari_py/ale_interface/src/games/supported/StarGunner.hpp -> build/lib.linux-x86_64-3.8/atari_py/ale_interface/src/games/supported\n",
      "  copying atari_py/ale_interface/src/games/supported/Tennis.cpp -> build/lib.linux-x86_64-3.8/atari_py/ale_interface/src/games/supported\n",
      "  copying atari_py/ale_interface/src/games/supported/Tennis.hpp -> build/lib.linux-x86_64-3.8/atari_py/ale_interface/src/games/supported\n",
      "  copying atari_py/ale_interface/src/games/supported/Tetris.cpp -> build/lib.linux-x86_64-3.8/atari_py/ale_interface/src/games/supported\n",
      "  copying atari_py/ale_interface/src/games/supported/Tetris.hpp -> build/lib.linux-x86_64-3.8/atari_py/ale_interface/src/games/supported\n",
      "  copying atari_py/ale_interface/src/games/supported/TimePilot.cpp -> build/lib.linux-x86_64-3.8/atari_py/ale_interface/src/games/supported\n",
      "  copying atari_py/ale_interface/src/games/supported/TimePilot.hpp -> build/lib.linux-x86_64-3.8/atari_py/ale_interface/src/games/supported\n",
      "  copying atari_py/ale_interface/src/games/supported/Trondead.cpp -> build/lib.linux-x86_64-3.8/atari_py/ale_interface/src/games/supported\n",
      "  copying atari_py/ale_interface/src/games/supported/Trondead.hpp -> build/lib.linux-x86_64-3.8/atari_py/ale_interface/src/games/supported\n",
      "  copying atari_py/ale_interface/src/games/supported/Turmoil.cpp -> build/lib.linux-x86_64-3.8/atari_py/ale_interface/src/games/supported\n",
      "  copying atari_py/ale_interface/src/games/supported/Turmoil.hpp -> build/lib.linux-x86_64-3.8/atari_py/ale_interface/src/games/supported\n",
      "  copying atari_py/ale_interface/src/games/supported/Tutankham.cpp -> build/lib.linux-x86_64-3.8/atari_py/ale_interface/src/games/supported\n",
      "  copying atari_py/ale_interface/src/games/supported/Tutankham.hpp -> build/lib.linux-x86_64-3.8/atari_py/ale_interface/src/games/supported\n",
      "  copying atari_py/ale_interface/src/games/supported/UpNDown.cpp -> build/lib.linux-x86_64-3.8/atari_py/ale_interface/src/games/supported\n",
      "  copying atari_py/ale_interface/src/games/supported/UpNDown.hpp -> build/lib.linux-x86_64-3.8/atari_py/ale_interface/src/games/supported\n",
      "  copying atari_py/ale_interface/src/games/supported/Venture.cpp -> build/lib.linux-x86_64-3.8/atari_py/ale_interface/src/games/supported\n",
      "  copying atari_py/ale_interface/src/games/supported/Venture.hpp -> build/lib.linux-x86_64-3.8/atari_py/ale_interface/src/games/supported\n",
      "  copying atari_py/ale_interface/src/games/supported/VideoPinball.cpp -> build/lib.linux-x86_64-3.8/atari_py/ale_interface/src/games/supported\n",
      "  copying atari_py/ale_interface/src/games/supported/VideoPinball.hpp -> build/lib.linux-x86_64-3.8/atari_py/ale_interface/src/games/supported\n",
      "  copying atari_py/ale_interface/src/games/supported/WizardOfWor.cpp -> build/lib.linux-x86_64-3.8/atari_py/ale_interface/src/games/supported\n",
      "  copying atari_py/ale_interface/src/games/supported/WizardOfWor.hpp -> build/lib.linux-x86_64-3.8/atari_py/ale_interface/src/games/supported\n",
      "  copying atari_py/ale_interface/src/games/supported/YarsRevenge.cpp -> build/lib.linux-x86_64-3.8/atari_py/ale_interface/src/games/supported\n",
      "  copying atari_py/ale_interface/src/games/supported/YarsRevenge.hpp -> build/lib.linux-x86_64-3.8/atari_py/ale_interface/src/games/supported\n",
      "  copying atari_py/ale_interface/src/games/supported/Zaxxon.cpp -> build/lib.linux-x86_64-3.8/atari_py/ale_interface/src/games/supported\n",
      "  copying atari_py/ale_interface/src/games/supported/Zaxxon.hpp -> build/lib.linux-x86_64-3.8/atari_py/ale_interface/src/games/supported\n",
      "  copying atari_py/ale_interface/src/main.cpp -> build/lib.linux-x86_64-3.8/atari_py/ale_interface/src\n",
      "  copying atari_py/ale_interface/src/module.mk -> build/lib.linux-x86_64-3.8/atari_py/ale_interface/src\n",
      "  creating build/lib.linux-x86_64-3.8/atari_py/ale_interface/src/os_dependent\n",
      "  copying atari_py/ale_interface/src/os_dependent/FSNodePOSIX.cxx -> build/lib.linux-x86_64-3.8/atari_py/ale_interface/src/os_dependent\n",
      "  copying atari_py/ale_interface/src/os_dependent/FSNodeWin32.cxx -> build/lib.linux-x86_64-3.8/atari_py/ale_interface/src/os_dependent\n",
      "  copying atari_py/ale_interface/src/os_dependent/OSystemUNIX.cxx -> build/lib.linux-x86_64-3.8/atari_py/ale_interface/src/os_dependent\n",
      "  copying atari_py/ale_interface/src/os_dependent/OSystemUNIX.hxx -> build/lib.linux-x86_64-3.8/atari_py/ale_interface/src/os_dependent\n",
      "  copying atari_py/ale_interface/src/os_dependent/OSystemWin32.cxx -> build/lib.linux-x86_64-3.8/atari_py/ale_interface/src/os_dependent\n",
      "  copying atari_py/ale_interface/src/os_dependent/OSystemWin32.hxx -> build/lib.linux-x86_64-3.8/atari_py/ale_interface/src/os_dependent\n",
      "  copying atari_py/ale_interface/src/os_dependent/SettingsUNIX.cxx -> build/lib.linux-x86_64-3.8/atari_py/ale_interface/src/os_dependent\n",
      "  copying atari_py/ale_interface/src/os_dependent/SettingsUNIX.hxx -> build/lib.linux-x86_64-3.8/atari_py/ale_interface/src/os_dependent\n",
      "  copying atari_py/ale_interface/src/os_dependent/SettingsWin32.cxx -> build/lib.linux-x86_64-3.8/atari_py/ale_interface/src/os_dependent\n",
      "  copying atari_py/ale_interface/src/os_dependent/SettingsWin32.hxx -> build/lib.linux-x86_64-3.8/atari_py/ale_interface/src/os_dependent\n",
      "  copying atari_py/ale_interface/src/os_dependent/module.mk -> build/lib.linux-x86_64-3.8/atari_py/ale_interface/src/os_dependent\n",
      "  copying atari_py/atari_ntsc_rgb_palette.h -> build/lib.linux-x86_64-3.8/atari_py\n",
      "  creating build/lib.linux-x86_64-3.8/atari_py/atari_roms\n",
      "  copying atari_py/atari_roms/adventure.bin -> build/lib.linux-x86_64-3.8/atari_py/atari_roms\n",
      "  copying atari_py/atari_roms/air_raid.bin -> build/lib.linux-x86_64-3.8/atari_py/atari_roms\n",
      "  copying atari_py/atari_roms/alien.bin -> build/lib.linux-x86_64-3.8/atari_py/atari_roms\n",
      "  copying atari_py/atari_roms/amidar.bin -> build/lib.linux-x86_64-3.8/atari_py/atari_roms\n",
      "  copying atari_py/atari_roms/assault.bin -> build/lib.linux-x86_64-3.8/atari_py/atari_roms\n",
      "  copying atari_py/atari_roms/asterix.bin -> build/lib.linux-x86_64-3.8/atari_py/atari_roms\n",
      "  copying atari_py/atari_roms/asteroids.bin -> build/lib.linux-x86_64-3.8/atari_py/atari_roms\n",
      "  copying atari_py/atari_roms/atlantis.bin -> build/lib.linux-x86_64-3.8/atari_py/atari_roms\n",
      "  copying atari_py/atari_roms/bank_heist.bin -> build/lib.linux-x86_64-3.8/atari_py/atari_roms\n",
      "  copying atari_py/atari_roms/battle_zone.bin -> build/lib.linux-x86_64-3.8/atari_py/atari_roms\n",
      "  copying atari_py/atari_roms/beam_rider.bin -> build/lib.linux-x86_64-3.8/atari_py/atari_roms\n",
      "  copying atari_py/atari_roms/berzerk.bin -> build/lib.linux-x86_64-3.8/atari_py/atari_roms\n",
      "  copying atari_py/atari_roms/bowling.bin -> build/lib.linux-x86_64-3.8/atari_py/atari_roms\n",
      "  copying atari_py/atari_roms/boxing.bin -> build/lib.linux-x86_64-3.8/atari_py/atari_roms\n",
      "  copying atari_py/atari_roms/breakout.bin -> build/lib.linux-x86_64-3.8/atari_py/atari_roms\n",
      "  copying atari_py/atari_roms/carnival.bin -> build/lib.linux-x86_64-3.8/atari_py/atari_roms\n",
      "  copying atari_py/atari_roms/centipede.bin -> build/lib.linux-x86_64-3.8/atari_py/atari_roms\n",
      "  copying atari_py/atari_roms/chopper_command.bin -> build/lib.linux-x86_64-3.8/atari_py/atari_roms\n",
      "  copying atari_py/atari_roms/crazy_climber.bin -> build/lib.linux-x86_64-3.8/atari_py/atari_roms\n",
      "  copying atari_py/atari_roms/defender.bin -> build/lib.linux-x86_64-3.8/atari_py/atari_roms\n",
      "  copying atari_py/atari_roms/demon_attack.bin -> build/lib.linux-x86_64-3.8/atari_py/atari_roms\n",
      "  copying atari_py/atari_roms/double_dunk.bin -> build/lib.linux-x86_64-3.8/atari_py/atari_roms\n",
      "  copying atari_py/atari_roms/elevator_action.bin -> build/lib.linux-x86_64-3.8/atari_py/atari_roms\n",
      "  copying atari_py/atari_roms/enduro.bin -> build/lib.linux-x86_64-3.8/atari_py/atari_roms\n",
      "  copying atari_py/atari_roms/fishing_derby.bin -> build/lib.linux-x86_64-3.8/atari_py/atari_roms\n",
      "  copying atari_py/atari_roms/freeway.bin -> build/lib.linux-x86_64-3.8/atari_py/atari_roms\n",
      "  copying atari_py/atari_roms/frostbite.bin -> build/lib.linux-x86_64-3.8/atari_py/atari_roms\n",
      "  copying atari_py/atari_roms/gopher.bin -> build/lib.linux-x86_64-3.8/atari_py/atari_roms\n",
      "  copying atari_py/atari_roms/gravitar.bin -> build/lib.linux-x86_64-3.8/atari_py/atari_roms\n",
      "  copying atari_py/atari_roms/hero.bin -> build/lib.linux-x86_64-3.8/atari_py/atari_roms\n",
      "  copying atari_py/atari_roms/ice_hockey.bin -> build/lib.linux-x86_64-3.8/atari_py/atari_roms\n",
      "  copying atari_py/atari_roms/jamesbond.bin -> build/lib.linux-x86_64-3.8/atari_py/atari_roms\n",
      "  copying atari_py/atari_roms/journey_escape.bin -> build/lib.linux-x86_64-3.8/atari_py/atari_roms\n",
      "  copying atari_py/atari_roms/kaboom.bin -> build/lib.linux-x86_64-3.8/atari_py/atari_roms\n",
      "  copying atari_py/atari_roms/kangaroo.bin -> build/lib.linux-x86_64-3.8/atari_py/atari_roms\n",
      "  copying atari_py/atari_roms/krull.bin -> build/lib.linux-x86_64-3.8/atari_py/atari_roms\n",
      "  copying atari_py/atari_roms/kung_fu_master.bin -> build/lib.linux-x86_64-3.8/atari_py/atari_roms\n",
      "  copying atari_py/atari_roms/montezuma_revenge.bin -> build/lib.linux-x86_64-3.8/atari_py/atari_roms\n",
      "  copying atari_py/atari_roms/ms_pacman.bin -> build/lib.linux-x86_64-3.8/atari_py/atari_roms\n",
      "  copying atari_py/atari_roms/name_this_game.bin -> build/lib.linux-x86_64-3.8/atari_py/atari_roms\n",
      "  copying atari_py/atari_roms/phoenix.bin -> build/lib.linux-x86_64-3.8/atari_py/atari_roms\n",
      "  copying atari_py/atari_roms/pitfall.bin -> build/lib.linux-x86_64-3.8/atari_py/atari_roms\n",
      "  copying atari_py/atari_roms/pong.bin -> build/lib.linux-x86_64-3.8/atari_py/atari_roms\n",
      "  copying atari_py/atari_roms/pooyan.bin -> build/lib.linux-x86_64-3.8/atari_py/atari_roms\n",
      "  copying atari_py/atari_roms/private_eye.bin -> build/lib.linux-x86_64-3.8/atari_py/atari_roms\n",
      "  copying atari_py/atari_roms/qbert.bin -> build/lib.linux-x86_64-3.8/atari_py/atari_roms\n",
      "  copying atari_py/atari_roms/riverraid.bin -> build/lib.linux-x86_64-3.8/atari_py/atari_roms\n",
      "  copying atari_py/atari_roms/road_runner.bin -> build/lib.linux-x86_64-3.8/atari_py/atari_roms\n",
      "  copying atari_py/atari_roms/robotank.bin -> build/lib.linux-x86_64-3.8/atari_py/atari_roms\n",
      "  copying atari_py/atari_roms/seaquest.bin -> build/lib.linux-x86_64-3.8/atari_py/atari_roms\n",
      "  copying atari_py/atari_roms/skiing.bin -> build/lib.linux-x86_64-3.8/atari_py/atari_roms\n",
      "  copying atari_py/atari_roms/solaris.bin -> build/lib.linux-x86_64-3.8/atari_py/atari_roms\n",
      "  copying atari_py/atari_roms/space_invaders.bin -> build/lib.linux-x86_64-3.8/atari_py/atari_roms\n",
      "  copying atari_py/atari_roms/star_gunner.bin -> build/lib.linux-x86_64-3.8/atari_py/atari_roms\n",
      "  copying atari_py/atari_roms/tennis.bin -> build/lib.linux-x86_64-3.8/atari_py/atari_roms\n",
      "  copying atari_py/atari_roms/time_pilot.bin -> build/lib.linux-x86_64-3.8/atari_py/atari_roms\n",
      "  copying atari_py/atari_roms/tutankham.bin -> build/lib.linux-x86_64-3.8/atari_py/atari_roms\n",
      "  copying atari_py/atari_roms/up_n_down.bin -> build/lib.linux-x86_64-3.8/atari_py/atari_roms\n",
      "  copying atari_py/atari_roms/venture.bin -> build/lib.linux-x86_64-3.8/atari_py/atari_roms\n",
      "  copying atari_py/atari_roms/video_pinball.bin -> build/lib.linux-x86_64-3.8/atari_py/atari_roms\n",
      "  copying atari_py/atari_roms/wizard_of_wor.bin -> build/lib.linux-x86_64-3.8/atari_py/atari_roms\n",
      "  copying atari_py/atari_roms/yars_revenge.bin -> build/lib.linux-x86_64-3.8/atari_py/atari_roms\n",
      "  copying atari_py/atari_roms/zaxxon.bin -> build/lib.linux-x86_64-3.8/atari_py/atari_roms\n",
      "  copying atari_py/package_data.txt -> build/lib.linux-x86_64-3.8/atari_py\n",
      "  creating build/lib.linux-x86_64-3.8/atari_py/tests\n",
      "  copying atari_py/tests/test_smoke.py -> build/lib.linux-x86_64-3.8/atari_py/tests\n",
      "  copying atari_py/tests/__init__.py -> build/lib.linux-x86_64-3.8/atari_py/tests\n",
      "  warning: build_py: byte-compiling is disabled, skipping.\n",
      "  \n",
      "  running build_ext\n",
      "  Traceback (most recent call last):\n",
      "    File \"/tmp/pip-install-5q31gly7/atari-py_f83eedeca54548d0a022fc0dd72ca748/setup.py\", line 22, in run\n",
      "      subprocess.check_call(['cmake', '..'], cwd=cwd)\n",
      "    File \"/home/adwaver/.anyenv/envs/pyenv/versions/3.8.2/lib/python3.8/subprocess.py\", line 359, in check_call\n",
      "      retcode = call(*popenargs, **kwargs)\n",
      "    File \"/home/adwaver/.anyenv/envs/pyenv/versions/3.8.2/lib/python3.8/subprocess.py\", line 340, in call\n",
      "      with Popen(*popenargs, **kwargs) as p:\n",
      "    File \"/home/adwaver/.anyenv/envs/pyenv/versions/3.8.2/lib/python3.8/subprocess.py\", line 854, in __init__\n",
      "      self._execute_child(args, executable, preexec_fn, close_fds,\n",
      "    File \"/home/adwaver/.anyenv/envs/pyenv/versions/3.8.2/lib/python3.8/subprocess.py\", line 1702, in _execute_child\n",
      "      raise child_exception_type(errno_num, err_msg, err_filename)\n",
      "  FileNotFoundError: [Errno 2] No such file or directory: 'cmake'\n",
      "  \n",
      "  During handling of the above exception, another exception occurred:\n",
      "  \n",
      "  Traceback (most recent call last):\n",
      "    File \"<string>\", line 1, in <module>\n",
      "    File \"/tmp/pip-install-5q31gly7/atari-py_f83eedeca54548d0a022fc0dd72ca748/setup.py\", line 36, in <module>\n",
      "      setup(name='atari-py',\n",
      "    File \"/home/adwaver/.local/share/virtualenvs/rltrader-eJaSlovB/lib/python3.8/site-packages/setuptools/__init__.py\", line 153, in setup\n",
      "      return distutils.core.setup(**attrs)\n",
      "    File \"/home/adwaver/.anyenv/envs/pyenv/versions/3.8.2/lib/python3.8/distutils/core.py\", line 148, in setup\n",
      "      dist.run_commands()\n",
      "    File \"/home/adwaver/.anyenv/envs/pyenv/versions/3.8.2/lib/python3.8/distutils/dist.py\", line 966, in run_commands\n",
      "      self.run_command(cmd)\n",
      "    File \"/home/adwaver/.anyenv/envs/pyenv/versions/3.8.2/lib/python3.8/distutils/dist.py\", line 985, in run_command\n",
      "      cmd_obj.run()\n",
      "    File \"/home/adwaver/.local/share/virtualenvs/rltrader-eJaSlovB/lib/python3.8/site-packages/wheel/bdist_wheel.py\", line 299, in run\n",
      "      self.run_command('build')\n",
      "    File \"/home/adwaver/.anyenv/envs/pyenv/versions/3.8.2/lib/python3.8/distutils/cmd.py\", line 313, in run_command\n",
      "      self.distribution.run_command(command)\n",
      "    File \"/home/adwaver/.anyenv/envs/pyenv/versions/3.8.2/lib/python3.8/distutils/dist.py\", line 985, in run_command\n",
      "      cmd_obj.run()\n",
      "    File \"/home/adwaver/.anyenv/envs/pyenv/versions/3.8.2/lib/python3.8/distutils/command/build.py\", line 135, in run\n",
      "      self.run_command(cmd_name)\n",
      "    File \"/home/adwaver/.anyenv/envs/pyenv/versions/3.8.2/lib/python3.8/distutils/cmd.py\", line 313, in run_command\n",
      "      self.distribution.run_command(command)\n",
      "    File \"/home/adwaver/.anyenv/envs/pyenv/versions/3.8.2/lib/python3.8/distutils/dist.py\", line 985, in run_command\n",
      "      cmd_obj.run()\n",
      "    File \"/tmp/pip-install-5q31gly7/atari-py_f83eedeca54548d0a022fc0dd72ca748/setup.py\", line 28, in run\n",
      "      sys.stderr.write(\"Unable to execute '{}'. HINT: are you sure `make` is installed?\\n\".format(' '.join(cmd)))\n",
      "  NameError: name 'cmd' is not defined\n",
      "  ----------------------------------------\u001b[0m\n",
      "\u001b[31m  ERROR: Failed building wheel for atari-py\u001b[0m\n",
      "\u001b[?25h  Running setup.py clean for atari-py\n"
     ]
    },
    {
     "name": "stdout",
     "output_type": "stream",
     "text": [
      "Successfully built finrl pyfolio\n",
      "Failed to build atari-py\n",
      "Installing collected packages: atari-py, pytest, pyfolio, finrl\n",
      "    Running setup.py install for atari-py ... \u001b[?25lerror\n",
      "\u001b[31m    ERROR: Command errored out with exit status 1:\n",
      "     command: /home/adwaver/.local/share/virtualenvs/rltrader-eJaSlovB/bin/python -u -c 'import sys, setuptools, tokenize; sys.argv[0] = '\"'\"'/tmp/pip-install-5q31gly7/atari-py_f83eedeca54548d0a022fc0dd72ca748/setup.py'\"'\"'; __file__='\"'\"'/tmp/pip-install-5q31gly7/atari-py_f83eedeca54548d0a022fc0dd72ca748/setup.py'\"'\"';f=getattr(tokenize, '\"'\"'open'\"'\"', open)(__file__);code=f.read().replace('\"'\"'\\r\\n'\"'\"', '\"'\"'\\n'\"'\"');f.close();exec(compile(code, __file__, '\"'\"'exec'\"'\"'))' install --record /tmp/pip-record-bnttju72/install-record.txt --single-version-externally-managed --compile --install-headers /home/adwaver/.local/share/virtualenvs/rltrader-eJaSlovB/include/site/python3.8/atari-py\n",
      "         cwd: /tmp/pip-install-5q31gly7/atari-py_f83eedeca54548d0a022fc0dd72ca748/\n",
      "    Complete output (506 lines):\n",
      "    running install\n",
      "    running build\n",
      "    running build_py\n",
      "    creating build\n",
      "    creating build/lib.linux-x86_64-3.8\n",
      "    creating build/lib.linux-x86_64-3.8/atari_py\n",
      "    copying atari_py/ale_python_interface.py -> build/lib.linux-x86_64-3.8/atari_py\n",
      "    copying atari_py/__init__.py -> build/lib.linux-x86_64-3.8/atari_py\n",
      "    copying atari_py/ale_c_wrapper.cpp -> build/lib.linux-x86_64-3.8/atari_py\n",
      "    copying atari_py/ale_c_wrapper.h -> build/lib.linux-x86_64-3.8/atari_py\n",
      "    creating build/lib.linux-x86_64-3.8/atari_py/ale_interface\n",
      "    copying atari_py/ale_interface/CMakeLists.txt -> build/lib.linux-x86_64-3.8/atari_py/ale_interface\n",
      "    creating build/lib.linux-x86_64-3.8/atari_py/ale_interface/src\n",
      "    copying atari_py/ale_interface/src/ale_interface.cpp -> build/lib.linux-x86_64-3.8/atari_py/ale_interface/src\n",
      "    copying atari_py/ale_interface/src/ale_interface.hpp -> build/lib.linux-x86_64-3.8/atari_py/ale_interface/src\n",
      "    creating build/lib.linux-x86_64-3.8/atari_py/ale_interface/src/common\n",
      "    copying atari_py/ale_interface/src/common/Array.hxx -> build/lib.linux-x86_64-3.8/atari_py/ale_interface/src/common\n",
      "    copying atari_py/ale_interface/src/common/ColourPalette.cpp -> build/lib.linux-x86_64-3.8/atari_py/ale_interface/src/common\n",
      "    copying atari_py/ale_interface/src/common/ColourPalette.hpp -> build/lib.linux-x86_64-3.8/atari_py/ale_interface/src/common\n",
      "    copying atari_py/ale_interface/src/common/Constants.cpp -> build/lib.linux-x86_64-3.8/atari_py/ale_interface/src/common\n",
      "    copying atari_py/ale_interface/src/common/Constants.h -> build/lib.linux-x86_64-3.8/atari_py/ale_interface/src/common\n",
      "    copying atari_py/ale_interface/src/common/Log.cpp -> build/lib.linux-x86_64-3.8/atari_py/ale_interface/src/common\n",
      "    copying atari_py/ale_interface/src/common/Log.hpp -> build/lib.linux-x86_64-3.8/atari_py/ale_interface/src/common\n",
      "    copying atari_py/ale_interface/src/common/Palettes.hpp -> build/lib.linux-x86_64-3.8/atari_py/ale_interface/src/common\n",
      "    copying atari_py/ale_interface/src/common/ScreenExporter.cpp -> build/lib.linux-x86_64-3.8/atari_py/ale_interface/src/common\n",
      "    copying atari_py/ale_interface/src/common/ScreenExporter.hpp -> build/lib.linux-x86_64-3.8/atari_py/ale_interface/src/common\n",
      "    copying atari_py/ale_interface/src/common/SoundExporter.cpp -> build/lib.linux-x86_64-3.8/atari_py/ale_interface/src/common\n",
      "    copying atari_py/ale_interface/src/common/SoundExporter.hpp -> build/lib.linux-x86_64-3.8/atari_py/ale_interface/src/common\n",
      "    copying atari_py/ale_interface/src/common/SoundNull.cxx -> build/lib.linux-x86_64-3.8/atari_py/ale_interface/src/common\n",
      "    copying atari_py/ale_interface/src/common/SoundNull.hxx -> build/lib.linux-x86_64-3.8/atari_py/ale_interface/src/common\n",
      "    copying atari_py/ale_interface/src/common/SoundSDL.cxx -> build/lib.linux-x86_64-3.8/atari_py/ale_interface/src/common\n",
      "    copying atari_py/ale_interface/src/common/SoundSDL.hxx -> build/lib.linux-x86_64-3.8/atari_py/ale_interface/src/common\n",
      "    copying atari_py/ale_interface/src/common/Version.hxx -> build/lib.linux-x86_64-3.8/atari_py/ale_interface/src/common\n",
      "    copying atari_py/ale_interface/src/common/VideoModeList.hxx -> build/lib.linux-x86_64-3.8/atari_py/ale_interface/src/common\n",
      "    copying atari_py/ale_interface/src/common/display_screen.cpp -> build/lib.linux-x86_64-3.8/atari_py/ale_interface/src/common\n",
      "    copying atari_py/ale_interface/src/common/display_screen.h -> build/lib.linux-x86_64-3.8/atari_py/ale_interface/src/common\n",
      "    copying atari_py/ale_interface/src/common/misc_tools.h -> build/lib.linux-x86_64-3.8/atari_py/ale_interface/src/common\n",
      "    copying atari_py/ale_interface/src/common/module.mk -> build/lib.linux-x86_64-3.8/atari_py/ale_interface/src/common\n",
      "    copying atari_py/ale_interface/src/common/stella.png -> build/lib.linux-x86_64-3.8/atari_py/ale_interface/src/common\n",
      "    copying atari_py/ale_interface/src/common/stella.xpm -> build/lib.linux-x86_64-3.8/atari_py/ale_interface/src/common\n",
      "    creating build/lib.linux-x86_64-3.8/atari_py/ale_interface/src/controllers\n",
      "    copying atari_py/ale_interface/src/controllers/ale_controller.cpp -> build/lib.linux-x86_64-3.8/atari_py/ale_interface/src/controllers\n",
      "    copying atari_py/ale_interface/src/controllers/ale_controller.hpp -> build/lib.linux-x86_64-3.8/atari_py/ale_interface/src/controllers\n",
      "    copying atari_py/ale_interface/src/controllers/fifo_controller.cpp -> build/lib.linux-x86_64-3.8/atari_py/ale_interface/src/controllers\n",
      "    copying atari_py/ale_interface/src/controllers/fifo_controller.hpp -> build/lib.linux-x86_64-3.8/atari_py/ale_interface/src/controllers\n",
      "    copying atari_py/ale_interface/src/controllers/module.mk -> build/lib.linux-x86_64-3.8/atari_py/ale_interface/src/controllers\n",
      "    copying atari_py/ale_interface/src/controllers/rlglue_controller.cpp -> build/lib.linux-x86_64-3.8/atari_py/ale_interface/src/controllers\n",
      "    copying atari_py/ale_interface/src/controllers/rlglue_controller.hpp -> build/lib.linux-x86_64-3.8/atari_py/ale_interface/src/controllers\n",
      "    creating build/lib.linux-x86_64-3.8/atari_py/ale_interface/src/emucore\n",
      "    copying atari_py/ale_interface/src/emucore/AtariVox.cxx -> build/lib.linux-x86_64-3.8/atari_py/ale_interface/src/emucore\n",
      "    copying atari_py/ale_interface/src/emucore/AtariVox.hxx -> build/lib.linux-x86_64-3.8/atari_py/ale_interface/src/emucore\n",
      "    copying atari_py/ale_interface/src/emucore/Booster.cxx -> build/lib.linux-x86_64-3.8/atari_py/ale_interface/src/emucore\n",
      "    copying atari_py/ale_interface/src/emucore/Booster.hxx -> build/lib.linux-x86_64-3.8/atari_py/ale_interface/src/emucore\n",
      "    copying atari_py/ale_interface/src/emucore/Cart.cxx -> build/lib.linux-x86_64-3.8/atari_py/ale_interface/src/emucore\n",
      "    copying atari_py/ale_interface/src/emucore/Cart.hxx -> build/lib.linux-x86_64-3.8/atari_py/ale_interface/src/emucore\n",
      "    copying atari_py/ale_interface/src/emucore/Cart0840.cxx -> build/lib.linux-x86_64-3.8/atari_py/ale_interface/src/emucore\n",
      "    copying atari_py/ale_interface/src/emucore/Cart0840.hxx -> build/lib.linux-x86_64-3.8/atari_py/ale_interface/src/emucore\n",
      "    copying atari_py/ale_interface/src/emucore/Cart2K.cxx -> build/lib.linux-x86_64-3.8/atari_py/ale_interface/src/emucore\n",
      "    copying atari_py/ale_interface/src/emucore/Cart2K.hxx -> build/lib.linux-x86_64-3.8/atari_py/ale_interface/src/emucore\n",
      "    copying atari_py/ale_interface/src/emucore/Cart3E.cxx -> build/lib.linux-x86_64-3.8/atari_py/ale_interface/src/emucore\n",
      "    copying atari_py/ale_interface/src/emucore/Cart3E.hxx -> build/lib.linux-x86_64-3.8/atari_py/ale_interface/src/emucore\n",
      "    copying atari_py/ale_interface/src/emucore/Cart3F.cxx -> build/lib.linux-x86_64-3.8/atari_py/ale_interface/src/emucore\n",
      "    copying atari_py/ale_interface/src/emucore/Cart3F.hxx -> build/lib.linux-x86_64-3.8/atari_py/ale_interface/src/emucore\n",
      "    copying atari_py/ale_interface/src/emucore/Cart4A50.cxx -> build/lib.linux-x86_64-3.8/atari_py/ale_interface/src/emucore\n",
      "    copying atari_py/ale_interface/src/emucore/Cart4A50.hxx -> build/lib.linux-x86_64-3.8/atari_py/ale_interface/src/emucore\n",
      "    copying atari_py/ale_interface/src/emucore/Cart4K.cxx -> build/lib.linux-x86_64-3.8/atari_py/ale_interface/src/emucore\n",
      "    copying atari_py/ale_interface/src/emucore/Cart4K.hxx -> build/lib.linux-x86_64-3.8/atari_py/ale_interface/src/emucore\n",
      "    copying atari_py/ale_interface/src/emucore/CartAR.cxx -> build/lib.linux-x86_64-3.8/atari_py/ale_interface/src/emucore\n",
      "    copying atari_py/ale_interface/src/emucore/CartAR.hxx -> build/lib.linux-x86_64-3.8/atari_py/ale_interface/src/emucore\n",
      "    copying atari_py/ale_interface/src/emucore/CartCV.cxx -> build/lib.linux-x86_64-3.8/atari_py/ale_interface/src/emucore\n",
      "    copying atari_py/ale_interface/src/emucore/CartCV.hxx -> build/lib.linux-x86_64-3.8/atari_py/ale_interface/src/emucore\n",
      "    copying atari_py/ale_interface/src/emucore/CartDPC.cxx -> build/lib.linux-x86_64-3.8/atari_py/ale_interface/src/emucore\n",
      "    copying atari_py/ale_interface/src/emucore/CartDPC.hxx -> build/lib.linux-x86_64-3.8/atari_py/ale_interface/src/emucore\n",
      "    copying atari_py/ale_interface/src/emucore/CartE0.cxx -> build/lib.linux-x86_64-3.8/atari_py/ale_interface/src/emucore\n",
      "    copying atari_py/ale_interface/src/emucore/CartE0.hxx -> build/lib.linux-x86_64-3.8/atari_py/ale_interface/src/emucore\n",
      "    copying atari_py/ale_interface/src/emucore/CartE7.cxx -> build/lib.linux-x86_64-3.8/atari_py/ale_interface/src/emucore\n",
      "    copying atari_py/ale_interface/src/emucore/CartE7.hxx -> build/lib.linux-x86_64-3.8/atari_py/ale_interface/src/emucore\n",
      "    copying atari_py/ale_interface/src/emucore/CartF4.cxx -> build/lib.linux-x86_64-3.8/atari_py/ale_interface/src/emucore\n",
      "    copying atari_py/ale_interface/src/emucore/CartF4.hxx -> build/lib.linux-x86_64-3.8/atari_py/ale_interface/src/emucore\n",
      "    copying atari_py/ale_interface/src/emucore/CartF4SC.cxx -> build/lib.linux-x86_64-3.8/atari_py/ale_interface/src/emucore\n",
      "    copying atari_py/ale_interface/src/emucore/CartF4SC.hxx -> build/lib.linux-x86_64-3.8/atari_py/ale_interface/src/emucore\n",
      "    copying atari_py/ale_interface/src/emucore/CartF6.cxx -> build/lib.linux-x86_64-3.8/atari_py/ale_interface/src/emucore\n",
      "    copying atari_py/ale_interface/src/emucore/CartF6.hxx -> build/lib.linux-x86_64-3.8/atari_py/ale_interface/src/emucore\n",
      "    copying atari_py/ale_interface/src/emucore/CartF6SC.cxx -> build/lib.linux-x86_64-3.8/atari_py/ale_interface/src/emucore\n",
      "    copying atari_py/ale_interface/src/emucore/CartF6SC.hxx -> build/lib.linux-x86_64-3.8/atari_py/ale_interface/src/emucore\n",
      "    copying atari_py/ale_interface/src/emucore/CartF8.cxx -> build/lib.linux-x86_64-3.8/atari_py/ale_interface/src/emucore\n",
      "    copying atari_py/ale_interface/src/emucore/CartF8.hxx -> build/lib.linux-x86_64-3.8/atari_py/ale_interface/src/emucore\n",
      "    copying atari_py/ale_interface/src/emucore/CartF8SC.cxx -> build/lib.linux-x86_64-3.8/atari_py/ale_interface/src/emucore\n",
      "    copying atari_py/ale_interface/src/emucore/CartF8SC.hxx -> build/lib.linux-x86_64-3.8/atari_py/ale_interface/src/emucore\n",
      "    copying atari_py/ale_interface/src/emucore/CartFASC.cxx -> build/lib.linux-x86_64-3.8/atari_py/ale_interface/src/emucore\n",
      "    copying atari_py/ale_interface/src/emucore/CartFASC.hxx -> build/lib.linux-x86_64-3.8/atari_py/ale_interface/src/emucore\n",
      "    copying atari_py/ale_interface/src/emucore/CartFE.cxx -> build/lib.linux-x86_64-3.8/atari_py/ale_interface/src/emucore\n",
      "    copying atari_py/ale_interface/src/emucore/CartFE.hxx -> build/lib.linux-x86_64-3.8/atari_py/ale_interface/src/emucore\n",
      "    copying atari_py/ale_interface/src/emucore/CartMB.cxx -> build/lib.linux-x86_64-3.8/atari_py/ale_interface/src/emucore\n",
      "    copying atari_py/ale_interface/src/emucore/CartMB.hxx -> build/lib.linux-x86_64-3.8/atari_py/ale_interface/src/emucore\n",
      "    copying atari_py/ale_interface/src/emucore/CartMC.cxx -> build/lib.linux-x86_64-3.8/atari_py/ale_interface/src/emucore\n",
      "    copying atari_py/ale_interface/src/emucore/CartMC.hxx -> build/lib.linux-x86_64-3.8/atari_py/ale_interface/src/emucore\n",
      "    copying atari_py/ale_interface/src/emucore/CartUA.cxx -> build/lib.linux-x86_64-3.8/atari_py/ale_interface/src/emucore\n",
      "    copying atari_py/ale_interface/src/emucore/CartUA.hxx -> build/lib.linux-x86_64-3.8/atari_py/ale_interface/src/emucore\n",
      "    copying atari_py/ale_interface/src/emucore/Console.cxx -> build/lib.linux-x86_64-3.8/atari_py/ale_interface/src/emucore\n",
      "    copying atari_py/ale_interface/src/emucore/Console.hxx -> build/lib.linux-x86_64-3.8/atari_py/ale_interface/src/emucore\n",
      "    copying atari_py/ale_interface/src/emucore/Control.cxx -> build/lib.linux-x86_64-3.8/atari_py/ale_interface/src/emucore\n",
      "    copying atari_py/ale_interface/src/emucore/Control.hxx -> build/lib.linux-x86_64-3.8/atari_py/ale_interface/src/emucore\n",
      "    copying atari_py/ale_interface/src/emucore/DefProps.hxx -> build/lib.linux-x86_64-3.8/atari_py/ale_interface/src/emucore\n",
      "    copying atari_py/ale_interface/src/emucore/Deserializer.cxx -> build/lib.linux-x86_64-3.8/atari_py/ale_interface/src/emucore\n",
      "    copying atari_py/ale_interface/src/emucore/Deserializer.hxx -> build/lib.linux-x86_64-3.8/atari_py/ale_interface/src/emucore\n",
      "    copying atari_py/ale_interface/src/emucore/Driving.cxx -> build/lib.linux-x86_64-3.8/atari_py/ale_interface/src/emucore\n",
      "    copying atari_py/ale_interface/src/emucore/Driving.hxx -> build/lib.linux-x86_64-3.8/atari_py/ale_interface/src/emucore\n",
      "    copying atari_py/ale_interface/src/emucore/Event.cxx -> build/lib.linux-x86_64-3.8/atari_py/ale_interface/src/emucore\n",
      "    copying atari_py/ale_interface/src/emucore/Event.hxx -> build/lib.linux-x86_64-3.8/atari_py/ale_interface/src/emucore\n",
      "    copying atari_py/ale_interface/src/emucore/FSNode.cxx -> build/lib.linux-x86_64-3.8/atari_py/ale_interface/src/emucore\n",
      "    copying atari_py/ale_interface/src/emucore/FSNode.hxx -> build/lib.linux-x86_64-3.8/atari_py/ale_interface/src/emucore\n",
      "    copying atari_py/ale_interface/src/emucore/Joystick.cxx -> build/lib.linux-x86_64-3.8/atari_py/ale_interface/src/emucore\n",
      "    copying atari_py/ale_interface/src/emucore/Joystick.hxx -> build/lib.linux-x86_64-3.8/atari_py/ale_interface/src/emucore\n",
      "    copying atari_py/ale_interface/src/emucore/Keyboard.cxx -> build/lib.linux-x86_64-3.8/atari_py/ale_interface/src/emucore\n",
      "    copying atari_py/ale_interface/src/emucore/Keyboard.hxx -> build/lib.linux-x86_64-3.8/atari_py/ale_interface/src/emucore\n",
      "    copying atari_py/ale_interface/src/emucore/M6532.cxx -> build/lib.linux-x86_64-3.8/atari_py/ale_interface/src/emucore\n",
      "    copying atari_py/ale_interface/src/emucore/M6532.hxx -> build/lib.linux-x86_64-3.8/atari_py/ale_interface/src/emucore\n",
      "    copying atari_py/ale_interface/src/emucore/MD5.cxx -> build/lib.linux-x86_64-3.8/atari_py/ale_interface/src/emucore\n",
      "    copying atari_py/ale_interface/src/emucore/MD5.hxx -> build/lib.linux-x86_64-3.8/atari_py/ale_interface/src/emucore\n",
      "    copying atari_py/ale_interface/src/emucore/MediaSrc.cxx -> build/lib.linux-x86_64-3.8/atari_py/ale_interface/src/emucore\n",
      "    copying atari_py/ale_interface/src/emucore/MediaSrc.hxx -> build/lib.linux-x86_64-3.8/atari_py/ale_interface/src/emucore\n",
      "    copying atari_py/ale_interface/src/emucore/OSystem.cxx -> build/lib.linux-x86_64-3.8/atari_py/ale_interface/src/emucore\n",
      "    copying atari_py/ale_interface/src/emucore/OSystem.hxx -> build/lib.linux-x86_64-3.8/atari_py/ale_interface/src/emucore\n",
      "    copying atari_py/ale_interface/src/emucore/Paddles.cxx -> build/lib.linux-x86_64-3.8/atari_py/ale_interface/src/emucore\n",
      "    copying atari_py/ale_interface/src/emucore/Paddles.hxx -> build/lib.linux-x86_64-3.8/atari_py/ale_interface/src/emucore\n",
      "    copying atari_py/ale_interface/src/emucore/Props.cxx -> build/lib.linux-x86_64-3.8/atari_py/ale_interface/src/emucore\n",
      "    copying atari_py/ale_interface/src/emucore/Props.hxx -> build/lib.linux-x86_64-3.8/atari_py/ale_interface/src/emucore\n",
      "    copying atari_py/ale_interface/src/emucore/PropsSet.cxx -> build/lib.linux-x86_64-3.8/atari_py/ale_interface/src/emucore\n",
      "    copying atari_py/ale_interface/src/emucore/PropsSet.hxx -> build/lib.linux-x86_64-3.8/atari_py/ale_interface/src/emucore\n",
      "    copying atari_py/ale_interface/src/emucore/Random.cxx -> build/lib.linux-x86_64-3.8/atari_py/ale_interface/src/emucore\n",
      "    copying atari_py/ale_interface/src/emucore/Random.hxx -> build/lib.linux-x86_64-3.8/atari_py/ale_interface/src/emucore\n",
      "    copying atari_py/ale_interface/src/emucore/Serializer.cxx -> build/lib.linux-x86_64-3.8/atari_py/ale_interface/src/emucore\n",
      "    copying atari_py/ale_interface/src/emucore/Serializer.hxx -> build/lib.linux-x86_64-3.8/atari_py/ale_interface/src/emucore\n",
      "    copying atari_py/ale_interface/src/emucore/Settings.cxx -> build/lib.linux-x86_64-3.8/atari_py/ale_interface/src/emucore\n",
      "    copying atari_py/ale_interface/src/emucore/Settings.hxx -> build/lib.linux-x86_64-3.8/atari_py/ale_interface/src/emucore\n",
      "    copying atari_py/ale_interface/src/emucore/Sound.hxx -> build/lib.linux-x86_64-3.8/atari_py/ale_interface/src/emucore\n",
      "    copying atari_py/ale_interface/src/emucore/SpeakJet.cxx -> build/lib.linux-x86_64-3.8/atari_py/ale_interface/src/emucore\n",
      "    copying atari_py/ale_interface/src/emucore/SpeakJet.hxx -> build/lib.linux-x86_64-3.8/atari_py/ale_interface/src/emucore\n",
      "    copying atari_py/ale_interface/src/emucore/Switches.cxx -> build/lib.linux-x86_64-3.8/atari_py/ale_interface/src/emucore\n",
      "    copying atari_py/ale_interface/src/emucore/Switches.hxx -> build/lib.linux-x86_64-3.8/atari_py/ale_interface/src/emucore\n",
      "    copying atari_py/ale_interface/src/emucore/TIA.cxx -> build/lib.linux-x86_64-3.8/atari_py/ale_interface/src/emucore\n",
      "    copying atari_py/ale_interface/src/emucore/TIA.hxx -> build/lib.linux-x86_64-3.8/atari_py/ale_interface/src/emucore\n",
      "    copying atari_py/ale_interface/src/emucore/TIASnd.cxx -> build/lib.linux-x86_64-3.8/atari_py/ale_interface/src/emucore\n",
      "    copying atari_py/ale_interface/src/emucore/TIASnd.hxx -> build/lib.linux-x86_64-3.8/atari_py/ale_interface/src/emucore\n",
      "    creating build/lib.linux-x86_64-3.8/atari_py/ale_interface/src/emucore/m6502\n",
      "    copying atari_py/ale_interface/src/emucore/m6502/Copyright.txt -> build/lib.linux-x86_64-3.8/atari_py/ale_interface/src/emucore/m6502\n",
      "    copying atari_py/ale_interface/src/emucore/m6502/License.txt -> build/lib.linux-x86_64-3.8/atari_py/ale_interface/src/emucore/m6502\n",
      "    copying atari_py/ale_interface/src/emucore/m6502/module.mk -> build/lib.linux-x86_64-3.8/atari_py/ale_interface/src/emucore/m6502\n",
      "    creating build/lib.linux-x86_64-3.8/atari_py/ale_interface/src/emucore/m6502/src\n",
      "    copying atari_py/ale_interface/src/emucore/m6502/src/Device.cxx -> build/lib.linux-x86_64-3.8/atari_py/ale_interface/src/emucore/m6502/src\n",
      "    copying atari_py/ale_interface/src/emucore/m6502/src/Device.hxx -> build/lib.linux-x86_64-3.8/atari_py/ale_interface/src/emucore/m6502/src\n",
      "    copying atari_py/ale_interface/src/emucore/m6502/src/M6502.cxx -> build/lib.linux-x86_64-3.8/atari_py/ale_interface/src/emucore/m6502/src\n",
      "    copying atari_py/ale_interface/src/emucore/m6502/src/M6502.hxx -> build/lib.linux-x86_64-3.8/atari_py/ale_interface/src/emucore/m6502/src\n",
      "    copying atari_py/ale_interface/src/emucore/m6502/src/M6502.m4 -> build/lib.linux-x86_64-3.8/atari_py/ale_interface/src/emucore/m6502/src\n",
      "    copying atari_py/ale_interface/src/emucore/m6502/src/M6502Hi.cxx -> build/lib.linux-x86_64-3.8/atari_py/ale_interface/src/emucore/m6502/src\n",
      "    copying atari_py/ale_interface/src/emucore/m6502/src/M6502Hi.hxx -> build/lib.linux-x86_64-3.8/atari_py/ale_interface/src/emucore/m6502/src\n",
      "    copying atari_py/ale_interface/src/emucore/m6502/src/M6502Hi.ins -> build/lib.linux-x86_64-3.8/atari_py/ale_interface/src/emucore/m6502/src\n",
      "    copying atari_py/ale_interface/src/emucore/m6502/src/M6502Hi.m4 -> build/lib.linux-x86_64-3.8/atari_py/ale_interface/src/emucore/m6502/src\n",
      "    copying atari_py/ale_interface/src/emucore/m6502/src/M6502Low.cxx -> build/lib.linux-x86_64-3.8/atari_py/ale_interface/src/emucore/m6502/src\n",
      "    copying atari_py/ale_interface/src/emucore/m6502/src/M6502Low.hxx -> build/lib.linux-x86_64-3.8/atari_py/ale_interface/src/emucore/m6502/src\n",
      "    copying atari_py/ale_interface/src/emucore/m6502/src/M6502Low.ins -> build/lib.linux-x86_64-3.8/atari_py/ale_interface/src/emucore/m6502/src\n",
      "    copying atari_py/ale_interface/src/emucore/m6502/src/M6502Low.m4 -> build/lib.linux-x86_64-3.8/atari_py/ale_interface/src/emucore/m6502/src\n",
      "    copying atari_py/ale_interface/src/emucore/m6502/src/NullDev.cxx -> build/lib.linux-x86_64-3.8/atari_py/ale_interface/src/emucore/m6502/src\n",
      "    copying atari_py/ale_interface/src/emucore/m6502/src/NullDev.hxx -> build/lib.linux-x86_64-3.8/atari_py/ale_interface/src/emucore/m6502/src\n",
      "    copying atari_py/ale_interface/src/emucore/m6502/src/System.cxx -> build/lib.linux-x86_64-3.8/atari_py/ale_interface/src/emucore/m6502/src\n",
      "    copying atari_py/ale_interface/src/emucore/m6502/src/System.hxx -> build/lib.linux-x86_64-3.8/atari_py/ale_interface/src/emucore/m6502/src\n",
      "    creating build/lib.linux-x86_64-3.8/atari_py/ale_interface/src/emucore/m6502/src/bspf\n",
      "    copying atari_py/ale_interface/src/emucore/m6502/src/bspf/Copyright.txt -> build/lib.linux-x86_64-3.8/atari_py/ale_interface/src/emucore/m6502/src/bspf\n",
      "    copying atari_py/ale_interface/src/emucore/m6502/src/bspf/License.txt -> build/lib.linux-x86_64-3.8/atari_py/ale_interface/src/emucore/m6502/src/bspf\n",
      "    creating build/lib.linux-x86_64-3.8/atari_py/ale_interface/src/emucore/m6502/src/bspf/src\n",
      "    copying atari_py/ale_interface/src/emucore/m6502/src/bspf/src/bspf.hxx -> build/lib.linux-x86_64-3.8/atari_py/ale_interface/src/emucore/m6502/src/bspf/src\n",
      "    copying atari_py/ale_interface/src/emucore/module.mk -> build/lib.linux-x86_64-3.8/atari_py/ale_interface/src/emucore\n",
      "    creating build/lib.linux-x86_64-3.8/atari_py/ale_interface/src/emucore/rsynth\n",
      "    copying atari_py/ale_interface/src/emucore/rsynth/COPYING -> build/lib.linux-x86_64-3.8/atari_py/ale_interface/src/emucore/rsynth\n",
      "    copying atari_py/ale_interface/src/emucore/rsynth/Elements.def -> build/lib.linux-x86_64-3.8/atari_py/ale_interface/src/emucore/rsynth\n",
      "    copying atari_py/ale_interface/src/emucore/rsynth/PORTING -> build/lib.linux-x86_64-3.8/atari_py/ale_interface/src/emucore/rsynth\n",
      "    copying atari_py/ale_interface/src/emucore/rsynth/config.h -> build/lib.linux-x86_64-3.8/atari_py/ale_interface/src/emucore/rsynth\n",
      "    copying atari_py/ale_interface/src/emucore/rsynth/darray.c -> build/lib.linux-x86_64-3.8/atari_py/ale_interface/src/emucore/rsynth\n",
      "    copying atari_py/ale_interface/src/emucore/rsynth/darray.h -> build/lib.linux-x86_64-3.8/atari_py/ale_interface/src/emucore/rsynth\n",
      "    copying atari_py/ale_interface/src/emucore/rsynth/elements.c -> build/lib.linux-x86_64-3.8/atari_py/ale_interface/src/emucore/rsynth\n",
      "    copying atari_py/ale_interface/src/emucore/rsynth/holmes.c -> build/lib.linux-x86_64-3.8/atari_py/ale_interface/src/emucore/rsynth\n",
      "    copying atari_py/ale_interface/src/emucore/rsynth/kmap -> build/lib.linux-x86_64-3.8/atari_py/ale_interface/src/emucore/rsynth\n",
      "    copying atari_py/ale_interface/src/emucore/rsynth/module.mk -> build/lib.linux-x86_64-3.8/atari_py/ale_interface/src/emucore/rsynth\n",
      "    copying atari_py/ale_interface/src/emucore/rsynth/opsynth.c -> build/lib.linux-x86_64-3.8/atari_py/ale_interface/src/emucore/rsynth\n",
      "    copying atari_py/ale_interface/src/emucore/rsynth/phfeat.h -> build/lib.linux-x86_64-3.8/atari_py/ale_interface/src/emucore/rsynth\n",
      "    copying atari_py/ale_interface/src/emucore/rsynth/phones.c -> build/lib.linux-x86_64-3.8/atari_py/ale_interface/src/emucore/rsynth\n",
      "    copying atari_py/ale_interface/src/emucore/rsynth/phones.def -> build/lib.linux-x86_64-3.8/atari_py/ale_interface/src/emucore/rsynth\n",
      "    copying atari_py/ale_interface/src/emucore/rsynth/phones.h -> build/lib.linux-x86_64-3.8/atari_py/ale_interface/src/emucore/rsynth\n",
      "    copying atari_py/ale_interface/src/emucore/rsynth/phtoelm.c -> build/lib.linux-x86_64-3.8/atari_py/ale_interface/src/emucore/rsynth\n",
      "    copying atari_py/ale_interface/src/emucore/rsynth/phtoelm.def -> build/lib.linux-x86_64-3.8/atari_py/ale_interface/src/emucore/rsynth\n",
      "    copying atari_py/ale_interface/src/emucore/rsynth/phtoelm.h -> build/lib.linux-x86_64-3.8/atari_py/ale_interface/src/emucore/rsynth\n",
      "    copying atari_py/ale_interface/src/emucore/rsynth/rsynth.h -> build/lib.linux-x86_64-3.8/atari_py/ale_interface/src/emucore/rsynth\n",
      "    copying atari_py/ale_interface/src/emucore/rsynth/trie.c -> build/lib.linux-x86_64-3.8/atari_py/ale_interface/src/emucore/rsynth\n",
      "    copying atari_py/ale_interface/src/emucore/rsynth/trie.h -> build/lib.linux-x86_64-3.8/atari_py/ale_interface/src/emucore/rsynth\n",
      "    copying atari_py/ale_interface/src/emucore/rsynth/useconfig.h -> build/lib.linux-x86_64-3.8/atari_py/ale_interface/src/emucore/rsynth\n",
      "    copying atari_py/ale_interface/src/emucore/stella.pro -> build/lib.linux-x86_64-3.8/atari_py/ale_interface/src/emucore\n",
      "    creating build/lib.linux-x86_64-3.8/atari_py/ale_interface/src/environment\n",
      "    copying atari_py/ale_interface/src/environment/ale_ram.hpp -> build/lib.linux-x86_64-3.8/atari_py/ale_interface/src/environment\n",
      "    copying atari_py/ale_interface/src/environment/ale_screen.hpp -> build/lib.linux-x86_64-3.8/atari_py/ale_interface/src/environment\n",
      "    copying atari_py/ale_interface/src/environment/ale_state.cpp -> build/lib.linux-x86_64-3.8/atari_py/ale_interface/src/environment\n",
      "    copying atari_py/ale_interface/src/environment/ale_state.hpp -> build/lib.linux-x86_64-3.8/atari_py/ale_interface/src/environment\n",
      "    copying atari_py/ale_interface/src/environment/module.mk -> build/lib.linux-x86_64-3.8/atari_py/ale_interface/src/environment\n",
      "    copying atari_py/ale_interface/src/environment/phosphor_blend.cpp -> build/lib.linux-x86_64-3.8/atari_py/ale_interface/src/environment\n",
      "    copying atari_py/ale_interface/src/environment/phosphor_blend.hpp -> build/lib.linux-x86_64-3.8/atari_py/ale_interface/src/environment\n",
      "    copying atari_py/ale_interface/src/environment/stella_environment.cpp -> build/lib.linux-x86_64-3.8/atari_py/ale_interface/src/environment\n",
      "    copying atari_py/ale_interface/src/environment/stella_environment.hpp -> build/lib.linux-x86_64-3.8/atari_py/ale_interface/src/environment\n",
      "    copying atari_py/ale_interface/src/environment/stella_environment_wrapper.cpp -> build/lib.linux-x86_64-3.8/atari_py/ale_interface/src/environment\n",
      "    copying atari_py/ale_interface/src/environment/stella_environment_wrapper.hpp -> build/lib.linux-x86_64-3.8/atari_py/ale_interface/src/environment\n",
      "    creating build/lib.linux-x86_64-3.8/atari_py/ale_interface/src/external\n",
      "    creating build/lib.linux-x86_64-3.8/atari_py/ale_interface/src/external/TinyMT\n",
      "    copying atari_py/ale_interface/src/external/TinyMT/LICENSE.txt -> build/lib.linux-x86_64-3.8/atari_py/ale_interface/src/external/TinyMT\n",
      "    copying atari_py/ale_interface/src/external/TinyMT/tinymt32.c -> build/lib.linux-x86_64-3.8/atari_py/ale_interface/src/external/TinyMT\n",
      "    copying atari_py/ale_interface/src/external/TinyMT/tinymt32.h -> build/lib.linux-x86_64-3.8/atari_py/ale_interface/src/external/TinyMT\n",
      "    copying atari_py/ale_interface/src/external/module.mk -> build/lib.linux-x86_64-3.8/atari_py/ale_interface/src/external\n",
      "    creating build/lib.linux-x86_64-3.8/atari_py/ale_interface/src/games\n",
      "    copying atari_py/ale_interface/src/games/RomSettings.cpp -> build/lib.linux-x86_64-3.8/atari_py/ale_interface/src/games\n",
      "    copying atari_py/ale_interface/src/games/RomSettings.hpp -> build/lib.linux-x86_64-3.8/atari_py/ale_interface/src/games\n",
      "    copying atari_py/ale_interface/src/games/RomUtils.cpp -> build/lib.linux-x86_64-3.8/atari_py/ale_interface/src/games\n",
      "    copying atari_py/ale_interface/src/games/RomUtils.hpp -> build/lib.linux-x86_64-3.8/atari_py/ale_interface/src/games\n",
      "    copying atari_py/ale_interface/src/games/Roms.cpp -> build/lib.linux-x86_64-3.8/atari_py/ale_interface/src/games\n",
      "    copying atari_py/ale_interface/src/games/Roms.hpp -> build/lib.linux-x86_64-3.8/atari_py/ale_interface/src/games\n",
      "    copying atari_py/ale_interface/src/games/module.mk -> build/lib.linux-x86_64-3.8/atari_py/ale_interface/src/games\n",
      "    creating build/lib.linux-x86_64-3.8/atari_py/ale_interface/src/games/supported\n",
      "    copying atari_py/ale_interface/src/games/supported/Adventure.cpp -> build/lib.linux-x86_64-3.8/atari_py/ale_interface/src/games/supported\n",
      "    copying atari_py/ale_interface/src/games/supported/Adventure.hpp -> build/lib.linux-x86_64-3.8/atari_py/ale_interface/src/games/supported\n",
      "    copying atari_py/ale_interface/src/games/supported/AirRaid.cpp -> build/lib.linux-x86_64-3.8/atari_py/ale_interface/src/games/supported\n",
      "    copying atari_py/ale_interface/src/games/supported/AirRaid.hpp -> build/lib.linux-x86_64-3.8/atari_py/ale_interface/src/games/supported\n",
      "    copying atari_py/ale_interface/src/games/supported/Alien.cpp -> build/lib.linux-x86_64-3.8/atari_py/ale_interface/src/games/supported\n",
      "    copying atari_py/ale_interface/src/games/supported/Alien.hpp -> build/lib.linux-x86_64-3.8/atari_py/ale_interface/src/games/supported\n",
      "    copying atari_py/ale_interface/src/games/supported/Amidar.cpp -> build/lib.linux-x86_64-3.8/atari_py/ale_interface/src/games/supported\n",
      "    copying atari_py/ale_interface/src/games/supported/Amidar.hpp -> build/lib.linux-x86_64-3.8/atari_py/ale_interface/src/games/supported\n",
      "    copying atari_py/ale_interface/src/games/supported/Assault.cpp -> build/lib.linux-x86_64-3.8/atari_py/ale_interface/src/games/supported\n",
      "    copying atari_py/ale_interface/src/games/supported/Assault.hpp -> build/lib.linux-x86_64-3.8/atari_py/ale_interface/src/games/supported\n",
      "    copying atari_py/ale_interface/src/games/supported/Asterix.cpp -> build/lib.linux-x86_64-3.8/atari_py/ale_interface/src/games/supported\n",
      "    copying atari_py/ale_interface/src/games/supported/Asterix.hpp -> build/lib.linux-x86_64-3.8/atari_py/ale_interface/src/games/supported\n",
      "    copying atari_py/ale_interface/src/games/supported/Asteroids.cpp -> build/lib.linux-x86_64-3.8/atari_py/ale_interface/src/games/supported\n",
      "    copying atari_py/ale_interface/src/games/supported/Asteroids.hpp -> build/lib.linux-x86_64-3.8/atari_py/ale_interface/src/games/supported\n",
      "    copying atari_py/ale_interface/src/games/supported/Atlantis.cpp -> build/lib.linux-x86_64-3.8/atari_py/ale_interface/src/games/supported\n",
      "    copying atari_py/ale_interface/src/games/supported/Atlantis.hpp -> build/lib.linux-x86_64-3.8/atari_py/ale_interface/src/games/supported\n",
      "    copying atari_py/ale_interface/src/games/supported/BankHeist.cpp -> build/lib.linux-x86_64-3.8/atari_py/ale_interface/src/games/supported\n",
      "    copying atari_py/ale_interface/src/games/supported/BankHeist.hpp -> build/lib.linux-x86_64-3.8/atari_py/ale_interface/src/games/supported\n",
      "    copying atari_py/ale_interface/src/games/supported/BattleZone.cpp -> build/lib.linux-x86_64-3.8/atari_py/ale_interface/src/games/supported\n",
      "    copying atari_py/ale_interface/src/games/supported/BattleZone.hpp -> build/lib.linux-x86_64-3.8/atari_py/ale_interface/src/games/supported\n",
      "    copying atari_py/ale_interface/src/games/supported/BeamRider.cpp -> build/lib.linux-x86_64-3.8/atari_py/ale_interface/src/games/supported\n",
      "    copying atari_py/ale_interface/src/games/supported/BeamRider.hpp -> build/lib.linux-x86_64-3.8/atari_py/ale_interface/src/games/supported\n",
      "    copying atari_py/ale_interface/src/games/supported/Berzerk.cpp -> build/lib.linux-x86_64-3.8/atari_py/ale_interface/src/games/supported\n",
      "    copying atari_py/ale_interface/src/games/supported/Berzerk.hpp -> build/lib.linux-x86_64-3.8/atari_py/ale_interface/src/games/supported\n",
      "    copying atari_py/ale_interface/src/games/supported/Bowling.cpp -> build/lib.linux-x86_64-3.8/atari_py/ale_interface/src/games/supported\n",
      "    copying atari_py/ale_interface/src/games/supported/Bowling.hpp -> build/lib.linux-x86_64-3.8/atari_py/ale_interface/src/games/supported\n",
      "    copying atari_py/ale_interface/src/games/supported/Boxing.cpp -> build/lib.linux-x86_64-3.8/atari_py/ale_interface/src/games/supported\n",
      "    copying atari_py/ale_interface/src/games/supported/Boxing.hpp -> build/lib.linux-x86_64-3.8/atari_py/ale_interface/src/games/supported\n",
      "    copying atari_py/ale_interface/src/games/supported/Breakout.cpp -> build/lib.linux-x86_64-3.8/atari_py/ale_interface/src/games/supported\n",
      "    copying atari_py/ale_interface/src/games/supported/Breakout.hpp -> build/lib.linux-x86_64-3.8/atari_py/ale_interface/src/games/supported\n",
      "    copying atari_py/ale_interface/src/games/supported/Carnival.cpp -> build/lib.linux-x86_64-3.8/atari_py/ale_interface/src/games/supported\n",
      "    copying atari_py/ale_interface/src/games/supported/Carnival.hpp -> build/lib.linux-x86_64-3.8/atari_py/ale_interface/src/games/supported\n",
      "    copying atari_py/ale_interface/src/games/supported/Centipede.cpp -> build/lib.linux-x86_64-3.8/atari_py/ale_interface/src/games/supported\n",
      "    copying atari_py/ale_interface/src/games/supported/Centipede.hpp -> build/lib.linux-x86_64-3.8/atari_py/ale_interface/src/games/supported\n",
      "    copying atari_py/ale_interface/src/games/supported/ChopperCommand.cpp -> build/lib.linux-x86_64-3.8/atari_py/ale_interface/src/games/supported\n",
      "    copying atari_py/ale_interface/src/games/supported/ChopperCommand.hpp -> build/lib.linux-x86_64-3.8/atari_py/ale_interface/src/games/supported\n",
      "    copying atari_py/ale_interface/src/games/supported/CrazyClimber.cpp -> build/lib.linux-x86_64-3.8/atari_py/ale_interface/src/games/supported\n",
      "    copying atari_py/ale_interface/src/games/supported/CrazyClimber.hpp -> build/lib.linux-x86_64-3.8/atari_py/ale_interface/src/games/supported\n",
      "    copying atari_py/ale_interface/src/games/supported/Defender.cpp -> build/lib.linux-x86_64-3.8/atari_py/ale_interface/src/games/supported\n",
      "    copying atari_py/ale_interface/src/games/supported/Defender.hpp -> build/lib.linux-x86_64-3.8/atari_py/ale_interface/src/games/supported\n",
      "    copying atari_py/ale_interface/src/games/supported/DemonAttack.cpp -> build/lib.linux-x86_64-3.8/atari_py/ale_interface/src/games/supported\n",
      "    copying atari_py/ale_interface/src/games/supported/DemonAttack.hpp -> build/lib.linux-x86_64-3.8/atari_py/ale_interface/src/games/supported\n",
      "    copying atari_py/ale_interface/src/games/supported/DonkeyKong.cpp -> build/lib.linux-x86_64-3.8/atari_py/ale_interface/src/games/supported\n",
      "    copying atari_py/ale_interface/src/games/supported/DonkeyKong.hpp -> build/lib.linux-x86_64-3.8/atari_py/ale_interface/src/games/supported\n",
      "    copying atari_py/ale_interface/src/games/supported/DoubleDunk.cpp -> build/lib.linux-x86_64-3.8/atari_py/ale_interface/src/games/supported\n",
      "    copying atari_py/ale_interface/src/games/supported/DoubleDunk.hpp -> build/lib.linux-x86_64-3.8/atari_py/ale_interface/src/games/supported\n",
      "    copying atari_py/ale_interface/src/games/supported/ElevatorAction.cpp -> build/lib.linux-x86_64-3.8/atari_py/ale_interface/src/games/supported\n",
      "    copying atari_py/ale_interface/src/games/supported/ElevatorAction.hpp -> build/lib.linux-x86_64-3.8/atari_py/ale_interface/src/games/supported\n",
      "    copying atari_py/ale_interface/src/games/supported/Enduro.cpp -> build/lib.linux-x86_64-3.8/atari_py/ale_interface/src/games/supported\n",
      "    copying atari_py/ale_interface/src/games/supported/Enduro.hpp -> build/lib.linux-x86_64-3.8/atari_py/ale_interface/src/games/supported\n",
      "    copying atari_py/ale_interface/src/games/supported/FishingDerby.cpp -> build/lib.linux-x86_64-3.8/atari_py/ale_interface/src/games/supported\n",
      "    copying atari_py/ale_interface/src/games/supported/FishingDerby.hpp -> build/lib.linux-x86_64-3.8/atari_py/ale_interface/src/games/supported\n",
      "    copying atari_py/ale_interface/src/games/supported/Freeway.cpp -> build/lib.linux-x86_64-3.8/atari_py/ale_interface/src/games/supported\n",
      "    copying atari_py/ale_interface/src/games/supported/Freeway.hpp -> build/lib.linux-x86_64-3.8/atari_py/ale_interface/src/games/supported\n",
      "    copying atari_py/ale_interface/src/games/supported/Frogger.cpp -> build/lib.linux-x86_64-3.8/atari_py/ale_interface/src/games/supported\n",
      "    copying atari_py/ale_interface/src/games/supported/Frogger.hpp -> build/lib.linux-x86_64-3.8/atari_py/ale_interface/src/games/supported\n",
      "    copying atari_py/ale_interface/src/games/supported/Frostbite.cpp -> build/lib.linux-x86_64-3.8/atari_py/ale_interface/src/games/supported\n",
      "    copying atari_py/ale_interface/src/games/supported/Frostbite.hpp -> build/lib.linux-x86_64-3.8/atari_py/ale_interface/src/games/supported\n",
      "    copying atari_py/ale_interface/src/games/supported/Galaxian.cpp -> build/lib.linux-x86_64-3.8/atari_py/ale_interface/src/games/supported\n",
      "    copying atari_py/ale_interface/src/games/supported/Galaxian.hpp -> build/lib.linux-x86_64-3.8/atari_py/ale_interface/src/games/supported\n",
      "    copying atari_py/ale_interface/src/games/supported/Gopher.cpp -> build/lib.linux-x86_64-3.8/atari_py/ale_interface/src/games/supported\n",
      "    copying atari_py/ale_interface/src/games/supported/Gopher.hpp -> build/lib.linux-x86_64-3.8/atari_py/ale_interface/src/games/supported\n",
      "    copying atari_py/ale_interface/src/games/supported/Gravitar.cpp -> build/lib.linux-x86_64-3.8/atari_py/ale_interface/src/games/supported\n",
      "    copying atari_py/ale_interface/src/games/supported/Gravitar.hpp -> build/lib.linux-x86_64-3.8/atari_py/ale_interface/src/games/supported\n",
      "    copying atari_py/ale_interface/src/games/supported/Hero.cpp -> build/lib.linux-x86_64-3.8/atari_py/ale_interface/src/games/supported\n",
      "    copying atari_py/ale_interface/src/games/supported/Hero.hpp -> build/lib.linux-x86_64-3.8/atari_py/ale_interface/src/games/supported\n",
      "    copying atari_py/ale_interface/src/games/supported/IceHockey.cpp -> build/lib.linux-x86_64-3.8/atari_py/ale_interface/src/games/supported\n",
      "    copying atari_py/ale_interface/src/games/supported/IceHockey.hpp -> build/lib.linux-x86_64-3.8/atari_py/ale_interface/src/games/supported\n",
      "    copying atari_py/ale_interface/src/games/supported/JamesBond.cpp -> build/lib.linux-x86_64-3.8/atari_py/ale_interface/src/games/supported\n",
      "    copying atari_py/ale_interface/src/games/supported/JamesBond.hpp -> build/lib.linux-x86_64-3.8/atari_py/ale_interface/src/games/supported\n",
      "    copying atari_py/ale_interface/src/games/supported/JourneyEscape.cpp -> build/lib.linux-x86_64-3.8/atari_py/ale_interface/src/games/supported\n",
      "    copying atari_py/ale_interface/src/games/supported/JourneyEscape.hpp -> build/lib.linux-x86_64-3.8/atari_py/ale_interface/src/games/supported\n",
      "    copying atari_py/ale_interface/src/games/supported/Kaboom.cpp -> build/lib.linux-x86_64-3.8/atari_py/ale_interface/src/games/supported\n",
      "    copying atari_py/ale_interface/src/games/supported/Kaboom.hpp -> build/lib.linux-x86_64-3.8/atari_py/ale_interface/src/games/supported\n",
      "    copying atari_py/ale_interface/src/games/supported/Kangaroo.cpp -> build/lib.linux-x86_64-3.8/atari_py/ale_interface/src/games/supported\n",
      "    copying atari_py/ale_interface/src/games/supported/Kangaroo.hpp -> build/lib.linux-x86_64-3.8/atari_py/ale_interface/src/games/supported\n",
      "    copying atari_py/ale_interface/src/games/supported/KeystoneKapers.cpp -> build/lib.linux-x86_64-3.8/atari_py/ale_interface/src/games/supported\n",
      "    copying atari_py/ale_interface/src/games/supported/KeystoneKapers.hpp -> build/lib.linux-x86_64-3.8/atari_py/ale_interface/src/games/supported\n",
      "    copying atari_py/ale_interface/src/games/supported/Kingkong.cpp -> build/lib.linux-x86_64-3.8/atari_py/ale_interface/src/games/supported\n",
      "    copying atari_py/ale_interface/src/games/supported/Kingkong.hpp -> build/lib.linux-x86_64-3.8/atari_py/ale_interface/src/games/supported\n",
      "    copying atari_py/ale_interface/src/games/supported/Koolaid.cpp -> build/lib.linux-x86_64-3.8/atari_py/ale_interface/src/games/supported\n",
      "    copying atari_py/ale_interface/src/games/supported/Koolaid.hpp -> build/lib.linux-x86_64-3.8/atari_py/ale_interface/src/games/supported\n",
      "    copying atari_py/ale_interface/src/games/supported/Krull.cpp -> build/lib.linux-x86_64-3.8/atari_py/ale_interface/src/games/supported\n",
      "    copying atari_py/ale_interface/src/games/supported/Krull.hpp -> build/lib.linux-x86_64-3.8/atari_py/ale_interface/src/games/supported\n",
      "    copying atari_py/ale_interface/src/games/supported/KungFuMaster.cpp -> build/lib.linux-x86_64-3.8/atari_py/ale_interface/src/games/supported\n",
      "    copying atari_py/ale_interface/src/games/supported/KungFuMaster.hpp -> build/lib.linux-x86_64-3.8/atari_py/ale_interface/src/games/supported\n",
      "    copying atari_py/ale_interface/src/games/supported/LaserGates.cpp -> build/lib.linux-x86_64-3.8/atari_py/ale_interface/src/games/supported\n",
      "    copying atari_py/ale_interface/src/games/supported/LaserGates.hpp -> build/lib.linux-x86_64-3.8/atari_py/ale_interface/src/games/supported\n",
      "    copying atari_py/ale_interface/src/games/supported/LostLuggage.cpp -> build/lib.linux-x86_64-3.8/atari_py/ale_interface/src/games/supported\n",
      "    copying atari_py/ale_interface/src/games/supported/LostLuggage.hpp -> build/lib.linux-x86_64-3.8/atari_py/ale_interface/src/games/supported\n",
      "    copying atari_py/ale_interface/src/games/supported/MontezumaRevenge.cpp -> build/lib.linux-x86_64-3.8/atari_py/ale_interface/src/games/supported\n",
      "    copying atari_py/ale_interface/src/games/supported/MontezumaRevenge.hpp -> build/lib.linux-x86_64-3.8/atari_py/ale_interface/src/games/supported\n",
      "    copying atari_py/ale_interface/src/games/supported/MrDo.cpp -> build/lib.linux-x86_64-3.8/atari_py/ale_interface/src/games/supported\n",
      "    copying atari_py/ale_interface/src/games/supported/MrDo.hpp -> build/lib.linux-x86_64-3.8/atari_py/ale_interface/src/games/supported\n",
      "    copying atari_py/ale_interface/src/games/supported/MsPacman.cpp -> build/lib.linux-x86_64-3.8/atari_py/ale_interface/src/games/supported\n",
      "    copying atari_py/ale_interface/src/games/supported/MsPacman.hpp -> build/lib.linux-x86_64-3.8/atari_py/ale_interface/src/games/supported\n",
      "    copying atari_py/ale_interface/src/games/supported/NameThisGame.cpp -> build/lib.linux-x86_64-3.8/atari_py/ale_interface/src/games/supported\n",
      "    copying atari_py/ale_interface/src/games/supported/NameThisGame.hpp -> build/lib.linux-x86_64-3.8/atari_py/ale_interface/src/games/supported\n",
      "    copying atari_py/ale_interface/src/games/supported/Phoenix.cpp -> build/lib.linux-x86_64-3.8/atari_py/ale_interface/src/games/supported\n",
      "    copying atari_py/ale_interface/src/games/supported/Phoenix.hpp -> build/lib.linux-x86_64-3.8/atari_py/ale_interface/src/games/supported\n",
      "    copying atari_py/ale_interface/src/games/supported/Pitfall.cpp -> build/lib.linux-x86_64-3.8/atari_py/ale_interface/src/games/supported\n",
      "    copying atari_py/ale_interface/src/games/supported/Pitfall.hpp -> build/lib.linux-x86_64-3.8/atari_py/ale_interface/src/games/supported\n",
      "    copying atari_py/ale_interface/src/games/supported/Pong.cpp -> build/lib.linux-x86_64-3.8/atari_py/ale_interface/src/games/supported\n",
      "    copying atari_py/ale_interface/src/games/supported/Pong.hpp -> build/lib.linux-x86_64-3.8/atari_py/ale_interface/src/games/supported\n",
      "    copying atari_py/ale_interface/src/games/supported/Pooyan.cpp -> build/lib.linux-x86_64-3.8/atari_py/ale_interface/src/games/supported\n",
      "    copying atari_py/ale_interface/src/games/supported/Pooyan.hpp -> build/lib.linux-x86_64-3.8/atari_py/ale_interface/src/games/supported\n",
      "    copying atari_py/ale_interface/src/games/supported/PrivateEye.cpp -> build/lib.linux-x86_64-3.8/atari_py/ale_interface/src/games/supported\n",
      "    copying atari_py/ale_interface/src/games/supported/PrivateEye.hpp -> build/lib.linux-x86_64-3.8/atari_py/ale_interface/src/games/supported\n",
      "    copying atari_py/ale_interface/src/games/supported/QBert.cpp -> build/lib.linux-x86_64-3.8/atari_py/ale_interface/src/games/supported\n",
      "    copying atari_py/ale_interface/src/games/supported/QBert.hpp -> build/lib.linux-x86_64-3.8/atari_py/ale_interface/src/games/supported\n",
      "    copying atari_py/ale_interface/src/games/supported/RiverRaid.cpp -> build/lib.linux-x86_64-3.8/atari_py/ale_interface/src/games/supported\n",
      "    copying atari_py/ale_interface/src/games/supported/RiverRaid.hpp -> build/lib.linux-x86_64-3.8/atari_py/ale_interface/src/games/supported\n",
      "    copying atari_py/ale_interface/src/games/supported/RoadRunner.cpp -> build/lib.linux-x86_64-3.8/atari_py/ale_interface/src/games/supported\n",
      "    copying atari_py/ale_interface/src/games/supported/RoadRunner.hpp -> build/lib.linux-x86_64-3.8/atari_py/ale_interface/src/games/supported\n",
      "    copying atari_py/ale_interface/src/games/supported/RoboTank.cpp -> build/lib.linux-x86_64-3.8/atari_py/ale_interface/src/games/supported\n",
      "    copying atari_py/ale_interface/src/games/supported/RoboTank.hpp -> build/lib.linux-x86_64-3.8/atari_py/ale_interface/src/games/supported\n",
      "    copying atari_py/ale_interface/src/games/supported/Seaquest.cpp -> build/lib.linux-x86_64-3.8/atari_py/ale_interface/src/games/supported\n",
      "    copying atari_py/ale_interface/src/games/supported/Seaquest.hpp -> build/lib.linux-x86_64-3.8/atari_py/ale_interface/src/games/supported\n",
      "    copying atari_py/ale_interface/src/games/supported/SirLancelot.cpp -> build/lib.linux-x86_64-3.8/atari_py/ale_interface/src/games/supported\n",
      "    copying atari_py/ale_interface/src/games/supported/SirLancelot.hpp -> build/lib.linux-x86_64-3.8/atari_py/ale_interface/src/games/supported\n",
      "    copying atari_py/ale_interface/src/games/supported/Skiing.cpp -> build/lib.linux-x86_64-3.8/atari_py/ale_interface/src/games/supported\n",
      "    copying atari_py/ale_interface/src/games/supported/Skiing.hpp -> build/lib.linux-x86_64-3.8/atari_py/ale_interface/src/games/supported\n",
      "    copying atari_py/ale_interface/src/games/supported/Solaris.cpp -> build/lib.linux-x86_64-3.8/atari_py/ale_interface/src/games/supported\n",
      "    copying atari_py/ale_interface/src/games/supported/Solaris.hpp -> build/lib.linux-x86_64-3.8/atari_py/ale_interface/src/games/supported\n",
      "    copying atari_py/ale_interface/src/games/supported/SpaceInvaders.cpp -> build/lib.linux-x86_64-3.8/atari_py/ale_interface/src/games/supported\n",
      "    copying atari_py/ale_interface/src/games/supported/SpaceInvaders.hpp -> build/lib.linux-x86_64-3.8/atari_py/ale_interface/src/games/supported\n",
      "    copying atari_py/ale_interface/src/games/supported/StarGunner.cpp -> build/lib.linux-x86_64-3.8/atari_py/ale_interface/src/games/supported\n",
      "    copying atari_py/ale_interface/src/games/supported/StarGunner.hpp -> build/lib.linux-x86_64-3.8/atari_py/ale_interface/src/games/supported\n",
      "    copying atari_py/ale_interface/src/games/supported/Tennis.cpp -> build/lib.linux-x86_64-3.8/atari_py/ale_interface/src/games/supported\n",
      "    copying atari_py/ale_interface/src/games/supported/Tennis.hpp -> build/lib.linux-x86_64-3.8/atari_py/ale_interface/src/games/supported\n",
      "    copying atari_py/ale_interface/src/games/supported/Tetris.cpp -> build/lib.linux-x86_64-3.8/atari_py/ale_interface/src/games/supported\n",
      "    copying atari_py/ale_interface/src/games/supported/Tetris.hpp -> build/lib.linux-x86_64-3.8/atari_py/ale_interface/src/games/supported\n",
      "    copying atari_py/ale_interface/src/games/supported/TimePilot.cpp -> build/lib.linux-x86_64-3.8/atari_py/ale_interface/src/games/supported\n",
      "    copying atari_py/ale_interface/src/games/supported/TimePilot.hpp -> build/lib.linux-x86_64-3.8/atari_py/ale_interface/src/games/supported\n",
      "    copying atari_py/ale_interface/src/games/supported/Trondead.cpp -> build/lib.linux-x86_64-3.8/atari_py/ale_interface/src/games/supported\n",
      "    copying atari_py/ale_interface/src/games/supported/Trondead.hpp -> build/lib.linux-x86_64-3.8/atari_py/ale_interface/src/games/supported\n",
      "    copying atari_py/ale_interface/src/games/supported/Turmoil.cpp -> build/lib.linux-x86_64-3.8/atari_py/ale_interface/src/games/supported\n",
      "    copying atari_py/ale_interface/src/games/supported/Turmoil.hpp -> build/lib.linux-x86_64-3.8/atari_py/ale_interface/src/games/supported\n",
      "    copying atari_py/ale_interface/src/games/supported/Tutankham.cpp -> build/lib.linux-x86_64-3.8/atari_py/ale_interface/src/games/supported\n",
      "    copying atari_py/ale_interface/src/games/supported/Tutankham.hpp -> build/lib.linux-x86_64-3.8/atari_py/ale_interface/src/games/supported\n",
      "    copying atari_py/ale_interface/src/games/supported/UpNDown.cpp -> build/lib.linux-x86_64-3.8/atari_py/ale_interface/src/games/supported\n",
      "    copying atari_py/ale_interface/src/games/supported/UpNDown.hpp -> build/lib.linux-x86_64-3.8/atari_py/ale_interface/src/games/supported\n",
      "    copying atari_py/ale_interface/src/games/supported/Venture.cpp -> build/lib.linux-x86_64-3.8/atari_py/ale_interface/src/games/supported\n",
      "    copying atari_py/ale_interface/src/games/supported/Venture.hpp -> build/lib.linux-x86_64-3.8/atari_py/ale_interface/src/games/supported\n",
      "    copying atari_py/ale_interface/src/games/supported/VideoPinball.cpp -> build/lib.linux-x86_64-3.8/atari_py/ale_interface/src/games/supported\n",
      "    copying atari_py/ale_interface/src/games/supported/VideoPinball.hpp -> build/lib.linux-x86_64-3.8/atari_py/ale_interface/src/games/supported\n",
      "    copying atari_py/ale_interface/src/games/supported/WizardOfWor.cpp -> build/lib.linux-x86_64-3.8/atari_py/ale_interface/src/games/supported\n",
      "    copying atari_py/ale_interface/src/games/supported/WizardOfWor.hpp -> build/lib.linux-x86_64-3.8/atari_py/ale_interface/src/games/supported\n",
      "    copying atari_py/ale_interface/src/games/supported/YarsRevenge.cpp -> build/lib.linux-x86_64-3.8/atari_py/ale_interface/src/games/supported\n",
      "    copying atari_py/ale_interface/src/games/supported/YarsRevenge.hpp -> build/lib.linux-x86_64-3.8/atari_py/ale_interface/src/games/supported\n",
      "    copying atari_py/ale_interface/src/games/supported/Zaxxon.cpp -> build/lib.linux-x86_64-3.8/atari_py/ale_interface/src/games/supported\n",
      "    copying atari_py/ale_interface/src/games/supported/Zaxxon.hpp -> build/lib.linux-x86_64-3.8/atari_py/ale_interface/src/games/supported\n",
      "    copying atari_py/ale_interface/src/main.cpp -> build/lib.linux-x86_64-3.8/atari_py/ale_interface/src\n",
      "    copying atari_py/ale_interface/src/module.mk -> build/lib.linux-x86_64-3.8/atari_py/ale_interface/src\n",
      "    creating build/lib.linux-x86_64-3.8/atari_py/ale_interface/src/os_dependent\n",
      "    copying atari_py/ale_interface/src/os_dependent/FSNodePOSIX.cxx -> build/lib.linux-x86_64-3.8/atari_py/ale_interface/src/os_dependent\n",
      "    copying atari_py/ale_interface/src/os_dependent/FSNodeWin32.cxx -> build/lib.linux-x86_64-3.8/atari_py/ale_interface/src/os_dependent\n",
      "    copying atari_py/ale_interface/src/os_dependent/OSystemUNIX.cxx -> build/lib.linux-x86_64-3.8/atari_py/ale_interface/src/os_dependent\n",
      "    copying atari_py/ale_interface/src/os_dependent/OSystemUNIX.hxx -> build/lib.linux-x86_64-3.8/atari_py/ale_interface/src/os_dependent\n",
      "    copying atari_py/ale_interface/src/os_dependent/OSystemWin32.cxx -> build/lib.linux-x86_64-3.8/atari_py/ale_interface/src/os_dependent\n",
      "    copying atari_py/ale_interface/src/os_dependent/OSystemWin32.hxx -> build/lib.linux-x86_64-3.8/atari_py/ale_interface/src/os_dependent\n",
      "    copying atari_py/ale_interface/src/os_dependent/SettingsUNIX.cxx -> build/lib.linux-x86_64-3.8/atari_py/ale_interface/src/os_dependent\n",
      "    copying atari_py/ale_interface/src/os_dependent/SettingsUNIX.hxx -> build/lib.linux-x86_64-3.8/atari_py/ale_interface/src/os_dependent\n",
      "    copying atari_py/ale_interface/src/os_dependent/SettingsWin32.cxx -> build/lib.linux-x86_64-3.8/atari_py/ale_interface/src/os_dependent\n",
      "    copying atari_py/ale_interface/src/os_dependent/SettingsWin32.hxx -> build/lib.linux-x86_64-3.8/atari_py/ale_interface/src/os_dependent\n",
      "    copying atari_py/ale_interface/src/os_dependent/module.mk -> build/lib.linux-x86_64-3.8/atari_py/ale_interface/src/os_dependent\n",
      "    copying atari_py/atari_ntsc_rgb_palette.h -> build/lib.linux-x86_64-3.8/atari_py\n",
      "    creating build/lib.linux-x86_64-3.8/atari_py/atari_roms\n",
      "    copying atari_py/atari_roms/adventure.bin -> build/lib.linux-x86_64-3.8/atari_py/atari_roms\n",
      "    copying atari_py/atari_roms/air_raid.bin -> build/lib.linux-x86_64-3.8/atari_py/atari_roms\n",
      "    copying atari_py/atari_roms/alien.bin -> build/lib.linux-x86_64-3.8/atari_py/atari_roms\n",
      "    copying atari_py/atari_roms/amidar.bin -> build/lib.linux-x86_64-3.8/atari_py/atari_roms\n",
      "    copying atari_py/atari_roms/assault.bin -> build/lib.linux-x86_64-3.8/atari_py/atari_roms\n",
      "    copying atari_py/atari_roms/asterix.bin -> build/lib.linux-x86_64-3.8/atari_py/atari_roms\n",
      "    copying atari_py/atari_roms/asteroids.bin -> build/lib.linux-x86_64-3.8/atari_py/atari_roms\n",
      "    copying atari_py/atari_roms/atlantis.bin -> build/lib.linux-x86_64-3.8/atari_py/atari_roms\n",
      "    copying atari_py/atari_roms/bank_heist.bin -> build/lib.linux-x86_64-3.8/atari_py/atari_roms\n",
      "    copying atari_py/atari_roms/battle_zone.bin -> build/lib.linux-x86_64-3.8/atari_py/atari_roms\n",
      "    copying atari_py/atari_roms/beam_rider.bin -> build/lib.linux-x86_64-3.8/atari_py/atari_roms\n",
      "    copying atari_py/atari_roms/berzerk.bin -> build/lib.linux-x86_64-3.8/atari_py/atari_roms\n",
      "    copying atari_py/atari_roms/bowling.bin -> build/lib.linux-x86_64-3.8/atari_py/atari_roms\n",
      "    copying atari_py/atari_roms/boxing.bin -> build/lib.linux-x86_64-3.8/atari_py/atari_roms\n",
      "    copying atari_py/atari_roms/breakout.bin -> build/lib.linux-x86_64-3.8/atari_py/atari_roms\n",
      "    copying atari_py/atari_roms/carnival.bin -> build/lib.linux-x86_64-3.8/atari_py/atari_roms\n",
      "    copying atari_py/atari_roms/centipede.bin -> build/lib.linux-x86_64-3.8/atari_py/atari_roms\n",
      "    copying atari_py/atari_roms/chopper_command.bin -> build/lib.linux-x86_64-3.8/atari_py/atari_roms\n",
      "    copying atari_py/atari_roms/crazy_climber.bin -> build/lib.linux-x86_64-3.8/atari_py/atari_roms\n",
      "    copying atari_py/atari_roms/defender.bin -> build/lib.linux-x86_64-3.8/atari_py/atari_roms\n",
      "    copying atari_py/atari_roms/demon_attack.bin -> build/lib.linux-x86_64-3.8/atari_py/atari_roms\n",
      "    copying atari_py/atari_roms/double_dunk.bin -> build/lib.linux-x86_64-3.8/atari_py/atari_roms\n",
      "    copying atari_py/atari_roms/elevator_action.bin -> build/lib.linux-x86_64-3.8/atari_py/atari_roms\n",
      "    copying atari_py/atari_roms/enduro.bin -> build/lib.linux-x86_64-3.8/atari_py/atari_roms\n",
      "    copying atari_py/atari_roms/fishing_derby.bin -> build/lib.linux-x86_64-3.8/atari_py/atari_roms\n",
      "    copying atari_py/atari_roms/freeway.bin -> build/lib.linux-x86_64-3.8/atari_py/atari_roms\n",
      "    copying atari_py/atari_roms/frostbite.bin -> build/lib.linux-x86_64-3.8/atari_py/atari_roms\n",
      "    copying atari_py/atari_roms/gopher.bin -> build/lib.linux-x86_64-3.8/atari_py/atari_roms\n",
      "    copying atari_py/atari_roms/gravitar.bin -> build/lib.linux-x86_64-3.8/atari_py/atari_roms\n",
      "    copying atari_py/atari_roms/hero.bin -> build/lib.linux-x86_64-3.8/atari_py/atari_roms\n",
      "    copying atari_py/atari_roms/ice_hockey.bin -> build/lib.linux-x86_64-3.8/atari_py/atari_roms\n",
      "    copying atari_py/atari_roms/jamesbond.bin -> build/lib.linux-x86_64-3.8/atari_py/atari_roms\n",
      "    copying atari_py/atari_roms/journey_escape.bin -> build/lib.linux-x86_64-3.8/atari_py/atari_roms\n",
      "    copying atari_py/atari_roms/kaboom.bin -> build/lib.linux-x86_64-3.8/atari_py/atari_roms\n",
      "    copying atari_py/atari_roms/kangaroo.bin -> build/lib.linux-x86_64-3.8/atari_py/atari_roms\n",
      "    copying atari_py/atari_roms/krull.bin -> build/lib.linux-x86_64-3.8/atari_py/atari_roms\n",
      "    copying atari_py/atari_roms/kung_fu_master.bin -> build/lib.linux-x86_64-3.8/atari_py/atari_roms\n",
      "    copying atari_py/atari_roms/montezuma_revenge.bin -> build/lib.linux-x86_64-3.8/atari_py/atari_roms\n",
      "    copying atari_py/atari_roms/ms_pacman.bin -> build/lib.linux-x86_64-3.8/atari_py/atari_roms\n",
      "    copying atari_py/atari_roms/name_this_game.bin -> build/lib.linux-x86_64-3.8/atari_py/atari_roms\n",
      "    copying atari_py/atari_roms/phoenix.bin -> build/lib.linux-x86_64-3.8/atari_py/atari_roms\n",
      "    copying atari_py/atari_roms/pitfall.bin -> build/lib.linux-x86_64-3.8/atari_py/atari_roms\n",
      "    copying atari_py/atari_roms/pong.bin -> build/lib.linux-x86_64-3.8/atari_py/atari_roms\n",
      "    copying atari_py/atari_roms/pooyan.bin -> build/lib.linux-x86_64-3.8/atari_py/atari_roms\n",
      "    copying atari_py/atari_roms/private_eye.bin -> build/lib.linux-x86_64-3.8/atari_py/atari_roms\n",
      "    copying atari_py/atari_roms/qbert.bin -> build/lib.linux-x86_64-3.8/atari_py/atari_roms\n",
      "    copying atari_py/atari_roms/riverraid.bin -> build/lib.linux-x86_64-3.8/atari_py/atari_roms\n",
      "    copying atari_py/atari_roms/road_runner.bin -> build/lib.linux-x86_64-3.8/atari_py/atari_roms\n",
      "    copying atari_py/atari_roms/robotank.bin -> build/lib.linux-x86_64-3.8/atari_py/atari_roms\n",
      "    copying atari_py/atari_roms/seaquest.bin -> build/lib.linux-x86_64-3.8/atari_py/atari_roms\n",
      "    copying atari_py/atari_roms/skiing.bin -> build/lib.linux-x86_64-3.8/atari_py/atari_roms\n",
      "    copying atari_py/atari_roms/solaris.bin -> build/lib.linux-x86_64-3.8/atari_py/atari_roms\n",
      "    copying atari_py/atari_roms/space_invaders.bin -> build/lib.linux-x86_64-3.8/atari_py/atari_roms\n",
      "    copying atari_py/atari_roms/star_gunner.bin -> build/lib.linux-x86_64-3.8/atari_py/atari_roms\n",
      "    copying atari_py/atari_roms/tennis.bin -> build/lib.linux-x86_64-3.8/atari_py/atari_roms\n",
      "    copying atari_py/atari_roms/time_pilot.bin -> build/lib.linux-x86_64-3.8/atari_py/atari_roms\n",
      "    copying atari_py/atari_roms/tutankham.bin -> build/lib.linux-x86_64-3.8/atari_py/atari_roms\n",
      "    copying atari_py/atari_roms/up_n_down.bin -> build/lib.linux-x86_64-3.8/atari_py/atari_roms\n",
      "    copying atari_py/atari_roms/venture.bin -> build/lib.linux-x86_64-3.8/atari_py/atari_roms\n",
      "    copying atari_py/atari_roms/video_pinball.bin -> build/lib.linux-x86_64-3.8/atari_py/atari_roms\n",
      "    copying atari_py/atari_roms/wizard_of_wor.bin -> build/lib.linux-x86_64-3.8/atari_py/atari_roms\n",
      "    copying atari_py/atari_roms/yars_revenge.bin -> build/lib.linux-x86_64-3.8/atari_py/atari_roms\n",
      "    copying atari_py/atari_roms/zaxxon.bin -> build/lib.linux-x86_64-3.8/atari_py/atari_roms\n",
      "    copying atari_py/package_data.txt -> build/lib.linux-x86_64-3.8/atari_py\n",
      "    creating build/lib.linux-x86_64-3.8/atari_py/tests\n",
      "    copying atari_py/tests/test_smoke.py -> build/lib.linux-x86_64-3.8/atari_py/tests\n",
      "    copying atari_py/tests/__init__.py -> build/lib.linux-x86_64-3.8/atari_py/tests\n",
      "    warning: build_py: byte-compiling is disabled, skipping.\n",
      "    \n",
      "    running build_ext\n",
      "    Traceback (most recent call last):\n",
      "      File \"/tmp/pip-install-5q31gly7/atari-py_f83eedeca54548d0a022fc0dd72ca748/setup.py\", line 22, in run\n",
      "        subprocess.check_call(['cmake', '..'], cwd=cwd)\n",
      "      File \"/home/adwaver/.anyenv/envs/pyenv/versions/3.8.2/lib/python3.8/subprocess.py\", line 359, in check_call\n",
      "        retcode = call(*popenargs, **kwargs)\n",
      "      File \"/home/adwaver/.anyenv/envs/pyenv/versions/3.8.2/lib/python3.8/subprocess.py\", line 340, in call\n",
      "        with Popen(*popenargs, **kwargs) as p:\n",
      "      File \"/home/adwaver/.anyenv/envs/pyenv/versions/3.8.2/lib/python3.8/subprocess.py\", line 854, in __init__\n",
      "        self._execute_child(args, executable, preexec_fn, close_fds,\n",
      "      File \"/home/adwaver/.anyenv/envs/pyenv/versions/3.8.2/lib/python3.8/subprocess.py\", line 1702, in _execute_child\n",
      "        raise child_exception_type(errno_num, err_msg, err_filename)\n",
      "    FileNotFoundError: [Errno 2] No such file or directory: 'cmake'\n",
      "    \n",
      "    During handling of the above exception, another exception occurred:\n",
      "    \n",
      "    Traceback (most recent call last):\n",
      "      File \"<string>\", line 1, in <module>\n",
      "      File \"/tmp/pip-install-5q31gly7/atari-py_f83eedeca54548d0a022fc0dd72ca748/setup.py\", line 36, in <module>\n",
      "        setup(name='atari-py',\n",
      "      File \"/home/adwaver/.local/share/virtualenvs/rltrader-eJaSlovB/lib/python3.8/site-packages/setuptools/__init__.py\", line 153, in setup\n",
      "        return distutils.core.setup(**attrs)\n",
      "      File \"/home/adwaver/.anyenv/envs/pyenv/versions/3.8.2/lib/python3.8/distutils/core.py\", line 148, in setup\n",
      "        dist.run_commands()\n",
      "      File \"/home/adwaver/.anyenv/envs/pyenv/versions/3.8.2/lib/python3.8/distutils/dist.py\", line 966, in run_commands\n",
      "        self.run_command(cmd)\n",
      "      File \"/home/adwaver/.anyenv/envs/pyenv/versions/3.8.2/lib/python3.8/distutils/dist.py\", line 985, in run_command\n",
      "        cmd_obj.run()\n",
      "      File \"/home/adwaver/.local/share/virtualenvs/rltrader-eJaSlovB/lib/python3.8/site-packages/setuptools/command/install.py\", line 61, in run\n",
      "        return orig.install.run(self)\n",
      "      File \"/home/adwaver/.anyenv/envs/pyenv/versions/3.8.2/lib/python3.8/distutils/command/install.py\", line 545, in run\n",
      "        self.run_command('build')\n",
      "      File \"/home/adwaver/.anyenv/envs/pyenv/versions/3.8.2/lib/python3.8/distutils/cmd.py\", line 313, in run_command\n",
      "        self.distribution.run_command(command)\n",
      "      File \"/home/adwaver/.anyenv/envs/pyenv/versions/3.8.2/lib/python3.8/distutils/dist.py\", line 985, in run_command\n",
      "        cmd_obj.run()\n",
      "      File \"/home/adwaver/.anyenv/envs/pyenv/versions/3.8.2/lib/python3.8/distutils/command/build.py\", line 135, in run\n",
      "        self.run_command(cmd_name)\n",
      "      File \"/home/adwaver/.anyenv/envs/pyenv/versions/3.8.2/lib/python3.8/distutils/cmd.py\", line 313, in run_command\n",
      "        self.distribution.run_command(command)\n",
      "      File \"/home/adwaver/.anyenv/envs/pyenv/versions/3.8.2/lib/python3.8/distutils/dist.py\", line 985, in run_command\n",
      "        cmd_obj.run()\n",
      "      File \"/tmp/pip-install-5q31gly7/atari-py_f83eedeca54548d0a022fc0dd72ca748/setup.py\", line 28, in run\n",
      "        sys.stderr.write(\"Unable to execute '{}'. HINT: are you sure `make` is installed?\\n\".format(' '.join(cmd)))\n",
      "    NameError: name 'cmd' is not defined\n",
      "    ----------------------------------------\u001b[0m\n",
      "\u001b[31mERROR: Command errored out with exit status 1: /home/adwaver/.local/share/virtualenvs/rltrader-eJaSlovB/bin/python -u -c 'import sys, setuptools, tokenize; sys.argv[0] = '\"'\"'/tmp/pip-install-5q31gly7/atari-py_f83eedeca54548d0a022fc0dd72ca748/setup.py'\"'\"'; __file__='\"'\"'/tmp/pip-install-5q31gly7/atari-py_f83eedeca54548d0a022fc0dd72ca748/setup.py'\"'\"';f=getattr(tokenize, '\"'\"'open'\"'\"', open)(__file__);code=f.read().replace('\"'\"'\\r\\n'\"'\"', '\"'\"'\\n'\"'\"');f.close();exec(compile(code, __file__, '\"'\"'exec'\"'\"'))' install --record /tmp/pip-record-bnttju72/install-record.txt --single-version-externally-managed --compile --install-headers /home/adwaver/.local/share/virtualenvs/rltrader-eJaSlovB/include/site/python3.8/atari-py Check the logs for full command output.\u001b[0m\n",
      "\u001b[?25h"
     ]
    }
   ],
   "source": [
    "## install finrl library\n",
    "!pip install git+https://github.com/AI4Finance-LLC/FinRL-Library.git"
   ]
  },
  {
   "cell_type": "markdown",
   "metadata": {
    "id": "iXyHD6ir5sxk"
   },
   "source": [
    "\n",
    "<a id='1.2'></a>\n",
    "## 2.2. Check if the additional packages needed are present, if not install them. \n",
    "* Yahoo Finance API\n",
    "* pandas\n",
    "* numpy\n",
    "* matplotlib\n",
    "* stockstats\n",
    "* OpenAI gym\n",
    "* stable-baselines\n",
    "* tensorflow\n",
    "* pyfolio"
   ]
  },
  {
   "cell_type": "markdown",
   "metadata": {
    "id": "QG17M4JwTnSZ"
   },
   "source": [
    "<a id='1.3'></a>\n",
    "## 2.3. Import Packages"
   ]
  },
  {
   "cell_type": "code",
   "execution_count": 2,
   "metadata": {
    "colab": {
     "base_uri": "https://localhost:8080/"
    },
    "id": "0-0bsNMMTnSZ",
    "outputId": "e1c336ac-1280-4b16-b1d4-c2971d6667c2",
    "scrolled": true
   },
   "outputs": [
    {
     "name": "stderr",
     "output_type": "stream",
     "text": [
      "/home/adwaver/.local/share/virtualenvs/rltrader-eJaSlovB/lib/python3.8/site-packages/pyfolio/pos.py:26: UserWarning: Module \"zipline.assets\" not found; mutltipliers will not be applied to position notionals.\n",
      "  warnings.warn(\n"
     ]
    }
   ],
   "source": [
    "import pandas as pd\n",
    "import numpy as np\n",
    "import matplotlib\n",
    "import matplotlib.pyplot as plt\n",
    "matplotlib.use('Agg')\n",
    "import datetime\n",
    "\n",
    "from finrl.config import config\n",
    "from finrl.marketdata.yahoodownloader import YahooDownloader\n",
    "from finrl.preprocessing.preprocessors import FeatureEngineer\n",
    "from finrl.preprocessing.data import data_split\n",
    "from finrl.env.env_stocktrading import StockTradingEnv\n",
    "from finrl.model.models import DRLAgent\n",
    "from finrl.trade.backtest import BackTestStats, BaselineStats, BackTestPlot\n",
    "\n",
    "import sys\n",
    "sys.path.append(\"../FinRL-Library\")\n"
   ]
  },
  {
   "cell_type": "code",
   "execution_count": 3,
   "metadata": {
    "id": "uIPbzYs1TnSd"
   },
   "outputs": [],
   "source": [
    "#Diable the warnings\n",
    "import warnings\n",
    "warnings.filterwarnings('ignore')"
   ]
  },
  {
   "cell_type": "markdown",
   "metadata": {
    "id": "pos2IZAL54pp"
   },
   "source": [
    "<a id='1.4'></a>\n",
    "## 2.4. Create Folders"
   ]
  },
  {
   "cell_type": "code",
   "execution_count": 4,
   "metadata": {
    "id": "zp6lL6dZ53rX"
   },
   "outputs": [],
   "source": [
    "import os\n",
    "if not os.path.exists(\"./\" + config.DATA_SAVE_DIR):\n",
    "    os.makedirs(\"./\" + config.DATA_SAVE_DIR)\n",
    "if not os.path.exists(\"./\" + config.TRAINED_MODEL_DIR):\n",
    "    os.makedirs(\"./\" + config.TRAINED_MODEL_DIR)\n",
    "if not os.path.exists(\"./\" + config.TENSORBOARD_LOG_DIR):\n",
    "    os.makedirs(\"./\" + config.TENSORBOARD_LOG_DIR)\n",
    "if not os.path.exists(\"./\" + config.RESULTS_DIR):\n",
    "    os.makedirs(\"./\" + config.RESULTS_DIR)"
   ]
  },
  {
   "cell_type": "markdown",
   "metadata": {
    "id": "SBPM0sVvTnSg"
   },
   "source": [
    "<a id='2'></a>\n",
    "# Part 3. Download Data\n",
    "Yahoo Finance is a website that provides stock data, financial news, financial reports, etc. All the data provided by Yahoo Finance is free.\n",
    "* FinRL uses a class **YahooDownloader** to fetch data from Yahoo Finance API\n",
    "* Call Limit: Using the Public API (without authentication), you are limited to 2,000 requests per hour per IP (or up to a total of 48,000 requests a day).\n"
   ]
  },
  {
   "cell_type": "markdown",
   "metadata": {
    "id": "GCGVmtGzjORf"
   },
   "source": [
    "\n",
    "\n",
    "-----\n",
    "class YahooDownloader:\n",
    "    Provides methods for retrieving daily stock data from\n",
    "    Yahoo Finance API\n",
    "\n",
    "    Attributes\n",
    "    ----------\n",
    "        start_date : str\n",
    "            start date of the data (modified from config.py)\n",
    "        end_date : str\n",
    "            end date of the data (modified from config.py)\n",
    "        ticker_list : list\n",
    "            a list of stock tickers (modified from config.py)\n",
    "\n",
    "    Methods\n",
    "    -------\n",
    "    fetch_data()\n",
    "        Fetches data from yahoo API\n"
   ]
  },
  {
   "cell_type": "code",
   "execution_count": 5,
   "metadata": {
    "colab": {
     "base_uri": "https://localhost:8080/",
     "height": 35
    },
    "id": "FBEiH5gOgMOx",
    "outputId": "de388576-0110-46f4-9257-dfe327b3eac5"
   },
   "outputs": [
    {
     "data": {
      "text/plain": [
       "'2009-01-01'"
      ]
     },
     "execution_count": 5,
     "metadata": {},
     "output_type": "execute_result"
    }
   ],
   "source": [
    "# from config.py start_date is a string\n",
    "config.START_DATE"
   ]
  },
  {
   "cell_type": "code",
   "execution_count": 6,
   "metadata": {
    "colab": {
     "base_uri": "https://localhost:8080/",
     "height": 35
    },
    "id": "sWLMNQ8CgMRx",
    "outputId": "f1864c8b-2b5c-4867-9122-ccf83ebc2902"
   },
   "outputs": [
    {
     "data": {
      "text/plain": [
       "'2020-12-01'"
      ]
     },
     "execution_count": 6,
     "metadata": {},
     "output_type": "execute_result"
    }
   ],
   "source": [
    "# from config.py end_date is a string\n",
    "config.END_DATE"
   ]
  },
  {
   "cell_type": "markdown",
   "metadata": {
    "id": "AmFpuBEZhkF3"
   },
   "source": [
    "ticker_list is a list of stock tickers, in a single stock trading case, the list contains only 1 ticker"
   ]
  },
  {
   "cell_type": "code",
   "execution_count": 7,
   "metadata": {
    "colab": {
     "base_uri": "https://localhost:8080/"
    },
    "id": "JtIFikNyTnSg",
    "outputId": "4c6a860f-6944-4728-984d-d0dc8d8f2c78"
   },
   "outputs": [
    {
     "name": "stdout",
     "output_type": "stream",
     "text": [
      "[*********************100%***********************]  1 of 1 completed\n",
      "Shape of DataFrame:  (3022, 8)\n"
     ]
    }
   ],
   "source": [
    "# Download and save the data in a pandas DataFrame:\n",
    "data_df = YahooDownloader(start_date = '2009-01-01',\n",
    "                          end_date = '2021-01-01',\n",
    "                          ticker_list = ['AAPL']).fetch_data()"
   ]
  },
  {
   "cell_type": "code",
   "execution_count": 8,
   "metadata": {
    "colab": {
     "base_uri": "https://localhost:8080/"
    },
    "id": "E8ZKQmw6TnSl",
    "outputId": "954cbef4-f75b-4d4b-80f2-195eb13954ef"
   },
   "outputs": [
    {
     "data": {
      "text/plain": [
       "(3022, 8)"
      ]
     },
     "execution_count": 8,
     "metadata": {},
     "output_type": "execute_result"
    }
   ],
   "source": [
    "data_df.shape"
   ]
  },
  {
   "cell_type": "code",
   "execution_count": 9,
   "metadata": {
    "colab": {
     "base_uri": "https://localhost:8080/",
     "height": 195
    },
    "id": "Vi6D_ED6TnSs",
    "outputId": "2313cd51-596f-4a58-922b-5ec837bbcbda"
   },
   "outputs": [
    {
     "data": {
      "text/html": [
       "<div>\n",
       "<style scoped>\n",
       "    .dataframe tbody tr th:only-of-type {\n",
       "        vertical-align: middle;\n",
       "    }\n",
       "\n",
       "    .dataframe tbody tr th {\n",
       "        vertical-align: top;\n",
       "    }\n",
       "\n",
       "    .dataframe thead th {\n",
       "        text-align: right;\n",
       "    }\n",
       "</style>\n",
       "<table border=\"1\" class=\"dataframe\">\n",
       "  <thead>\n",
       "    <tr style=\"text-align: right;\">\n",
       "      <th></th>\n",
       "      <th>date</th>\n",
       "      <th>open</th>\n",
       "      <th>high</th>\n",
       "      <th>low</th>\n",
       "      <th>close</th>\n",
       "      <th>volume</th>\n",
       "      <th>tic</th>\n",
       "      <th>day</th>\n",
       "    </tr>\n",
       "  </thead>\n",
       "  <tbody>\n",
       "    <tr>\n",
       "      <th>0</th>\n",
       "      <td>2008-12-31</td>\n",
       "      <td>3.070357</td>\n",
       "      <td>3.133571</td>\n",
       "      <td>3.047857</td>\n",
       "      <td>2.625620</td>\n",
       "      <td>607541200</td>\n",
       "      <td>AAPL</td>\n",
       "      <td>2</td>\n",
       "    </tr>\n",
       "    <tr>\n",
       "      <th>1</th>\n",
       "      <td>2009-01-02</td>\n",
       "      <td>3.067143</td>\n",
       "      <td>3.251429</td>\n",
       "      <td>3.041429</td>\n",
       "      <td>2.791740</td>\n",
       "      <td>746015200</td>\n",
       "      <td>AAPL</td>\n",
       "      <td>4</td>\n",
       "    </tr>\n",
       "    <tr>\n",
       "      <th>2</th>\n",
       "      <td>2009-01-05</td>\n",
       "      <td>3.327500</td>\n",
       "      <td>3.435000</td>\n",
       "      <td>3.311071</td>\n",
       "      <td>2.909563</td>\n",
       "      <td>1181608400</td>\n",
       "      <td>AAPL</td>\n",
       "      <td>0</td>\n",
       "    </tr>\n",
       "    <tr>\n",
       "      <th>3</th>\n",
       "      <td>2009-01-06</td>\n",
       "      <td>3.426786</td>\n",
       "      <td>3.470357</td>\n",
       "      <td>3.299643</td>\n",
       "      <td>2.861573</td>\n",
       "      <td>1289310400</td>\n",
       "      <td>AAPL</td>\n",
       "      <td>1</td>\n",
       "    </tr>\n",
       "    <tr>\n",
       "      <th>4</th>\n",
       "      <td>2009-01-07</td>\n",
       "      <td>3.278929</td>\n",
       "      <td>3.303571</td>\n",
       "      <td>3.223571</td>\n",
       "      <td>2.799739</td>\n",
       "      <td>753048800</td>\n",
       "      <td>AAPL</td>\n",
       "      <td>2</td>\n",
       "    </tr>\n",
       "  </tbody>\n",
       "</table>\n",
       "</div>"
      ],
      "text/plain": [
       "         date      open      high       low     close      volume   tic  day\n",
       "0  2008-12-31  3.070357  3.133571  3.047857  2.625620   607541200  AAPL    2\n",
       "1  2009-01-02  3.067143  3.251429  3.041429  2.791740   746015200  AAPL    4\n",
       "2  2009-01-05  3.327500  3.435000  3.311071  2.909563  1181608400  AAPL    0\n",
       "3  2009-01-06  3.426786  3.470357  3.299643  2.861573  1289310400  AAPL    1\n",
       "4  2009-01-07  3.278929  3.303571  3.223571  2.799739   753048800  AAPL    2"
      ]
     },
     "execution_count": 9,
     "metadata": {},
     "output_type": "execute_result"
    }
   ],
   "source": [
    "data_df.head()"
   ]
  },
  {
   "cell_type": "markdown",
   "metadata": {
    "id": "oWiqgpLzTnS3"
   },
   "source": [
    "<a id='3'></a>\n",
    "# Part 4. Preprocess Data\n",
    "Data preprocessing is a crucial step for training a high quality machine learning model. We need to check for missing data and do feature engineering in order to convert the data into a model-ready state.\n",
    "* FinRL uses a class **FeatureEngineer** to preprocess the data\n",
    "* Add **technical indicators**. In practical trading, various information needs to be taken into account, for example the historical stock prices, current holding shares, technical indicators, etc.\n"
   ]
  },
  {
   "cell_type": "markdown",
   "metadata": {
    "id": "rJ9zmxpRks41"
   },
   "source": [
    "class FeatureEngineer:\n",
    "Provides methods for preprocessing the stock price data\n",
    "\n",
    "    Attributes\n",
    "    ----------\n",
    "        df: DataFrame\n",
    "            data downloaded from Yahoo API\n",
    "        feature_number : int\n",
    "            number of features we used\n",
    "        use_technical_indicator : boolean\n",
    "            we technical indicator or not\n",
    "        use_turbulence : boolean\n",
    "            use turbulence index or not\n",
    "\n",
    "    Methods\n",
    "    -------\n",
    "    preprocess_data()\n",
    "        main method to do the feature engineering"
   ]
  },
  {
   "cell_type": "markdown",
   "metadata": {
    "id": "tHu7i-T_wRPc"
   },
   "source": [
    "<a id='3.1'></a>\n",
    "\n",
    "## 4.1 Technical Indicators\n",
    "* FinRL uses stockstats to calcualte technical indicators such as **Moving Average Convergence Divergence (MACD)**, **Relative Strength Index (RSI)**, **Average Directional Index (ADX)**, **Commodity Channel Index (CCI)** and other various indicators and stats.\n",
    "* **stockstats**: supplies a wrapper StockDataFrame based on the **pandas.DataFrame** with inline stock statistics/indicators support.\n",
    "\n"
   ]
  },
  {
   "cell_type": "code",
   "execution_count": 10,
   "metadata": {
    "colab": {
     "base_uri": "https://localhost:8080/"
    },
    "id": "2RHwY1dHk09N",
    "outputId": "47be0df8-9e74-473e-f78e-9f267bcce3df"
   },
   "outputs": [
    {
     "name": "stdout",
     "output_type": "stream",
     "text": [
      "['macd', 'rsi_30', 'cci_30', 'dx_30']\n"
     ]
    }
   ],
   "source": [
    "## we store the stockstats technical indicator column names in config.py\n",
    "tech_indicator_list=config.TECHNICAL_INDICATORS_LIST\n",
    "print(tech_indicator_list)"
   ]
  },
  {
   "cell_type": "code",
   "execution_count": 11,
   "metadata": {
    "colab": {
     "base_uri": "https://localhost:8080/"
    },
    "id": "rImfGAfCkR8j",
    "outputId": "5b55c2c7-3217-49ad-95b7-d9af0ad91d7a"
   },
   "outputs": [
    {
     "name": "stdout",
     "output_type": "stream",
     "text": [
      "['macd', 'rsi_30', 'cci_30', 'dx_30', 'kdjk', 'open_2_sma', 'boll', 'close_10.0_le_5_c', 'wr_10', 'dma', 'trix']\n"
     ]
    }
   ],
   "source": [
    "## user can add more technical indicators\n",
    "## check https://github.com/jealous/stockstats for different names\n",
    "tech_indicator_list=tech_indicator_list+['kdjk','open_2_sma','boll','close_10.0_le_5_c','wr_10','dma','trix']\n",
    "print(tech_indicator_list)"
   ]
  },
  {
   "cell_type": "markdown",
   "metadata": {
    "id": "etvRo2rSwZPg"
   },
   "source": [
    "<a id='3.2'></a>\n",
    "## 4.2 Perform Feature Engineering"
   ]
  },
  {
   "cell_type": "code",
   "execution_count": 12,
   "metadata": {
    "colab": {
     "base_uri": "https://localhost:8080/"
    },
    "id": "SAOsx0m-9u2k",
    "outputId": "6238a0f8-e0bb-4468-ec75-ab3381ea09a9"
   },
   "outputs": [
    {
     "name": "stdout",
     "output_type": "stream",
     "text": [
      "Successfully added technical indicators\n"
     ]
    }
   ],
   "source": [
    "fe = FeatureEngineer(\n",
    "                    use_technical_indicator=True,\n",
    "                    tech_indicator_list = tech_indicator_list,\n",
    "                    use_turbulence=False,\n",
    "                    user_defined_feature = False)\n",
    "\n",
    "data_df = fe.preprocess_data(data_df)"
   ]
  },
  {
   "cell_type": "code",
   "execution_count": 13,
   "metadata": {
    "colab": {
     "base_uri": "https://localhost:8080/",
     "height": 298
    },
    "id": "wytX_qwWMHP5",
    "outputId": "8113269b-39a0-462b-80b2-b8664eb27a66"
   },
   "outputs": [
    {
     "data": {
      "text/html": [
       "<div>\n",
       "<style scoped>\n",
       "    .dataframe tbody tr th:only-of-type {\n",
       "        vertical-align: middle;\n",
       "    }\n",
       "\n",
       "    .dataframe tbody tr th {\n",
       "        vertical-align: top;\n",
       "    }\n",
       "\n",
       "    .dataframe thead th {\n",
       "        text-align: right;\n",
       "    }\n",
       "</style>\n",
       "<table border=\"1\" class=\"dataframe\">\n",
       "  <thead>\n",
       "    <tr style=\"text-align: right;\">\n",
       "      <th></th>\n",
       "      <th>date</th>\n",
       "      <th>open</th>\n",
       "      <th>high</th>\n",
       "      <th>low</th>\n",
       "      <th>close</th>\n",
       "      <th>volume</th>\n",
       "      <th>tic</th>\n",
       "      <th>day</th>\n",
       "      <th>macd</th>\n",
       "      <th>rsi_30</th>\n",
       "      <th>cci_30</th>\n",
       "      <th>dx_30</th>\n",
       "      <th>kdjk</th>\n",
       "      <th>open_2_sma</th>\n",
       "      <th>boll</th>\n",
       "      <th>close_10.0_le_5_c</th>\n",
       "      <th>wr_10</th>\n",
       "      <th>dma</th>\n",
       "      <th>trix</th>\n",
       "    </tr>\n",
       "  </thead>\n",
       "  <tbody>\n",
       "    <tr>\n",
       "      <th>0</th>\n",
       "      <td>2008-12-31</td>\n",
       "      <td>3.070357</td>\n",
       "      <td>3.133571</td>\n",
       "      <td>3.047857</td>\n",
       "      <td>2.625620</td>\n",
       "      <td>607541200</td>\n",
       "      <td>AAPL</td>\n",
       "      <td>2</td>\n",
       "      <td>0.000000</td>\n",
       "      <td>100.000000</td>\n",
       "      <td>66.666667</td>\n",
       "      <td>100.000000</td>\n",
       "      <td>-130.870722</td>\n",
       "      <td>3.070357</td>\n",
       "      <td>2.625620</td>\n",
       "      <td>1.0</td>\n",
       "      <td>592.612167</td>\n",
       "      <td>0.0</td>\n",
       "      <td>1.005509</td>\n",
       "    </tr>\n",
       "    <tr>\n",
       "      <th>1</th>\n",
       "      <td>2009-01-02</td>\n",
       "      <td>3.067143</td>\n",
       "      <td>3.251429</td>\n",
       "      <td>3.041429</td>\n",
       "      <td>2.791740</td>\n",
       "      <td>746015200</td>\n",
       "      <td>AAPL</td>\n",
       "      <td>4</td>\n",
       "      <td>0.003727</td>\n",
       "      <td>100.000000</td>\n",
       "      <td>66.666667</td>\n",
       "      <td>100.000000</td>\n",
       "      <td>-126.880332</td>\n",
       "      <td>3.068750</td>\n",
       "      <td>2.708680</td>\n",
       "      <td>2.0</td>\n",
       "      <td>218.899551</td>\n",
       "      <td>0.0</td>\n",
       "      <td>1.005509</td>\n",
       "    </tr>\n",
       "    <tr>\n",
       "      <th>2</th>\n",
       "      <td>2009-01-05</td>\n",
       "      <td>3.327500</td>\n",
       "      <td>3.435000</td>\n",
       "      <td>3.311071</td>\n",
       "      <td>2.909563</td>\n",
       "      <td>1181608400</td>\n",
       "      <td>AAPL</td>\n",
       "      <td>0</td>\n",
       "      <td>0.008403</td>\n",
       "      <td>100.000000</td>\n",
       "      <td>100.000000</td>\n",
       "      <td>100.000000</td>\n",
       "      <td>-95.755266</td>\n",
       "      <td>3.197322</td>\n",
       "      <td>2.775641</td>\n",
       "      <td>3.0</td>\n",
       "      <td>133.505133</td>\n",
       "      <td>0.0</td>\n",
       "      <td>1.000507</td>\n",
       "    </tr>\n",
       "    <tr>\n",
       "      <th>3</th>\n",
       "      <td>2009-01-06</td>\n",
       "      <td>3.426786</td>\n",
       "      <td>3.470357</td>\n",
       "      <td>3.299643</td>\n",
       "      <td>2.861573</td>\n",
       "      <td>1289310400</td>\n",
       "      <td>AAPL</td>\n",
       "      <td>1</td>\n",
       "      <td>0.008591</td>\n",
       "      <td>84.866792</td>\n",
       "      <td>64.367902</td>\n",
       "      <td>100.000000</td>\n",
       "      <td>-77.814023</td>\n",
       "      <td>3.377143</td>\n",
       "      <td>2.797124</td>\n",
       "      <td>4.0</td>\n",
       "      <td>141.931537</td>\n",
       "      <td>0.0</td>\n",
       "      <td>0.836218</td>\n",
       "    </tr>\n",
       "    <tr>\n",
       "      <th>4</th>\n",
       "      <td>2009-01-07</td>\n",
       "      <td>3.278929</td>\n",
       "      <td>3.303571</td>\n",
       "      <td>3.223571</td>\n",
       "      <td>2.799739</td>\n",
       "      <td>753048800</td>\n",
       "      <td>AAPL</td>\n",
       "      <td>2</td>\n",
       "      <td>0.006051</td>\n",
       "      <td>70.621528</td>\n",
       "      <td>6.035442</td>\n",
       "      <td>58.462756</td>\n",
       "      <td>-70.658498</td>\n",
       "      <td>3.352857</td>\n",
       "      <td>2.797647</td>\n",
       "      <td>5.0</td>\n",
       "      <td>156.347447</td>\n",
       "      <td>0.0</td>\n",
       "      <td>0.653105</td>\n",
       "    </tr>\n",
       "  </tbody>\n",
       "</table>\n",
       "</div>"
      ],
      "text/plain": [
       "         date      open      high       low     close      volume   tic  day  \\\n",
       "0  2008-12-31  3.070357  3.133571  3.047857  2.625620   607541200  AAPL    2   \n",
       "1  2009-01-02  3.067143  3.251429  3.041429  2.791740   746015200  AAPL    4   \n",
       "2  2009-01-05  3.327500  3.435000  3.311071  2.909563  1181608400  AAPL    0   \n",
       "3  2009-01-06  3.426786  3.470357  3.299643  2.861573  1289310400  AAPL    1   \n",
       "4  2009-01-07  3.278929  3.303571  3.223571  2.799739   753048800  AAPL    2   \n",
       "\n",
       "       macd      rsi_30      cci_30       dx_30        kdjk  open_2_sma  \\\n",
       "0  0.000000  100.000000   66.666667  100.000000 -130.870722    3.070357   \n",
       "1  0.003727  100.000000   66.666667  100.000000 -126.880332    3.068750   \n",
       "2  0.008403  100.000000  100.000000  100.000000  -95.755266    3.197322   \n",
       "3  0.008591   84.866792   64.367902  100.000000  -77.814023    3.377143   \n",
       "4  0.006051   70.621528    6.035442   58.462756  -70.658498    3.352857   \n",
       "\n",
       "       boll  close_10.0_le_5_c       wr_10  dma      trix  \n",
       "0  2.625620                1.0  592.612167  0.0  1.005509  \n",
       "1  2.708680                2.0  218.899551  0.0  1.005509  \n",
       "2  2.775641                3.0  133.505133  0.0  1.000507  \n",
       "3  2.797124                4.0  141.931537  0.0  0.836218  \n",
       "4  2.797647                5.0  156.347447  0.0  0.653105  "
      ]
     },
     "execution_count": 13,
     "metadata": {},
     "output_type": "execute_result"
    }
   ],
   "source": [
    "data_df.head()"
   ]
  },
  {
   "cell_type": "markdown",
   "metadata": {
    "id": "bwLhXo1cTnTQ"
   },
   "source": [
    "<a id='4'></a>\n",
    "# Part 5. Build Environment\n",
    "Considering the stochastic and interactive nature of the automated stock trading tasks, a financial task is modeled as a **Markov Decision Process (MDP)** problem. The training process involves observing stock price change, taking an action and reward's calculation to have the agent adjusting its strategy accordingly. By interacting with the environment, the trading agent will derive a trading strategy with the maximized rewards as time proceeds.\n",
    "\n",
    "Our trading environments, based on OpenAI Gym framework, simulate live stock markets with real market data according to the principle of time-driven simulation.\n",
    "\n",
    "The action space describes the allowed actions that the agent interacts with the environment. Normally, action a includes three actions: {-1, 0, 1}, where -1, 0, 1 represent selling, holding, and buying one share. Also, an action can be carried upon multiple shares. We use an action space {-k,…,-1, 0, 1, …, k}, where k denotes the number of shares to buy and -k denotes the number of shares to sell. For example, \"Buy 10 shares of AAPL\" or \"Sell 10 shares of AAPL\" are 10 or -10, respectively. The continuous action space needs to be normalized to [-1, 1], since the policy is defined on a Gaussian distribution, which needs to be normalized and symmetric."
   ]
  },
  {
   "cell_type": "markdown",
   "metadata": {
    "id": "1D1FlBdOL4b3"
   },
   "source": [
    "<a id='4.1'></a>\n",
    "## 5.1 Training & Trade data split\n",
    "* Training: 2009-01-01 to 2018-12-31\n",
    "* Trade: 2019-01-01 to 2020-09-30"
   ]
  },
  {
   "cell_type": "code",
   "execution_count": 14,
   "metadata": {
    "id": "xNOdqfTKL6K-"
   },
   "outputs": [],
   "source": [
    "#train = data_split(data_df, start = config.START_DATE, end = config.START_TRADE_DATE)\n",
    "#trade = data_split(data_df, start = config.START_TRADE_DATE, end = config.END_DATE)\n",
    "train = data_split(data_df, start = '2009-01-01', end = '2019-01-01')\n",
    "trade = data_split(data_df, start = '2019-01-01', end = '2021-01-01')\n"
   ]
  },
  {
   "cell_type": "code",
   "execution_count": 15,
   "metadata": {
    "id": "KUxOshVouLXt"
   },
   "outputs": [],
   "source": [
    "## data normalization, this part is optional, have little impact\n",
    "#feaures_list = list(train.columns)\n",
    "#feaures_list.remove('date')\n",
    "#feaures_list.remove('tic')\n",
    "#feaures_list.remove('close')\n",
    "#print(feaures_list)\n",
    "#from sklearn import preprocessing\n",
    "#data_normaliser = preprocessing.StandardScaler()\n",
    "#train[feaures_list] = data_normaliser.fit_transform(train[feaures_list])\n",
    "#trade[feaures_list] = data_normaliser.transform(trade[feaures_list])"
   ]
  },
  {
   "cell_type": "markdown",
   "metadata": {
    "id": "KMHyaSBBDGbe"
   },
   "source": [
    "<a id='4.2'></a>\n",
    "## 5.2 User-defined Environment: a simulation environment class "
   ]
  },
  {
   "cell_type": "markdown",
   "metadata": {
    "id": "90V3S7cpDcQs"
   },
   "source": [
    "<a id='4.3'></a>\n",
    "## 5.3 Initialize Environment\n",
    "* **stock dimension**: the number of unique stock tickers we use\n",
    "* **hmax**: the maximum amount of shares to buy or sell\n",
    "* **initial amount**: the amount of money we use to trade in the begining\n",
    "* **transaction cost percentage**: a per share rate for every share trade\n",
    "* **tech_indicator_list**: a list of technical indicator names (modified from config.py)"
   ]
  },
  {
   "cell_type": "code",
   "execution_count": 16,
   "metadata": {
    "colab": {
     "base_uri": "https://localhost:8080/"
    },
    "id": "OiH0xO96mGcL",
    "outputId": "490190d9-80dd-4ba0-c15f-2143cdd8341f"
   },
   "outputs": [
    {
     "data": {
      "text/plain": [
       "['macd',\n",
       " 'rsi_30',\n",
       " 'cci_30',\n",
       " 'dx_30',\n",
       " 'kdjk',\n",
       " 'open_2_sma',\n",
       " 'boll',\n",
       " 'close_10.0_le_5_c',\n",
       " 'wr_10',\n",
       " 'dma',\n",
       " 'trix']"
      ]
     },
     "execution_count": 16,
     "metadata": {},
     "output_type": "execute_result"
    }
   ],
   "source": [
    "## we store the stockstats technical indicator column names in config.py\n",
    "## check https://github.com/jealous/stockstats for different names\n",
    "tech_indicator_list"
   ]
  },
  {
   "cell_type": "code",
   "execution_count": 17,
   "metadata": {
    "colab": {
     "base_uri": "https://localhost:8080/"
    },
    "id": "GnWOKS7DyGM7",
    "outputId": "09dff84b-19e1-4c4a-c40f-d5280195eaf4"
   },
   "outputs": [
    {
     "data": {
      "text/plain": [
       "1"
      ]
     },
     "execution_count": 17,
     "metadata": {},
     "output_type": "execute_result"
    }
   ],
   "source": [
    "# the stock dimension is 1, because we only use the price data of AAPL.\n",
    "len(train.tic.unique())"
   ]
  },
  {
   "cell_type": "code",
   "execution_count": 18,
   "metadata": {
    "colab": {
     "base_uri": "https://localhost:8080/"
    },
    "id": "ipJcnLvQGAba",
    "outputId": "dc32ebc6-2191-4541-99d2-7e9861da5df6"
   },
   "outputs": [
    {
     "name": "stdout",
     "output_type": "stream",
     "text": [
      "Stock Dimension: 1, State Space: 7\n"
     ]
    }
   ],
   "source": [
    "stock_dimension = len(train.tic.unique())\n",
    "state_space = 1 + 2*stock_dimension + len(config.TECHNICAL_INDICATORS_LIST)*stock_dimension\n",
    "print(f\"Stock Dimension: {stock_dimension}, State Space: {state_space}\")\n"
   ]
  },
  {
   "cell_type": "code",
   "execution_count": 19,
   "metadata": {
    "id": "JY5wTwYjGTrg"
   },
   "outputs": [],
   "source": [
    "env_kwargs = {\n",
    "    \"hmax\": 100, \n",
    "    \"initial_amount\": 100000, \n",
    "    \"transaction_cost_pct\": 0.001, \n",
    "    \"state_space\": state_space, \n",
    "    \"stock_dim\": stock_dimension, \n",
    "    \"tech_indicator_list\": config.TECHNICAL_INDICATORS_LIST, \n",
    "    \"action_space\": stock_dimension, \n",
    "    \"reward_scaling\": 1e-4\n",
    "    \n",
    "}\n",
    "\n",
    "e_train_gym = StockTradingEnv(df = train, **env_kwargs)\n"
   ]
  },
  {
   "cell_type": "code",
   "execution_count": 20,
   "metadata": {
    "colab": {
     "base_uri": "https://localhost:8080/"
    },
    "id": "vmyi2IPnyEkP",
    "outputId": "a968a96a-a1ee-426e-eed8-ee74d20b9bb8"
   },
   "outputs": [
    {
     "name": "stdout",
     "output_type": "stream",
     "text": [
      "<class 'stable_baselines3.common.vec_env.dummy_vec_env.DummyVecEnv'>\n"
     ]
    }
   ],
   "source": [
    "env_train, _ = e_train_gym.get_sb_env()\n",
    "print(type(env_train))"
   ]
  },
  {
   "cell_type": "markdown",
   "metadata": {
    "id": "mdnzYtM1TnTW"
   },
   "source": [
    "<a id='5'></a>\n",
    "# Part 6: Implement DRL Algorithms\n",
    "* The implementation of the DRL algorithms are based on **OpenAI Baselines** and **Stable Baselines**. Stable Baselines is a fork of OpenAI Baselines, with a major structural refactoring, and code cleanups.\n",
    "* FinRL library includes fine-tuned standard DRL algorithms, such as DQN, DDPG,\n",
    "Multi-Agent DDPG, PPO, SAC, A2C and TD3. We also allow users to\n",
    "design their own DRL algorithms by adapting these DRL algorithms."
   ]
  },
  {
   "cell_type": "markdown",
   "metadata": {
    "id": "zD1NHzGyTnTc"
   },
   "source": [
    "### Model Training: 5 models, A2C DDPG, PPO, TD3, SAC\n",
    "\n"
   ]
  },
  {
   "cell_type": "markdown",
   "metadata": {},
   "source": [
    "### Model 5: World Model"
   ]
  },
  {
   "cell_type": "code",
   "execution_count": 21,
   "metadata": {},
   "outputs": [
    {
     "name": "stdout",
     "output_type": "stream",
     "text": [
      "{'batch_size': 100, 'buffer_size': 1000000, 'learning_rate': 0.001}\n",
      "Using cpu device\n"
     ]
    }
   ],
   "source": [
    "agent = DRLAgent(env = env_train)\n",
    "\n",
    "model_wm = agent.get_model(\"wm\")"
   ]
  },
  {
   "cell_type": "code",
   "execution_count": 22,
   "metadata": {},
   "outputs": [
    {
     "name": "stdout",
     "output_type": "stream",
     "text": [
      "Logging to tensorboard_log/wm/wm_63\n",
      "Train VAE...\n",
      "---------------------------------\n",
      "| time/              |          |\n",
      "|    episodes        | 4        |\n",
      "|    fps             | 627      |\n",
      "|    time_elapsed    | 16       |\n",
      "|    total timesteps | 10064    |\n",
      "| train/             |          |\n",
      "|    learning_rate   | 0.001    |\n",
      "---------------------------------\n",
      "---------------------------------\n",
      "| time/              |          |\n",
      "|    episodes        | 8        |\n",
      "|    fps             | 654      |\n",
      "|    time_elapsed    | 30       |\n",
      "|    total timesteps | 20128    |\n",
      "| train/             |          |\n",
      "|    learning_rate   | 0.001    |\n",
      "---------------------------------\n",
      "day: 2515, episode: 10\n",
      "begin_total_asset:100000.00\n",
      "end_total_asset:194738.31\n",
      "total_reward:94738.31\n",
      "total_cost: 2669.59\n",
      "total_trades: 2514\n",
      "Sharpe: 0.740\n",
      "=================================\n",
      "Train MDNRNN...\n",
      "Train Controller...\n",
      "(2_w,4mirr1)-aCMA-ES (mu_w=1.5,w_1=80%) in dimension 289 (seed=986767, Sun Mar 28 03:01:25 2021)\n"
     ]
    },
    {
     "ename": "KeyboardInterrupt",
     "evalue": "",
     "output_type": "error",
     "traceback": [
      "\u001b[0;31m---------------------------------------------------------------------------\u001b[0m",
      "\u001b[0;31mKeyboardInterrupt\u001b[0m                         Traceback (most recent call last)",
      "\u001b[0;32m<ipython-input-22-cd90f3ebf4c8>\u001b[0m in \u001b[0;36m<module>\u001b[0;34m\u001b[0m\n\u001b[0;32m----> 1\u001b[0;31m trained_wm = agent.train_model(model=model_wm, \n\u001b[0m\u001b[1;32m      2\u001b[0m                              \u001b[0mtb_log_name\u001b[0m\u001b[0;34m=\u001b[0m\u001b[0;34m'wm'\u001b[0m\u001b[0;34m,\u001b[0m\u001b[0;34m\u001b[0m\u001b[0;34m\u001b[0m\u001b[0m\n\u001b[1;32m      3\u001b[0m                              total_timesteps=30000)\n",
      "\u001b[0;32m/mnt/c/Users/adwaver/workspace/deeplab/rltrader/FinRL-Library/finrl/model/models.py\u001b[0m in \u001b[0;36mtrain_model\u001b[0;34m(self, model, tb_log_name, total_timesteps)\u001b[0m\n\u001b[1;32m    117\u001b[0m \u001b[0;34m\u001b[0m\u001b[0m\n\u001b[1;32m    118\u001b[0m     \u001b[0;32mdef\u001b[0m \u001b[0mtrain_model\u001b[0m\u001b[0;34m(\u001b[0m\u001b[0mself\u001b[0m\u001b[0;34m,\u001b[0m \u001b[0mmodel\u001b[0m\u001b[0;34m,\u001b[0m \u001b[0mtb_log_name\u001b[0m\u001b[0;34m,\u001b[0m \u001b[0mtotal_timesteps\u001b[0m\u001b[0;34m=\u001b[0m\u001b[0;36m5000\u001b[0m\u001b[0;34m)\u001b[0m\u001b[0;34m:\u001b[0m\u001b[0;34m\u001b[0m\u001b[0;34m\u001b[0m\u001b[0m\n\u001b[0;32m--> 119\u001b[0;31m         \u001b[0mmodel\u001b[0m \u001b[0;34m=\u001b[0m \u001b[0mmodel\u001b[0m\u001b[0;34m.\u001b[0m\u001b[0mlearn\u001b[0m\u001b[0;34m(\u001b[0m\u001b[0mtotal_timesteps\u001b[0m\u001b[0;34m=\u001b[0m\u001b[0mtotal_timesteps\u001b[0m\u001b[0;34m,\u001b[0m \u001b[0mtb_log_name\u001b[0m\u001b[0;34m=\u001b[0m\u001b[0mtb_log_name\u001b[0m\u001b[0;34m)\u001b[0m\u001b[0;34m\u001b[0m\u001b[0;34m\u001b[0m\u001b[0m\n\u001b[0m\u001b[1;32m    120\u001b[0m         \u001b[0;32mreturn\u001b[0m \u001b[0mmodel\u001b[0m\u001b[0;34m\u001b[0m\u001b[0;34m\u001b[0m\u001b[0m\n",
      "\u001b[0;32m/mnt/c/Users/adwaver/workspace/deeplab/rltrader/FinRL-Library/finrl/model/WorldModel/world_model.py\u001b[0m in \u001b[0;36mlearn\u001b[0;34m(self, total_timesteps, callback, log_interval, eval_env, eval_freq, n_eval_episodes, tb_log_name, eval_log_path, reset_num_timesteps)\u001b[0m\n\u001b[1;32m    478\u001b[0m             \u001b[0;32mfor\u001b[0m \u001b[0m_\u001b[0m \u001b[0;32min\u001b[0m \u001b[0mrange\u001b[0m\u001b[0;34m(\u001b[0m\u001b[0;36m16\u001b[0m\u001b[0;34m)\u001b[0m\u001b[0;34m:\u001b[0m\u001b[0;34m\u001b[0m\u001b[0;34m\u001b[0m\u001b[0m\n\u001b[1;32m    479\u001b[0m                 \u001b[0;32mwhile\u001b[0m \u001b[0mr_queue\u001b[0m\u001b[0;34m.\u001b[0m\u001b[0mempty\u001b[0m\u001b[0;34m(\u001b[0m\u001b[0;34m)\u001b[0m\u001b[0;34m:\u001b[0m\u001b[0;34m\u001b[0m\u001b[0;34m\u001b[0m\u001b[0m\n\u001b[0;32m--> 480\u001b[0;31m                     \u001b[0msleep\u001b[0m\u001b[0;34m(\u001b[0m\u001b[0;36m.1\u001b[0m\u001b[0;34m)\u001b[0m\u001b[0;34m\u001b[0m\u001b[0;34m\u001b[0m\u001b[0m\n\u001b[0m\u001b[1;32m    481\u001b[0m                 \u001b[0mr_s_id\u001b[0m\u001b[0;34m,\u001b[0m \u001b[0mr\u001b[0m \u001b[0;34m=\u001b[0m \u001b[0mr_queue\u001b[0m\u001b[0;34m.\u001b[0m\u001b[0mget\u001b[0m\u001b[0;34m(\u001b[0m\u001b[0;34m)\u001b[0m\u001b[0;34m\u001b[0m\u001b[0;34m\u001b[0m\u001b[0m\n\u001b[1;32m    482\u001b[0m                 \u001b[0mr_list\u001b[0m\u001b[0;34m[\u001b[0m\u001b[0mr_s_id\u001b[0m\u001b[0;34m]\u001b[0m \u001b[0;34m+=\u001b[0m \u001b[0mr\u001b[0m \u001b[0;34m/\u001b[0m \u001b[0;36m4\u001b[0m\u001b[0;34m\u001b[0m\u001b[0;34m\u001b[0m\u001b[0m\n",
      "\u001b[0;31mKeyboardInterrupt\u001b[0m: "
     ]
    }
   ],
   "source": [
    "trained_wm = agent.train_model(model=model_wm, \n",
    "                             tb_log_name='wm',\n",
    "                             total_timesteps=30000)"
   ]
  },
  {
   "cell_type": "markdown",
   "metadata": {
    "id": "KE1Xm9N9TnTn"
   },
   "source": [
    "### Trading\n",
    "* we use the environment class we initialized at 5.3 to create a stock trading environment\n",
    "* Assume that we have $100,000 initial capital at 2019-01-01. \n",
    "* We use the trained model of PPO to trade AAPL."
   ]
  },
  {
   "cell_type": "code",
   "execution_count": null,
   "metadata": {
    "colab": {
     "base_uri": "https://localhost:8080/",
     "height": 298
    },
    "id": "kLFUwxhCoHN_",
    "outputId": "22540921-fc5e-460b-f9ef-1438131b45d7"
   },
   "outputs": [],
   "source": [
    "trade.head()"
   ]
  },
  {
   "cell_type": "code",
   "execution_count": null,
   "metadata": {
    "id": "bLHl6V7eqV6_"
   },
   "outputs": [],
   "source": [
    "## make a prediction and get the account value change\n",
    "trade = data_split(data_df, start = '2019-01-01', end = '2021-01-01')\n",
    "\n",
    "e_trade_gym = StockTradingEnv(df = trade, **env_kwargs)\n",
    "env_trade, obs_trade = e_trade_gym.get_sb_env()\n",
    "\n",
    "df_account_value, df_actions = DRLAgent.DRL_prediction(model=trained_wm,\n",
    "                                           test_data = trade,\n",
    "                                           test_env = env_trade,\n",
    "                                           test_obs = obs_trade)"
   ]
  },
  {
   "cell_type": "markdown",
   "metadata": {
    "id": "qYXxFzD5TnTw"
   },
   "source": [
    "<a id='6'></a>\n",
    "# Part 7: Backtesting Performance\n",
    "Backtesting plays a key role in evaluating the performance of a trading strategy. Automated backtesting tool is preferred because it reduces the human error. We usually use the Quantopian pyfolio package to backtest our trading strategies. It is easy to use and consists of various individual plots that provide a comprehensive image of the performance of a trading strategy."
   ]
  },
  {
   "cell_type": "markdown",
   "metadata": {
    "id": "8GwqOO-v1NVz"
   },
   "source": [
    "<a id='6.1'></a>\n",
    "## 7.1 BackTestStats\n",
    "pass in df_account_value, this information is stored in env class\n"
   ]
  },
  {
   "cell_type": "code",
   "execution_count": null,
   "metadata": {
    "colab": {
     "base_uri": "https://localhost:8080/"
    },
    "id": "C9cpPm9YYxHC",
    "outputId": "7c7a8e34-7ed3-441d-9036-829240430843"
   },
   "outputs": [],
   "source": [
    "print(\"==============Get Backtest Results===========\")\n",
    "now = datetime.datetime.now().strftime('%Y%m%d-%Hh%M')\n",
    "\n",
    "perf_stats_all = BackTestStats(account_value=df_account_value)\n",
    "perf_stats_all = pd.DataFrame(perf_stats_all)\n",
    "perf_stats_all.to_csv(\"./\"+config.RESULTS_DIR+\"/perf_stats_all_\"+now+'.csv')"
   ]
  },
  {
   "cell_type": "code",
   "execution_count": null,
   "metadata": {
    "id": "e-Tenjb0hcNr"
   },
   "outputs": [],
   "source": []
  },
  {
   "cell_type": "markdown",
   "metadata": {
    "id": "y4Gw3HNr1TDU"
   },
   "source": [
    "<a id='6.2'></a>\n",
    "## 7.2 BackTestPlot"
   ]
  },
  {
   "cell_type": "code",
   "execution_count": null,
   "metadata": {
    "colab": {
     "base_uri": "https://localhost:8080/",
     "height": 1000
    },
    "id": "MA_8LuZE1J3X",
    "outputId": "3d2c46b2-2b6e-4cfd-9648-68ae7d37d89c"
   },
   "outputs": [],
   "source": [
    "print(\"==============Compare to AAPL itself buy-and-hold===========\")\n",
    "%matplotlib inline\n",
    "BackTestPlot(account_value=df_account_value, \n",
    "             baseline_ticker = 'AAPL',\n",
    "             baseline_start = '2019-01-01',\n",
    "             baseline_end = '2021-01-01')"
   ]
  },
  {
   "cell_type": "markdown",
   "metadata": {
    "id": "qSFMdgCJE4O-"
   },
   "source": [
    "<a id='6.3'></a>\n",
    "## 7.3 Baseline Stats"
   ]
  },
  {
   "cell_type": "code",
   "execution_count": null,
   "metadata": {
    "colab": {
     "base_uri": "https://localhost:8080/"
    },
    "id": "MpR7aQIwqdC4",
    "outputId": "24029a71-3596-4090-d7bc-7f44dd6000fc"
   },
   "outputs": [],
   "source": [
    "print(\"==============Get Baseline Stats===========\")\n",
    "baesline_perf_stats=BaselineStats('AAPL')"
   ]
  },
  {
   "cell_type": "code",
   "execution_count": null,
   "metadata": {
    "colab": {
     "base_uri": "https://localhost:8080/"
    },
    "id": "vSFRXQfYFTQf",
    "outputId": "a5951bab-aa47-4fa8-9cd9-9fc62b5b02f5"
   },
   "outputs": [],
   "source": [
    "print(\"==============Get Baseline Stats===========\")\n",
    "baesline_perf_stats=BaselineStats('^GSPC')"
   ]
  },
  {
   "cell_type": "markdown",
   "metadata": {
    "id": "tunrA4mjE9la"
   },
   "source": [
    "<a id='6.4'></a>\n",
    "## 7.4 Compare to Stock Market Index"
   ]
  },
  {
   "cell_type": "code",
   "execution_count": null,
   "metadata": {
    "colab": {
     "base_uri": "https://localhost:8080/",
     "height": 1000
    },
    "id": "5Ca2gHxi1gzX",
    "outputId": "68de7e8c-882a-4e8a-c9a9-cea8ea6ca212"
   },
   "outputs": [],
   "source": [
    "print(\"==============Compare to S&P 500===========\")\n",
    "%matplotlib inline\n",
    "# S&P 500: ^GSPC\n",
    "# Dow Jones Index: ^DJI\n",
    "# NASDAQ 100: ^NDX\n",
    "BackTestPlot(df_account_value, baseline_ticker = '^GSPC')"
   ]
  },
  {
   "cell_type": "code",
   "execution_count": null,
   "metadata": {
    "id": "3_aHGEOTCluG"
   },
   "outputs": [],
   "source": []
  }
 ],
 "metadata": {
  "colab": {
   "collapsed_sections": [
    "Y9CM5DeIr9GC",
    "9upN8FI2r_X1",
    "CiBG2ZknsG73"
   ],
   "include_colab_link": true,
   "name": "FinRL_single_stock_trading.ipynb",
   "provenance": [],
   "toc_visible": true
  },
  "kernelspec": {
   "display_name": "Python 3",
   "language": "python",
   "name": "python3"
  },
  "language_info": {
   "codemirror_mode": {
    "name": "ipython",
    "version": 3
   },
   "file_extension": ".py",
   "mimetype": "text/x-python",
   "name": "python",
   "nbconvert_exporter": "python",
   "pygments_lexer": "ipython3",
   "version": "3.8.2"
  }
 },
 "nbformat": 4,
 "nbformat_minor": 1
}
